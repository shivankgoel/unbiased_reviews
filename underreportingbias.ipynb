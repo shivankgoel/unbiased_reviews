{
 "cells": [
  {
   "cell_type": "code",
   "execution_count": 1,
   "metadata": {},
   "outputs": [
    {
     "name": "stderr",
     "output_type": "stream",
     "text": [
      "Using TensorFlow backend.\n"
     ]
    },
    {
     "name": "stdout",
     "output_type": "stream",
     "text": [
      "User Data Loaded\n",
      "Businesses Data Loaded\n",
      "Review Data Loaded\n"
     ]
    }
   ],
   "source": [
    "from helper import *\n",
    "from datasetcreator import *\n",
    "from dependencies import *\n",
    "from loaddata import review_data,business_data, rest_data, user_data, elite_udata, non_elite_udata"
   ]
  },
  {
   "cell_type": "code",
   "execution_count": 38,
   "metadata": {},
   "outputs": [],
   "source": [
    "bid_2_stars_e = review_data.loc[review_data['iselite'] == True].groupby('business_id')['stars'].apply(list).to_dict()\n",
    "bids = []\n",
    "for bid, stars in bid_2_stars_e.items():\n",
    "    if(len(stars) >= 40):\n",
    "        bids.append(bid)\n",
    "bids = set(bids)\n",
    "print(len(bids))"
   ]
  },
  {
   "cell_type": "code",
   "execution_count": 22,
   "metadata": {},
   "outputs": [],
   "source": [
    "col_list = ['user_id','review_count', 'useful', 'funny', 'cool', 'fans', 'average_stars', 'compliment_hot','compliment_more', 'compliment_profile', 'compliment_cute','compliment_list', 'compliment_note', 'compliment_plain','compliment_cool', 'compliment_funny', 'compliment_writer','compliment_photos']\n",
    "udatacontrols = user_data[col_list]\n",
    "uid2control = {x:y for x,y in zip(udatacontrols.values[:,0], udatacontrols.values[:,1:])}"
   ]
  },
  {
   "cell_type": "code",
   "execution_count": 63,
   "metadata": {},
   "outputs": [],
   "source": [
    "def give_data(review_data, uid2control, requiredstar, bids):\n",
    "    x = []\n",
    "    y = []\n",
    "    for i,review in review_data.iterrows():\n",
    "        star = review['stars']\n",
    "        uid = review['user_id']\n",
    "        controls = list(uid2control[uid])\n",
    "        if review['iselite']:\n",
    "            controls.append(1)\n",
    "        else:\n",
    "            controls.append(0)\n",
    "        if star == requiredstar:\n",
    "            y.append(1)\n",
    "        else:\n",
    "            y.append(0)\n",
    "        x.append(controls)\n",
    "    x = np.array(x)\n",
    "    y = np.array(y)\n",
    "    print(x.shape)\n",
    "    print(y.shape)\n",
    "    return x,y"
   ]
  },
  {
   "cell_type": "code",
   "execution_count": 59,
   "metadata": {},
   "outputs": [],
   "source": [
    "idx = [x in bids for x in review_data['business_id']]\n",
    "relevantreviews = review_data[idx]"
   ]
  },
  {
   "cell_type": "code",
   "execution_count": 104,
   "metadata": {},
   "outputs": [
    {
     "name": "stdout",
     "output_type": "stream",
     "text": [
      "(2455301, 18)\n",
      "(2455301,)\n"
     ]
    }
   ],
   "source": [
    "#x,y = give_data(relevantreviews, uid2control, 5, bids)\n",
    "import pickle\n",
    "x,y = pickle.load( open( \"2star.p\", \"rb\" ) )\n",
    "print(x.shape)\n",
    "print(y.shape)"
   ]
  },
  {
   "cell_type": "code",
   "execution_count": 105,
   "metadata": {},
   "outputs": [
    {
     "name": "stdout",
     "output_type": "stream",
     "text": [
      "                                 OLS Regression Results                                \n",
      "=======================================================================================\n",
      "Dep. Variable:                      y   R-squared (uncentered):                   0.067\n",
      "Model:                            OLS   Adj. R-squared (uncentered):              0.067\n",
      "Method:                 Least Squares   F-statistic:                          1.036e+04\n",
      "Date:                Sat, 11 Apr 2020   Prob (F-statistic):                        0.00\n",
      "Time:                        02:58:11   Log-Likelihood:                     -3.5449e+05\n",
      "No. Observations:             2455301   AIC:                                  7.090e+05\n",
      "Df Residuals:                 2455284   BIC:                                  7.092e+05\n",
      "Df Model:                          17                                                  \n",
      "Covariance Type:            nonrobust                                                  \n",
      "==============================================================================\n",
      "                 coef    std err          t      P>|t|      [0.025      0.975]\n",
      "------------------------------------------------------------------------------\n",
      "x1         -2.064e-06   9.91e-07     -2.082      0.037   -4.01e-06   -1.21e-07\n",
      "x2          2.766e-05    8.5e-07     32.549      0.000     2.6e-05    2.93e-05\n",
      "x3          1.367e-05   5.99e-07     22.811      0.000    1.25e-05    1.48e-05\n",
      "x4         -4.313e-05   1.07e-06    -40.268      0.000   -4.52e-05    -4.1e-05\n",
      "x5         -6.646e-05   5.52e-06    -12.048      0.000   -7.73e-05   -5.57e-05\n",
      "x6             0.0196   5.41e-05    362.604      0.000       0.019       0.020\n",
      "x7          1.329e-06   1.58e-06      0.843      0.399   -1.76e-06    4.42e-06\n",
      "x8             0.0002   2.28e-05      7.196      0.000       0.000       0.000\n",
      "x9          -6.02e-05   1.54e-05     -3.904      0.000   -9.04e-05      -3e-05\n",
      "x10         2.092e-05    1.5e-05      1.398      0.162    -8.4e-06    5.02e-05\n",
      "x11        -4.634e-05   2.97e-05     -1.561      0.119      -0.000    1.19e-05\n",
      "x12         -1.91e-06   1.15e-06     -1.661      0.097   -4.16e-06    3.44e-07\n",
      "x13        -1.226e-05   1.38e-06     -8.911      0.000    -1.5e-05   -9.56e-06\n",
      "x14         1.089e-05   1.15e-06      9.493      0.000    8.64e-06    1.31e-05\n",
      "x15         1.089e-05   1.15e-06      9.493      0.000    8.64e-06    1.31e-05\n",
      "x16        -2.232e-05   4.45e-06     -5.014      0.000    -3.1e-05   -1.36e-05\n",
      "x17        -6.343e-07   1.17e-06     -0.543      0.587   -2.92e-06    1.65e-06\n",
      "x18           -0.0106      0.000    -22.286      0.000      -0.011      -0.010\n",
      "==============================================================================\n",
      "Omnibus:                  1443670.571   Durbin-Watson:                   1.993\n",
      "Prob(Omnibus):                  0.000   Jarque-Bera (JB):          8657719.246\n",
      "Skew:                           2.992   Prob(JB):                         0.00\n",
      "Kurtosis:                       9.988   Cond. No.                     1.66e+17\n",
      "==============================================================================\n",
      "\n",
      "Warnings:\n",
      "[1] Standard Errors assume that the covariance matrix of the errors is correctly specified.\n",
      "[2] The smallest eigenvalue is 1.43e-21. This might indicate that there are\n",
      "strong multicollinearity problems or that the design matrix is singular.\n"
     ]
    }
   ],
   "source": [
    "import statsmodels.api as sm\n",
    "logit = sm.OLS(y, x)\n",
    "result = logit.fit()\n",
    "print(result.summary())"
   ]
  },
  {
   "cell_type": "code",
   "execution_count": 78,
   "metadata": {},
   "outputs": [
    {
     "name": "stdout",
     "output_type": "stream",
     "text": [
      "        Logit Marginal Effects       \n",
      "=====================================\n",
      "Dep. Variable:                      y\n",
      "Method:                          dydx\n",
      "At:                              mean\n",
      "==============================================================================\n",
      "                dy/dx    std err          z      P>|z|      [0.025      0.975]\n",
      "------------------------------------------------------------------------------\n",
      "x1         -6.199e-06        nan        nan        nan         nan         nan\n",
      "x2          1.819e-05      0.595   3.06e-05      1.000      -1.165       1.165\n",
      "x3          1.137e-05      0.334    3.4e-05      1.000      -0.654       0.654\n",
      "x4          -3.17e-05      1.051  -3.02e-05      1.000      -2.061       2.061\n",
      "x5         -2.083e-05      4.663  -4.47e-06      1.000      -9.139       9.139\n",
      "x6            -0.0459        nan        nan        nan         nan         nan\n",
      "x7          -9.69e-07        nan        nan        nan         nan         nan\n",
      "x8             0.0001     10.046   1.05e-05      1.000     -19.690      19.690\n",
      "x9         -3.827e-05      6.580  -5.82e-06      1.000     -12.897      12.897\n",
      "x10         2.502e-05        nan        nan        nan         nan         nan\n",
      "x11        -4.126e-05        nan        nan        nan         nan         nan\n",
      "x12         -6.61e-07      0.169   -3.9e-06      1.000      -0.332       0.332\n",
      "x13        -1.324e-05        nan        nan        nan         nan         nan\n",
      "x14         1.199e-05        nan        nan        nan         nan         nan\n",
      "x15         6.169e-06        nan        nan        nan         nan         nan\n",
      "x16         4.795e-07        nan        nan        nan         nan         nan\n",
      "x17        -5.121e-06        nan        nan        nan         nan         nan\n",
      "x18           -0.0087        nan        nan        nan         nan         nan\n",
      "==============================================================================\n"
     ]
    }
   ],
   "source": [
    "mgef  = result.get_margeff('mean')\n",
    "print(mgef.summary())"
   ]
  },
  {
   "cell_type": "code",
   "execution_count": null,
   "metadata": {},
   "outputs": [],
   "source": []
  }
 ],
 "metadata": {
  "kernelspec": {
   "display_name": "Python 3",
   "language": "python",
   "name": "python3"
  },
  "language_info": {
   "codemirror_mode": {
    "name": "ipython",
    "version": 3
   },
   "file_extension": ".py",
   "mimetype": "text/x-python",
   "name": "python",
   "nbconvert_exporter": "python",
   "pygments_lexer": "ipython3",
   "version": "3.7.2"
  }
 },
 "nbformat": 4,
 "nbformat_minor": 4
}
