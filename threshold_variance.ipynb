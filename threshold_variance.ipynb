{
 "cells": [
  {
   "cell_type": "code",
   "execution_count": 1,
   "metadata": {},
   "outputs": [
    {
     "name": "stderr",
     "output_type": "stream",
     "text": [
      "Using TensorFlow backend.\n"
     ]
    },
    {
     "name": "stdout",
     "output_type": "stream",
     "text": [
      "User Data Loaded\n",
      "Businesses Data Loaded\n",
      "Review Data Loaded\n"
     ]
    }
   ],
   "source": [
    "from helper import *\n",
    "from datasetcreator import *\n",
    "from dependencies import *\n",
    "from loaddata import review_data,business_data, rest_data, user_data, elite_udata, non_elite_udata"
   ]
  },
  {
   "cell_type": "code",
   "execution_count": 2,
   "metadata": {},
   "outputs": [
    {
     "name": "stdout",
     "output_type": "stream",
     "text": [
      "Size of Vocabulary:  15374\n"
     ]
    }
   ],
   "source": [
    "cv, bid_2_stars_ne, review_data_ne, bid_2_textenc = give_text_feats_tfidf(review_data)\n",
    "bid_2_stars_e = review_data.loc[review_data['iselite'] == True].groupby('business_id')['stars'].apply(list).to_dict()"
   ]
  },
  {
   "cell_type": "code",
   "execution_count": 6,
   "metadata": {},
   "outputs": [
    {
     "name": "stdout",
     "output_type": "stream",
     "text": [
      "Dimension of Our Dataset:  (5926, 15421)\n",
      "Linear\n",
      "MSE:  0.0276\n",
      "R-Squared :  0.8433\n",
      "Margin  0.10  0.20  0.30  0.40  0.50\n",
      "        48.65  79.17  92.66  97.47  99.16\n",
      " \n"
     ]
    }
   ],
   "source": [
    "xfeat,yfeat= create_dataset_everything_text(40,business_data,bid_2_stars_ne,bid_2_stars_e,bid_2_textenc)\n",
    "xtrain, xtest, ytrain, ytest = give_train_test(xfeat, yfeat)\n",
    "model = give_reg_model_linear()\n",
    "model, rsqr  = test_model(model,xtrain,ytrain,xtest,ytest)"
   ]
  },
  {
   "cell_type": "code",
   "execution_count": 19,
   "metadata": {},
   "outputs": [],
   "source": [
    "plt.rcParams.update({'font.size': 24})"
   ]
  },
  {
   "cell_type": "code",
   "execution_count": 24,
   "metadata": {},
   "outputs": [
    {
     "data": {
      "text/plain": [
       "[<matplotlib.lines.Line2D at 0x1bdff98e80>]"
      ]
     },
     "execution_count": 24,
     "metadata": {},
     "output_type": "execute_result"
    }
   ],
   "source": [
    "%matplotlib qt\n",
    "plt.xticks([10+(x*10) for x in range(0,10) ])\n",
    "plt.xlabel('Threshold for Number of Elites')\n",
    "plt.ylabel('Variance')\n",
    "plt.plot([10+(x*10) for x in range(0,10) ],varlist[:10],'g-', linewidth=2, marker='o')"
   ]
  },
  {
   "cell_type": "code",
   "execution_count": 26,
   "metadata": {},
   "outputs": [
    {
     "name": "stdout",
     "output_type": "stream",
     "text": [
      "Dimension of Our Dataset:  (26288, 15421)\n",
      "10 0.2645024714504392\n",
      "Linear\n",
      "MSE:  0.09\n",
      "R-Squared :  0.6592\n",
      "Margin  0.10  0.20  0.30  0.40  0.50\n",
      "        30.37  54.51  72.63  83.61  90.70\n",
      " \n",
      "10 0.6591591975455866\n",
      "Dimension of Our Dataset:  (13370, 15421)\n",
      "20 0.20776865672362269\n",
      "Linear\n",
      "MSE:  0.0492\n",
      "R-Squared :  0.7495\n",
      "Margin  0.10  0.20  0.30  0.40  0.50\n",
      "        38.11  67.05  84.70  93.16  96.52\n",
      " \n",
      "20 0.7494598488324766\n",
      "Dimension of Our Dataset:  (8404, 15421)\n",
      "30 0.18550796339194378\n",
      "Linear\n",
      "MSE:  0.0378\n",
      "R-Squared :  0.7957\n",
      "Margin  0.10  0.20  0.30  0.40  0.50\n",
      "        42.65  73.17  88.58  95.36  98.39\n",
      " \n",
      "30 0.795708997920014\n",
      "Dimension of Our Dataset:  (5926, 15421)\n",
      "40 0.1726736899476909\n",
      "Linear\n",
      "MSE:  0.0276\n",
      "R-Squared :  0.8433\n",
      "Margin  0.10  0.20  0.30  0.40  0.50\n",
      "        48.65  79.17  92.66  97.47  99.16\n",
      " \n",
      "40 0.8433042527710763\n",
      "Dimension of Our Dataset:  (4325, 15421)\n",
      "50 0.16702400540637652\n",
      "Linear\n",
      "MSE:  0.0261\n",
      "R-Squared :  0.8407\n",
      "Margin  0.10  0.20  0.30  0.40  0.50\n",
      "        46.82  81.04  93.87  98.03  99.42\n",
      " \n",
      "50 0.8407163804879559\n",
      "Dimension of Our Dataset:  (3327, 15421)\n",
      "60 0.16413592103612631\n",
      "Linear\n",
      "MSE:  0.0266\n",
      "R-Squared :  0.8564\n",
      "Margin  0.10  0.20  0.30  0.40  0.50\n",
      "        51.80  83.78  94.29  98.05  98.95\n",
      " \n",
      "60 0.856412504790633\n",
      "Dimension of Our Dataset:  (2652, 15421)\n",
      "70 0.16023959603426774\n",
      "Linear\n",
      "MSE:  0.0229\n",
      "R-Squared :  0.8721\n",
      "Margin  0.10  0.20  0.30  0.40  0.50\n",
      "        57.25  83.62  93.79  97.55  99.06\n",
      " \n",
      "70 0.8721423087902478\n",
      "Dimension of Our Dataset:  (2147, 15421)\n",
      "80 0.15693635558123054\n",
      "Linear\n",
      "MSE:  0.0199\n",
      "R-Squared :  0.8705\n",
      "Margin  0.10  0.20  0.30  0.40  0.50\n",
      "        55.35  85.81  95.81  98.60  99.77\n",
      " \n",
      "80 0.8704536248009894\n",
      "Dimension of Our Dataset:  (1755, 15421)\n",
      "90 0.1545074317217972\n",
      "Linear\n",
      "MSE:  0.0174\n",
      "R-Squared :  0.8821\n",
      "Margin  0.10  0.20  0.30  0.40  0.50\n",
      "        64.39  89.17  96.30  99.43  99.43\n",
      " \n",
      "90 0.8820852458668105\n",
      "Dimension of Our Dataset:  (1449, 15421)\n",
      "100 0.14817887232201019\n",
      "Linear\n",
      "MSE:  0.0202\n",
      "R-Squared :  0.8571\n",
      "Margin  0.10  0.20  0.30  0.40  0.50\n",
      "        55.17  86.55  95.52  97.93  99.31\n",
      " \n",
      "100 0.8570649896411278\n"
     ]
    }
   ],
   "source": [
    "i=10\n",
    "rlist = []\n",
    "varlist = []\n",
    "while(i<101):\n",
    "    xfeat,yfeat= create_dataset_everything_text(i,business_data,bid_2_stars_ne,bid_2_stars_e,bid_2_textenc)\n",
    "    varlist.append(np.var(yfeat))\n",
    "    print(i,np.var(yfeat))\n",
    "    xtrain, xtest, ytrain, ytest = give_train_test(xfeat, yfeat)\n",
    "    model = give_reg_model_linear()\n",
    "    model, rsqr  = test_model(model,xtrain,ytrain,xtest,ytest)\n",
    "    rlist.append(rsqr)\n",
    "    print(i,rsqr)\n",
    "    i+=10"
   ]
  },
  {
   "cell_type": "code",
   "execution_count": 35,
   "metadata": {},
   "outputs": [
    {
     "data": {
      "text/plain": [
       "[<matplotlib.lines.Line2D at 0x1bdf559b00>]"
      ]
     },
     "execution_count": 35,
     "metadata": {},
     "output_type": "execute_result"
    }
   ],
   "source": [
    "%matplotlib qt\n",
    "plt.xlabel('Threshold for Number of Elites')\n",
    "plt.ylabel('R-Squared')\n",
    "plt.xticks([10+(x*10) for x in range(0,10) ])\n",
    "plt.plot([10+(x*10) for x in range(0,10) ],rlist[:10],'r-', marker='o')"
   ]
  },
  {
   "cell_type": "code",
   "execution_count": null,
   "metadata": {},
   "outputs": [],
   "source": []
  }
 ],
 "metadata": {
  "kernelspec": {
   "display_name": "Python 3",
   "language": "python",
   "name": "python3"
  },
  "language_info": {
   "codemirror_mode": {
    "name": "ipython",
    "version": 3
   },
   "file_extension": ".py",
   "mimetype": "text/x-python",
   "name": "python",
   "nbconvert_exporter": "python",
   "pygments_lexer": "ipython3",
   "version": "3.7.2"
  }
 },
 "nbformat": 4,
 "nbformat_minor": 4
}
