{
 "cells": [
  {
   "cell_type": "code",
   "execution_count": 1,
   "metadata": {},
   "outputs": [
    {
     "name": "stderr",
     "output_type": "stream",
     "text": [
      "Using TensorFlow backend.\n"
     ]
    },
    {
     "name": "stdout",
     "output_type": "stream",
     "text": [
      "User Data Loaded\n",
      "Businesses Data Loaded\n",
      "Review Data Loaded\n"
     ]
    }
   ],
   "source": [
    "from helper import *\n",
    "from datasetcreator import *\n",
    "from dependencies import *\n",
    "from loaddata import review_data,business_data, rest_data, user_data, elite_udata, non_elite_udata"
   ]
  },
  {
   "cell_type": "code",
   "execution_count": 2,
   "metadata": {},
   "outputs": [
    {
     "name": "stdout",
     "output_type": "stream",
     "text": [
      "Size of Vocabulary:  15374\n"
     ]
    }
   ],
   "source": [
    "cv, bid_2_stars_ne, review_data_ne, bid_2_textenc = give_text_feats_tfidf(review_data)\n",
    "bid_2_stars_e = review_data.loc[review_data['iselite'] == True].groupby('business_id')['stars'].apply(list).to_dict()"
   ]
  },
  {
   "cell_type": "code",
   "execution_count": 3,
   "metadata": {},
   "outputs": [
    {
     "name": "stdout",
     "output_type": "stream",
     "text": [
      "Dimension of Our Dataset:  (5927, 5)\n"
     ]
    }
   ],
   "source": [
    "xfeat,yfeat= create_dataset_distribution(40,business_data,bid_2_stars_ne,bid_2_stars_e)\n",
    "xtrain, xtest, ytrain, ytest = give_train_test(xfeat, yfeat)"
   ]
  },
  {
   "cell_type": "code",
   "execution_count": 4,
   "metadata": {},
   "outputs": [
    {
     "name": "stdout",
     "output_type": "stream",
     "text": [
      "Linear\n",
      "MSE:  0.0377\n",
      "R-Squared :  0.7814\n",
      "Margin  0.10  0.20  0.30  0.40  0.50\n",
      "        41.23  71.67  88.03  95.11  98.48\n",
      " \n"
     ]
    },
    {
     "data": {
      "text/plain": [
       "(Ridge(alpha=0.8, copy_X=True, fit_intercept=True, max_iter=None,\n",
       "    normalize=False, random_state=None, solver='auto', tol=0.001),\n",
       " 0.7814282118828823)"
      ]
     },
     "execution_count": 4,
     "metadata": {},
     "output_type": "execute_result"
    }
   ],
   "source": [
    "model = give_reg_model_linear()\n",
    "test_model(model,xtrain,ytrain,xtest,ytest)"
   ]
  },
  {
   "cell_type": "code",
   "execution_count": 5,
   "metadata": {},
   "outputs": [
    {
     "name": "stdout",
     "output_type": "stream",
     "text": [
      "[-0.86, -0.56, -0.61, 0.57, 1.46]\n",
      "3.34\n"
     ]
    }
   ],
   "source": [
    "print([round(x,2) for x in model.coef_])\n",
    "print(round(model.intercept_,2))"
   ]
  },
  {
   "cell_type": "code",
   "execution_count": 7,
   "metadata": {},
   "outputs": [
    {
     "data": {
      "text/plain": [
       "<matplotlib.legend.Legend at 0x1ab63c0a20>"
      ]
     },
     "execution_count": 7,
     "metadata": {},
     "output_type": "execute_result"
    }
   ],
   "source": [
    "%matplotlib qt\n",
    "plt.xlabel(\"Ratings\")\n",
    "plt.ylabel(\"Ratings\")\n",
    "x = [1,2,3,4,5]\n",
    "plt.plot(x,[x+model.intercept_ for x in model.coef_],'b-', linewidth = 2, marker='o', label = 'Adjusted Ratings')\n",
    "plt.plot(x,[model.intercept_ for t in range(1,6)],'g-', linewidth = 2, label = 'Intercept')\n",
    "plt.plot(x,x,'r-', linewidth = 2, label = 'Actual Ratings', marker='o')\n",
    "plt.legend(loc='best')"
   ]
  },
  {
   "cell_type": "code",
   "execution_count": 8,
   "metadata": {},
   "outputs": [
    {
     "name": "stdout",
     "output_type": "stream",
     "text": [
      "Dimension of Our Dataset:  (5927, 6)\n"
     ]
    }
   ],
   "source": [
    "xfeat,yfeat= create_dataset_distribution_and_avg(40,business_data,bid_2_stars_ne,bid_2_stars_e)\n",
    "xtrain, xtest, ytrain, ytest = give_train_test(xfeat, yfeat)"
   ]
  },
  {
   "cell_type": "code",
   "execution_count": 9,
   "metadata": {},
   "outputs": [
    {
     "name": "stdout",
     "output_type": "stream",
     "text": [
      "Linear\n",
      "MSE:  0.0377\n",
      "R-Squared :  0.7816\n",
      "Margin  0.10  0.20  0.30  0.40  0.50\n",
      "        40.89  71.67  87.86  95.11  98.40\n",
      " \n"
     ]
    },
    {
     "data": {
      "text/plain": [
       "(Ridge(alpha=0.8, copy_X=True, fit_intercept=True, max_iter=None,\n",
       "    normalize=False, random_state=None, solver='auto', tol=0.001),\n",
       " 0.7816265961872231)"
      ]
     },
     "execution_count": 9,
     "metadata": {},
     "output_type": "execute_result"
    }
   ],
   "source": [
    "model = give_reg_model_linear()\n",
    "test_model(model,xtrain,ytrain,xtest,ytest)"
   ]
  },
  {
   "cell_type": "code",
   "execution_count": 10,
   "metadata": {},
   "outputs": [
    {
     "name": "stdout",
     "output_type": "stream",
     "text": [
      "Dimension of Our Dataset:  (5927, 41)\n",
      "Linear\n",
      "MSE:  0.0419\n",
      "R-Squared :  0.7569\n",
      "Margin  0.10  0.20  0.30  0.40  0.50\n",
      "        39.38  69.14  86.00  94.69  98.23\n",
      " \n"
     ]
    },
    {
     "data": {
      "text/plain": [
       "(Ridge(alpha=0.8, copy_X=True, fit_intercept=True, max_iter=None,\n",
       "    normalize=False, random_state=None, solver='auto', tol=0.001),\n",
       " 0.7568775433470997)"
      ]
     },
     "execution_count": 10,
     "metadata": {},
     "output_type": "execute_result"
    }
   ],
   "source": [
    "xfeat,yfeat= create_dataset_buckets(40,business_data,bid_2_stars_ne,bid_2_stars_e)\n",
    "xtrain, xtest, ytrain, ytest = give_train_test(xfeat, yfeat)\n",
    "model = give_reg_model_linear()\n",
    "test_model(model,xtrain,ytrain,xtest,ytest)"
   ]
  },
  {
   "cell_type": "code",
   "execution_count": 11,
   "metadata": {},
   "outputs": [
    {
     "name": "stdout",
     "output_type": "stream",
     "text": [
      "[0.0, 0.0, 0.0, -1.0131, -0.8088, -0.9236, -1.126, -0.7107, -1.0237, -0.8628, -0.6896, -0.6192, -0.6938, -0.5555, -0.4951, -0.4412, -0.3368, -0.2672, -0.1998, -0.1594, -0.0935, -0.0768, 0.0088, 0.0678, 0.1072, 0.1778, 0.2529, 0.3438, 0.4178, 0.4616, 0.5436, 0.6007, 0.6661, 0.7218, 0.7852, 0.8918, 0.9396, 1.0424, 1.1268, 0.9117, 1.0292]\n",
      "3.52\n"
     ]
    }
   ],
   "source": [
    "print([round(x,4) for x in model.coef_])\n",
    "print(round(model.intercept_,2))"
   ]
  },
  {
   "cell_type": "code",
   "execution_count": 12,
   "metadata": {},
   "outputs": [
    {
     "data": {
      "text/plain": [
       "<matplotlib.legend.Legend at 0x1ac8964a90>"
      ]
     },
     "execution_count": 12,
     "metadata": {},
     "output_type": "execute_result"
    }
   ],
   "source": [
    "%matplotlib qt\n",
    "plt.xlabel(\"Ratings\")\n",
    "plt.ylabel(\"Ratings\")\n",
    "x = [1+0.1*t for t in range(3,41)]\n",
    "plt.plot(x,[x+model.intercept_ for x in model.coef_][3:],'b-', linewidth = 2, marker='o', label = 'Adjusted Ratings')\n",
    "plt.plot(x,[model.intercept_ for t in range(3,41)],'g-', linewidth = 2, label = 'Intercept')\n",
    "plt.plot(x,x,'r-', linewidth = 2, label = 'Actual Ratings', marker='o')\n",
    "plt.legend(loc='best')"
   ]
  },
  {
   "cell_type": "code",
   "execution_count": 33,
   "metadata": {},
   "outputs": [
    {
     "name": "stdout",
     "output_type": "stream",
     "text": [
      "Dimension of Our Dataset:  (5927, 46)\n",
      "Linear\n",
      "MSE:  0.0369\n",
      "R-Squared :  0.7863\n",
      "Margin  0.10  0.20  0.30  0.40  0.50\n",
      "        41.32  72.34  89.12  95.28  98.48\n",
      " \n"
     ]
    },
    {
     "data": {
      "text/plain": [
       "Ridge(alpha=0.8, copy_X=True, fit_intercept=True, max_iter=None,\n",
       "   normalize=False, random_state=None, solver='auto', tol=0.001)"
      ]
     },
     "execution_count": 33,
     "metadata": {},
     "output_type": "execute_result"
    }
   ],
   "source": [
    "xfeat,yfeat= create_dataset_buckets_and_distri(40,business_data,bid_2_stars_ne,bid_2_stars_e)\n",
    "xtrain, xtest, ytrain, ytest = give_train_test(xfeat, yfeat)\n",
    "model = give_reg_model_linear()\n",
    "test_model(model,xtrain,ytrain,xtest,ytest)"
   ]
  },
  {
   "cell_type": "code",
   "execution_count": 45,
   "metadata": {},
   "outputs": [
    {
     "name": "stdout",
     "output_type": "stream",
     "text": [
      "Dimension of Our Dataset:  (5927, 47)\n",
      "Linear\n",
      "MSE:  0.0368\n",
      "R-Squared :  0.7864\n",
      "Margin  0.10  0.20  0.30  0.40  0.50\n",
      "        40.64  72.68  89.12  95.19  98.57\n",
      " \n"
     ]
    },
    {
     "data": {
      "text/plain": [
       "Ridge(alpha=0.8, copy_X=True, fit_intercept=True, max_iter=None,\n",
       "   normalize=False, random_state=None, solver='auto', tol=0.001)"
      ]
     },
     "execution_count": 45,
     "metadata": {},
     "output_type": "execute_result"
    }
   ],
   "source": [
    "xfeat,yfeat= create_dataset_everything(40,business_data,bid_2_stars_ne,bid_2_stars_e)\n",
    "xtrain, xtest, ytrain, ytest = give_train_test(xfeat, yfeat)\n",
    "model = give_reg_model_linear()\n",
    "test_model(model,xtrain,ytrain,xtest,ytest)"
   ]
  },
  {
   "cell_type": "code",
   "execution_count": 48,
   "metadata": {},
   "outputs": [
    {
     "name": "stdout",
     "output_type": "stream",
     "text": [
      "Dimension of Our Dataset:  (5926, 15374)\n",
      "Linear\n",
      "MSE:  0.0434\n",
      "R-Squared :  0.7537\n",
      "Margin  0.10  0.20  0.30  0.40  0.50\n",
      "        41.23  71.84  86.68  94.10  97.55\n",
      " \n",
      "SVM\n",
      "MSE:  0.0666\n",
      "R-Squared :  0.6215\n",
      "Margin  0.10  0.20  0.30  0.40  0.50\n",
      "        35.75  62.23  80.02  88.87  93.59\n",
      " \n"
     ]
    },
    {
     "data": {
      "text/plain": [
       "Pipeline(memory=None,\n",
       "     steps=[('normalization', StandardScaler(copy=True, with_mean=True, with_std=True)), ('pca', PCA(copy=True, iterated_power='auto', n_components=125, random_state=None,\n",
       "  svd_solver='auto', tol=0.0, whiten=False)), ('svm', SVR(C=1.0, cache_size=200, coef0=0.0, degree=3, epsilon=0.2, gamma='scale',\n",
       "  kernel='rbf', max_iter=-1, shrinking=True, tol=0.001, verbose=False))])"
      ]
     },
     "execution_count": 48,
     "metadata": {},
     "output_type": "execute_result"
    }
   ],
   "source": [
    "xfeat,yfeat= create_dataset_onlytext(40,business_data,bid_2_stars_ne,bid_2_stars_e)\n",
    "xtrain, xtest, ytrain, ytest = give_train_test(xfeat, yfeat)\n",
    "model = give_reg_model_linear()\n",
    "test_model(model,xtrain,ytrain,xtest,ytest)\n",
    "model = give_reg_model_svm()\n",
    "test_model(model,xtrain,ytrain,xtest,ytest)"
   ]
  },
  {
   "cell_type": "code",
   "execution_count": 49,
   "metadata": {},
   "outputs": [
    {
     "name": "stdout",
     "output_type": "stream",
     "text": [
      "Random Forest\n",
      "MSE:  0.0781\n",
      "R-Squared :  0.5565\n",
      "Margin  0.10  0.20  0.30  0.40  0.50\n",
      "        30.10  56.41  75.72  85.75  92.41\n",
      " \n"
     ]
    },
    {
     "data": {
      "text/plain": [
       "Pipeline(memory=None,\n",
       "     steps=[('pca', PCA(copy=True, iterated_power='auto', n_components=125, random_state=None,\n",
       "  svd_solver='auto', tol=0.0, whiten=False)), ('rf_regression', RandomForestRegressor(bootstrap=True, criterion='mse', max_depth=None,\n",
       "           max_features='auto', max_leaf_nodes=None,\n",
       "           min_impurit...imators=100, n_jobs=None,\n",
       "           oob_score=False, random_state=4, verbose=0, warm_start=False))])"
      ]
     },
     "execution_count": 49,
     "metadata": {},
     "output_type": "execute_result"
    }
   ],
   "source": [
    "model = give_reg_model_rf()\n",
    "test_model(model,xtrain,ytrain,xtest,ytest)"
   ]
  },
  {
   "cell_type": "code",
   "execution_count": 50,
   "metadata": {},
   "outputs": [
    {
     "name": "stdout",
     "output_type": "stream",
     "text": [
      "Gradient Boost\n",
      "MSE:  0.0429\n",
      "R-Squared :  0.7565\n",
      "Margin  0.10  0.20  0.30  0.40  0.50\n",
      "        41.82  69.39  87.61  94.27  97.47\n",
      " \n"
     ]
    },
    {
     "data": {
      "text/plain": [
       "GradientBoostingRegressor(alpha=0.9, criterion='friedman_mse', init=None,\n",
       "             learning_rate=0.1, loss='ls', max_depth=3, max_features=None,\n",
       "             max_leaf_nodes=None, min_impurity_decrease=0.0,\n",
       "             min_impurity_split=None, min_samples_leaf=1,\n",
       "             min_samples_split=2, min_weight_fraction_leaf=0.0,\n",
       "             n_estimators=100, n_iter_no_change=None, presort='auto',\n",
       "             random_state=4, subsample=1.0, tol=0.0001,\n",
       "             validation_fraction=0.1, verbose=0, warm_start=False)"
      ]
     },
     "execution_count": 50,
     "metadata": {},
     "output_type": "execute_result"
    }
   ],
   "source": [
    "model = give_reg_model_gb()\n",
    "test_model(model,xtrain,ytrain,xtest,ytest)"
   ]
  },
  {
   "cell_type": "code",
   "execution_count": 51,
   "metadata": {},
   "outputs": [
    {
     "name": "stdout",
     "output_type": "stream",
     "text": [
      "Bagging\n",
      "MSE:  0.0441\n",
      "R-Squared :  0.7496\n",
      "Margin  0.10  0.20  0.30  0.40  0.50\n",
      "        40.22  71.16  86.26  93.93  97.30\n",
      " \n"
     ]
    },
    {
     "data": {
      "text/plain": [
       "BaggingRegressor(base_estimator=Ridge(alpha=0.8, copy_X=True, fit_intercept=True, max_iter=None,\n",
       "   normalize=False, random_state=None, solver='auto', tol=0.001),\n",
       "         bootstrap=True, bootstrap_features=False, max_features=1.0,\n",
       "         max_samples=1.0, n_estimators=100, n_jobs=None, oob_score=False,\n",
       "         random_state=0, verbose=0, warm_start=False)"
      ]
     },
     "execution_count": 51,
     "metadata": {},
     "output_type": "execute_result"
    }
   ],
   "source": [
    "model = give_reg_model_bagging()\n",
    "test_model(model,xtrain,ytrain,xtest,ytest)"
   ]
  },
  {
   "cell_type": "code",
   "execution_count": 55,
   "metadata": {},
   "outputs": [
    {
     "name": "stdout",
     "output_type": "stream",
     "text": [
      "Dimension of Our Dataset:  (5926, 15421)\n",
      "Linear\n",
      "MSE:  0.0276\n",
      "R-Squared :  0.8433\n",
      "Margin  0.10  0.20  0.30  0.40  0.50\n",
      "        48.65  79.17  92.66  97.47  99.16\n",
      " \n"
     ]
    },
    {
     "data": {
      "text/plain": [
       "Ridge(alpha=0.8, copy_X=True, fit_intercept=True, max_iter=None,\n",
       "   normalize=False, random_state=None, solver='auto', tol=0.001)"
      ]
     },
     "execution_count": 55,
     "metadata": {},
     "output_type": "execute_result"
    }
   ],
   "source": [
    "xfeat,yfeat= create_dataset_everything_text(40,business_data,bid_2_stars_ne,bid_2_stars_e)\n",
    "xtrain, xtest, ytrain, ytest = give_train_test(xfeat, yfeat)\n",
    "model = give_reg_model_linear()\n",
    "test_model(model,xtrain,ytrain,xtest,ytest)"
   ]
  },
  {
   "cell_type": "code",
   "execution_count": null,
   "metadata": {},
   "outputs": [],
   "source": []
  },
  {
   "cell_type": "code",
   "execution_count": null,
   "metadata": {},
   "outputs": [],
   "source": []
  }
 ],
 "metadata": {
  "kernelspec": {
   "display_name": "Python 3",
   "language": "python",
   "name": "python3"
  },
  "language_info": {
   "codemirror_mode": {
    "name": "ipython",
    "version": 3
   },
   "file_extension": ".py",
   "mimetype": "text/x-python",
   "name": "python",
   "nbconvert_exporter": "python",
   "pygments_lexer": "ipython3",
   "version": "3.7.2"
  }
 },
 "nbformat": 4,
 "nbformat_minor": 4
}
