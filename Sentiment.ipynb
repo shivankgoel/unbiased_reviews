{
 "cells": [
  {
   "cell_type": "code",
   "execution_count": 1,
   "metadata": {},
   "outputs": [
    {
     "name": "stdout",
     "output_type": "stream",
     "text": [
      "User Data Loaded\n",
      "Businesses Data Loaded\n",
      "Review Data Loaded\n"
     ]
    }
   ],
   "source": [
    "from helper import *\n",
    "from datasetcreator import *\n",
    "from dependencies import *\n",
    "from loaddata import review_data,business_data, rest_data, user_data, elite_udata, non_elite_udata"
   ]
  },
  {
   "cell_type": "code",
   "execution_count": 23,
   "metadata": {},
   "outputs": [],
   "source": [
    "def give_raw_text2(review_data, elitedata = False):\n",
    "    review_data_ne = review_data.loc[review_data['iselite'] == elitedata]\n",
    "    bid_2_textrev = review_data_ne.groupby('business_id')['text'].apply(list).to_dict()\n",
    "    return bid_2_textrev"
   ]
  },
  {
   "cell_type": "code",
   "execution_count": 24,
   "metadata": {},
   "outputs": [],
   "source": [
    "bid_2_text_elite = give_raw_text2(review_data, elitedata = True)\n",
    "bid_2_text_non_elite = give_raw_text2(review_data, elitedata = False)"
   ]
  },
  {
   "cell_type": "code",
   "execution_count": 3,
   "metadata": {},
   "outputs": [],
   "source": [
    "from vaderSentiment.vaderSentiment import SentimentIntensityAnalyzer\n",
    "sa = SentimentIntensityAnalyzer()"
   ]
  },
  {
   "cell_type": "code",
   "execution_count": 5,
   "metadata": {},
   "outputs": [
    {
     "data": {
      "text/plain": [
       "{'neg': 0.545, 'neu': 0.455, 'pos': 0.0, 'compound': -0.5562}"
      ]
     },
     "execution_count": 5,
     "metadata": {},
     "output_type": "execute_result"
    }
   ],
   "source": [
    "sa.polarity_scores('I am hating it!')"
   ]
  },
  {
   "cell_type": "code",
   "execution_count": 8,
   "metadata": {},
   "outputs": [],
   "source": [
    "def give_bids(min_thold, bdata, bid_2_stars, bid_2_stars_e):\n",
    "    ans = []\n",
    "    bids = bdata['business_id'].values\n",
    "    for bid in bids:\n",
    "        if bid in bid_2_stars and bid in bid_2_stars_e and len(bid_2_stars_e[bid]) >= min_thold:\n",
    "              ans.append(bid)\n",
    "    return ans"
   ]
  },
  {
   "cell_type": "code",
   "execution_count": 9,
   "metadata": {},
   "outputs": [],
   "source": [
    "bid_2_stars_ne = review_data.loc[review_data['iselite'] == False].groupby('business_id')['stars'].apply(list).to_dict()\n",
    "bid_2_stars_e = review_data.loc[review_data['iselite'] == True].groupby('business_id')['stars'].apply(list).to_dict()"
   ]
  },
  {
   "cell_type": "code",
   "execution_count": 13,
   "metadata": {},
   "outputs": [],
   "source": [
    "bids = give_bids(40, business_data, bid_2_stars_ne, bid_2_stars_e)"
   ]
  },
  {
   "cell_type": "code",
   "execution_count": 18,
   "metadata": {},
   "outputs": [
    {
     "data": {
      "text/plain": [
       "[0.053, 0.81, 0.138, 1.0]"
      ]
     },
     "execution_count": 18,
     "metadata": {},
     "output_type": "execute_result"
    }
   ],
   "source": [
    "list(sa.polarity_scores(bid_2_text_elite[bids[0]]).values())"
   ]
  },
  {
   "cell_type": "code",
   "execution_count": 30,
   "metadata": {},
   "outputs": [
    {
     "name": "stdout",
     "output_type": "stream",
     "text": [
      "Completed  0\n",
      "Completed  100\n",
      "Completed  200\n",
      "Completed  300\n",
      "Completed  400\n",
      "Completed  500\n",
      "Completed  600\n",
      "Completed  700\n",
      "Completed  800\n",
      "Completed  900\n",
      "Completed  1000\n",
      "Completed  1100\n",
      "Completed  1200\n",
      "Completed  1300\n",
      "Completed  1400\n",
      "Completed  1500\n",
      "Completed  1600\n",
      "Completed  1700\n",
      "Completed  1800\n",
      "Completed  1900\n",
      "Completed  2000\n",
      "Completed  2100\n",
      "Completed  2200\n",
      "Completed  2300\n",
      "Completed  2400\n",
      "Completed  2500\n",
      "Completed  2600\n",
      "Completed  2700\n",
      "Completed  2800\n",
      "Completed  2900\n",
      "Completed  3000\n",
      "Completed  3100\n",
      "Completed  3200\n",
      "Completed  3300\n",
      "Completed  3400\n",
      "Completed  3500\n",
      "Completed  3600\n",
      "Completed  3700\n",
      "Completed  3800\n",
      "Completed  3900\n",
      "Completed  4000\n",
      "Completed  4100\n",
      "Completed  4200\n",
      "Completed  4300\n",
      "Completed  4400\n",
      "Completed  4500\n",
      "Completed  4600\n",
      "Completed  4700\n",
      "Completed  4800\n",
      "Completed  4900\n",
      "Completed  5000\n",
      "Completed  5100\n",
      "Completed  5200\n",
      "Completed  5300\n",
      "Completed  5400\n",
      "Completed  5500\n",
      "Completed  5600\n",
      "Completed  5700\n",
      "Completed  5800\n",
      "Completed  5900\n"
     ]
    }
   ],
   "source": [
    "elite_sentiments = []\n",
    "for i in range(len(bids)):\n",
    "    for text in bid_2_text_elite[bids[i]]:\n",
    "        elite_sentiments.append(list(sa.polarity_scores(text).values()))\n",
    "    if i%100 == 0:\n",
    "        print(\"Completed \", i)\n",
    "        "
   ]
  },
  {
   "cell_type": "code",
   "execution_count": 31,
   "metadata": {},
   "outputs": [],
   "source": [
    "pickle.dump( elite_sentiments , open( \"sentiment_elite.p\", \"wb\" ) )"
   ]
  },
  {
   "cell_type": "code",
   "execution_count": 33,
   "metadata": {},
   "outputs": [
    {
     "data": {
      "text/plain": [
       "564922"
      ]
     },
     "execution_count": 33,
     "metadata": {},
     "output_type": "execute_result"
    }
   ],
   "source": [
    "len(elite_sentiments)"
   ]
  },
  {
   "cell_type": "code",
   "execution_count": 34,
   "metadata": {},
   "outputs": [
    {
     "name": "stdout",
     "output_type": "stream",
     "text": [
      "Completed  0\n",
      "Completed  100\n",
      "Completed  200\n",
      "Completed  300\n",
      "Completed  400\n",
      "Completed  500\n",
      "Completed  600\n",
      "Completed  700\n",
      "Completed  800\n",
      "Completed  900\n",
      "Completed  1000\n",
      "Completed  1100\n",
      "Completed  1200\n",
      "Completed  1300\n",
      "Completed  1400\n",
      "Completed  1500\n",
      "Completed  1600\n",
      "Completed  1700\n",
      "Completed  1800\n",
      "Completed  1900\n",
      "Completed  2000\n",
      "Completed  2100\n",
      "Completed  2200\n",
      "Completed  2300\n",
      "Completed  2400\n",
      "Completed  2500\n",
      "Completed  2600\n",
      "Completed  2700\n",
      "Completed  2800\n",
      "Completed  2900\n",
      "Completed  3000\n",
      "Completed  3100\n",
      "Completed  3200\n",
      "Completed  3300\n",
      "Completed  3400\n",
      "Completed  3500\n",
      "Completed  3600\n",
      "Completed  3700\n",
      "Completed  3800\n",
      "Completed  3900\n",
      "Completed  4000\n",
      "Completed  4100\n",
      "Completed  4200\n",
      "Completed  4300\n",
      "Completed  4400\n",
      "Completed  4500\n",
      "Completed  4600\n",
      "Completed  4700\n",
      "Completed  4800\n",
      "Completed  4900\n",
      "Completed  5000\n",
      "Completed  5100\n",
      "Completed  5200\n",
      "Completed  5300\n",
      "Completed  5400\n",
      "Completed  5500\n",
      "Completed  5600\n",
      "Completed  5700\n",
      "Completed  5800\n"
     ]
    },
    {
     "ename": "TypeError",
     "evalue": "'float' object is not iterable",
     "output_type": "error",
     "traceback": [
      "\u001b[0;31m---------------------------------------------------------------------------\u001b[0m",
      "\u001b[0;31mTypeError\u001b[0m                                 Traceback (most recent call last)",
      "\u001b[0;32m<ipython-input-34-619ccd9f0a0f>\u001b[0m in \u001b[0;36m<module>\u001b[0;34m\u001b[0m\n\u001b[1;32m      2\u001b[0m \u001b[0;32mfor\u001b[0m \u001b[0mi\u001b[0m \u001b[0;32min\u001b[0m \u001b[0mrange\u001b[0m\u001b[0;34m(\u001b[0m\u001b[0mlen\u001b[0m\u001b[0;34m(\u001b[0m\u001b[0mbids\u001b[0m\u001b[0;34m)\u001b[0m\u001b[0;34m)\u001b[0m\u001b[0;34m:\u001b[0m\u001b[0;34m\u001b[0m\u001b[0;34m\u001b[0m\u001b[0m\n\u001b[1;32m      3\u001b[0m     \u001b[0;32mfor\u001b[0m \u001b[0mtext\u001b[0m \u001b[0;32min\u001b[0m \u001b[0mbid_2_text_non_elite\u001b[0m\u001b[0;34m[\u001b[0m\u001b[0mbids\u001b[0m\u001b[0;34m[\u001b[0m\u001b[0mi\u001b[0m\u001b[0;34m]\u001b[0m\u001b[0;34m]\u001b[0m\u001b[0;34m:\u001b[0m\u001b[0;34m\u001b[0m\u001b[0;34m\u001b[0m\u001b[0m\n\u001b[0;32m----> 4\u001b[0;31m         \u001b[0mnon_elite_sentiments\u001b[0m\u001b[0;34m.\u001b[0m\u001b[0mappend\u001b[0m\u001b[0;34m(\u001b[0m\u001b[0mlist\u001b[0m\u001b[0;34m(\u001b[0m\u001b[0msa\u001b[0m\u001b[0;34m.\u001b[0m\u001b[0mpolarity_scores\u001b[0m\u001b[0;34m(\u001b[0m\u001b[0mtext\u001b[0m\u001b[0;34m)\u001b[0m\u001b[0;34m.\u001b[0m\u001b[0mvalues\u001b[0m\u001b[0;34m(\u001b[0m\u001b[0;34m)\u001b[0m\u001b[0;34m)\u001b[0m\u001b[0;34m)\u001b[0m\u001b[0;34m\u001b[0m\u001b[0;34m\u001b[0m\u001b[0m\n\u001b[0m\u001b[1;32m      5\u001b[0m     \u001b[0;32mif\u001b[0m \u001b[0mi\u001b[0m\u001b[0;34m%\u001b[0m\u001b[0;36m100\u001b[0m \u001b[0;34m==\u001b[0m \u001b[0;36m0\u001b[0m\u001b[0;34m:\u001b[0m\u001b[0;34m\u001b[0m\u001b[0;34m\u001b[0m\u001b[0m\n\u001b[1;32m      6\u001b[0m         \u001b[0mprint\u001b[0m\u001b[0;34m(\u001b[0m\u001b[0;34m\"Completed \"\u001b[0m\u001b[0;34m,\u001b[0m \u001b[0mi\u001b[0m\u001b[0;34m)\u001b[0m\u001b[0;34m\u001b[0m\u001b[0;34m\u001b[0m\u001b[0m\n",
      "\u001b[0;32m~/Documents/Anaconda/anaconda3/envs/dl/lib/python3.7/site-packages/vaderSentiment/vaderSentiment.py\u001b[0m in \u001b[0;36mpolarity_scores\u001b[0;34m(self, text)\u001b[0m\n\u001b[1;32m    239\u001b[0m         \u001b[0mtext_no_emoji\u001b[0m \u001b[0;34m=\u001b[0m \u001b[0;34m\"\"\u001b[0m\u001b[0;34m\u001b[0m\u001b[0;34m\u001b[0m\u001b[0m\n\u001b[1;32m    240\u001b[0m         \u001b[0mprev_space\u001b[0m \u001b[0;34m=\u001b[0m \u001b[0;32mTrue\u001b[0m\u001b[0;34m\u001b[0m\u001b[0;34m\u001b[0m\u001b[0m\n\u001b[0;32m--> 241\u001b[0;31m         \u001b[0;32mfor\u001b[0m \u001b[0mchr\u001b[0m \u001b[0;32min\u001b[0m \u001b[0mtext\u001b[0m\u001b[0;34m:\u001b[0m\u001b[0;34m\u001b[0m\u001b[0;34m\u001b[0m\u001b[0m\n\u001b[0m\u001b[1;32m    242\u001b[0m             \u001b[0;32mif\u001b[0m \u001b[0mchr\u001b[0m \u001b[0;32min\u001b[0m \u001b[0mself\u001b[0m\u001b[0;34m.\u001b[0m\u001b[0memojis\u001b[0m\u001b[0;34m:\u001b[0m\u001b[0;34m\u001b[0m\u001b[0;34m\u001b[0m\u001b[0m\n\u001b[1;32m    243\u001b[0m                 \u001b[0;31m# get the textual description\u001b[0m\u001b[0;34m\u001b[0m\u001b[0;34m\u001b[0m\u001b[0;34m\u001b[0m\u001b[0m\n",
      "\u001b[0;31mTypeError\u001b[0m: 'float' object is not iterable"
     ]
    }
   ],
   "source": [
    "non_elite_sentiments = []\n",
    "for i in range(len(bids)):\n",
    "    for text in bid_2_text_non_elite[bids[i]]:\n",
    "        non_elite_sentiments.append(list(sa.polarity_scores(text).values()))\n",
    "    if i%100 == 0:\n",
    "        print(\"Completed \", i)"
   ]
  },
  {
   "cell_type": "code",
   "execution_count": 36,
   "metadata": {},
   "outputs": [
    {
     "data": {
      "text/plain": [
       "1866803"
      ]
     },
     "execution_count": 36,
     "metadata": {},
     "output_type": "execute_result"
    }
   ],
   "source": [
    "len(non_elite_sentiments)"
   ]
  },
  {
   "cell_type": "code",
   "execution_count": 37,
   "metadata": {},
   "outputs": [],
   "source": [
    "pickle.dump( non_elite_sentiments , open( \"sentiment_non_elite.p\", \"wb\" ) )"
   ]
  },
  {
   "cell_type": "code",
   "execution_count": 38,
   "metadata": {},
   "outputs": [],
   "source": [
    "elite_sentiments = np.array(elite_sentiments)\n",
    "non_elite_sentiments = np.array(non_elite_sentiments)"
   ]
  },
  {
   "cell_type": "code",
   "execution_count": 48,
   "metadata": {},
   "outputs": [
    {
     "name": "stdout",
     "output_type": "stream",
     "text": [
      "[0.03523794 0.78480585 0.17995689 0.8300631 ]\n"
     ]
    },
    {
     "data": {
      "image/png": "[encoded data removed]",
      "text/plain": [
       "<Figure size 432x288 with 1 Axes>"
      ]
     },
     "metadata": {},
     "output_type": "display_data"
    }
   ],
   "source": [
    "e_ans = np.mean(elite_sentiments, axis = 0)\n",
    "print(e_ans)\n",
    "plt.bar(['neg','neutral','pos', 'compound'], e_ans)\n",
    "plt.xlabel('Sentiments')\n",
    "plt.ylabel('Average Sentiment Value')\n",
    "plt.title('Curve for Elite Reviews')\n",
    "plt.show()"
   ]
  },
  {
   "cell_type": "code",
   "execution_count": 49,
   "metadata": {},
   "outputs": [
    {
     "name": "stdout",
     "output_type": "stream",
     "text": [
      "[0.04109263 0.74834471 0.21056222 0.68115416]\n"
     ]
    },
    {
     "data": {
      "image/png": "[encoded data removed]",
      "text/plain": [
       "<Figure size 432x288 with 1 Axes>"
      ]
     },
     "metadata": {},
     "output_type": "display_data"
    }
   ],
   "source": [
    "ne_ans = np.mean(non_elite_sentiments, axis = 0)\n",
    "print(ne_ans)\n",
    "plt.bar(['neg','neutral','pos', 'compound'], e_ans)\n",
    "plt.xlabel('Sentiments')\n",
    "plt.ylabel('Average Sentiment Value')\n",
    "plt.title('Curve for Elite Reviews')\n",
    "plt.show()"
   ]
  },
  {
   "cell_type": "code",
   "execution_count": 54,
   "metadata": {},
   "outputs": [],
   "source": [
    "%matplotlib qt\n",
    "\n",
    "# set width of bar\n",
    "barWidth = 0.25\n",
    " \n",
    "# Set position of bar on X axis\n",
    "r1 = np.arange(len(e_ans))\n",
    "r2 = [x + barWidth for x in r1]\n",
    " \n",
    "# Make the plot\n",
    "plt.bar(r1, e_ans, color='#7f6d5f', width=barWidth, edgecolor='white', label='Elite Reviews')\n",
    "plt.bar(r2, ne_ans, color='#557f2d', width=barWidth, edgecolor='white', label='Non-Elite Reviews')\n",
    " \n",
    "# Add xticks on the middle of the group bars\n",
    "plt.xlabel('group', fontweight='bold')\n",
    "plt.xticks([r + barWidth for r in range(len(e_ans))], ['Negative', 'Neutral', 'Positive',  'Compound'])\n",
    " \n",
    "# Create legend & Show graphic\n",
    "plt.legend()\n",
    "plt.show()\n"
   ]
  },
  {
   "cell_type": "code",
   "execution_count": 59,
   "metadata": {},
   "outputs": [
    {
     "data": {
      "text/plain": [
       "array([0.056, 0.047, 0.   , ..., 0.   , 0.   , 0.054])"
      ]
     },
     "execution_count": 59,
     "metadata": {},
     "output_type": "execute_result"
    }
   ],
   "source": [
    "elite_sentiments[:,0]\n"
   ]
  },
  {
   "cell_type": "code",
   "execution_count": 61,
   "metadata": {},
   "outputs": [
    {
     "name": "stdout",
     "output_type": "stream",
     "text": [
      "0.0\n",
      "0.0\n",
      "0.0\n",
      "0.0\n"
     ]
    }
   ],
   "source": [
    "print(stats.ttest_ind(a=elite_sentiments[:,0],b=non_elite_sentiments[:,0],equal_var=False).pvalue)\n",
    "print(stats.ttest_ind(a=elite_sentiments[:,1],b=non_elite_sentiments[:,1],equal_var=False).pvalue)\n",
    "print(stats.ttest_ind(a=elite_sentiments[:,2],b=non_elite_sentiments[:,2],equal_var=False).pvalue)\n",
    "print(stats.ttest_ind(a=elite_sentiments[:,3],b=non_elite_sentiments[:,3],equal_var=False).pvalue)"
   ]
  },
  {
   "cell_type": "code",
   "execution_count": null,
   "metadata": {},
   "outputs": [],
   "source": []
  }
 ],
 "metadata": {
  "kernelspec": {
   "display_name": "Python 3",
   "language": "python",
   "name": "python3"
  },
  "language_info": {
   "codemirror_mode": {
    "name": "ipython",
    "version": 3
   },
   "file_extension": ".py",
   "mimetype": "text/x-python",
   "name": "python",
   "nbconvert_exporter": "python",
   "pygments_lexer": "ipython3",
   "version": "3.7.7"
  }
 },
 "nbformat": 4,
 "nbformat_minor": 4
}
