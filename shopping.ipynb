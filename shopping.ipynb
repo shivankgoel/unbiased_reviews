{
 "cells": [
  {
   "cell_type": "code",
   "execution_count": 1,
   "metadata": {},
   "outputs": [
    {
     "name": "stderr",
     "output_type": "stream",
     "text": [
      "Using TensorFlow backend.\n"
     ]
    },
    {
     "name": "stdout",
     "output_type": "stream",
     "text": [
      "User Data Loaded\n",
      "Businesses Data Loaded\n",
      "Review Data Loaded\n"
     ]
    }
   ],
   "source": [
    "from dependencies import *\n",
    "from helper import *\n",
    "from loaddata import review_data,business_data, user_data, elite_udata, non_elite_udata"
   ]
  },
  {
   "cell_type": "code",
   "execution_count": 2,
   "metadata": {},
   "outputs": [
    {
     "name": "stdout",
     "output_type": "stream",
     "text": [
      "Size of Vocabulary:  15374\n"
     ]
    }
   ],
   "source": [
    "cv, bid_2_stars_ne, review_data_ne, bid_2_textenc = give_text_feats_tfidf(review_data)\n",
    "bid_2_stars_e = review_data.loc[review_data['iselite'] == True].groupby('business_id')['stars'].apply(list).to_dict()"
   ]
  },
  {
   "cell_type": "code",
   "execution_count": 3,
   "metadata": {},
   "outputs": [],
   "source": [
    "shopping_idx = ['Shopping' in x.split(', ') for x in list(business_data['categories'].replace(np.nan, '', regex=True))]\n",
    "shopping_data = business_data[shopping_idx]"
   ]
  },
  {
   "cell_type": "code",
   "execution_count": 4,
   "metadata": {},
   "outputs": [
    {
     "name": "stdout",
     "output_type": "stream",
     "text": [
      "Dimension of Our Dataset:  (222, 15398)\n"
     ]
    }
   ],
   "source": [
    "xfeat,yfeat= create_dataset(40,shopping_data,bid_2_stars_ne,bid_2_stars_e,bid_2_textenc,True,True)\n",
    "xtrain, xtest, ytrain, ytest = give_train_test(xfeat, yfeat)"
   ]
  },
  {
   "cell_type": "code",
   "execution_count": 11,
   "metadata": {},
   "outputs": [
    {
     "name": "stdout",
     "output_type": "stream",
     "text": [
      "Linear\n",
      "Margin  0.10  0.20  0.30  0.40  0.50\n",
      "        44.44  62.22  75.56  84.44  88.89\n",
      " \n",
      "Random Forest\n",
      "Margin  0.10  0.20  0.30  0.40  0.50\n",
      "        28.89  55.56  73.33  77.78  82.22\n",
      " \n",
      "SVM\n",
      "Margin  0.10  0.20  0.30  0.40  0.50\n",
      "        15.56  35.56  48.89  60.00  71.11\n",
      " \n",
      "Gradient Boost\n",
      "Margin  0.10  0.20  0.30  0.40  0.50\n",
      "        24.44  53.33  68.89  84.44  93.33\n",
      " \n",
      "Bagging\n",
      "Margin  0.10  0.20  0.30  0.40  0.50\n",
      "        44.44  62.22  73.33  84.44  88.89\n",
      " \n"
     ]
    },
    {
     "data": {
      "text/plain": [
       "BaggingRegressor(base_estimator=Ridge(alpha=0.8, copy_X=True, fit_intercept=True, max_iter=None,\n",
       "   normalize=False, random_state=None, solver='auto', tol=0.001),\n",
       "         bootstrap=True, bootstrap_features=False, max_features=1.0,\n",
       "         max_samples=1.0, n_estimators=100, n_jobs=None, oob_score=False,\n",
       "         random_state=0, verbose=0, warm_start=False)"
      ]
     },
     "execution_count": 11,
     "metadata": {},
     "output_type": "execute_result"
    }
   ],
   "source": [
    "model = give_reg_model_linear()\n",
    "test_model(model,xtrain,ytrain,xtest,ytest)\n",
    "model = give_reg_model_rf()\n",
    "test_model(model,xtrain,ytrain,xtest,ytest)\n",
    "model = give_reg_model_svm()\n",
    "test_model(model,xtrain,ytrain,xtest,ytest)\n",
    "# model = give_reg_model_nn()\n",
    "# test_model(model,xtrain,ytrain,xtest,ytest)\n",
    "model = give_reg_model_gb()\n",
    "test_model(model,xtrain,ytrain,xtest,ytest)\n",
    "model = give_reg_model_bagging()\n",
    "test_model(model,xtrain,ytrain,xtest,ytest)"
   ]
  },
  {
   "cell_type": "code",
   "execution_count": 12,
   "metadata": {},
   "outputs": [
    {
     "name": "stdout",
     "output_type": "stream",
     "text": [
      "Dimension of Our Dataset:  (357, 15398)\n"
     ]
    }
   ],
   "source": [
    "xfeat,yfeat= create_dataset(30,shopping_data,bid_2_stars_ne,bid_2_stars_e,bid_2_textenc,True,True)\n",
    "xtrain, xtest, ytrain, ytest = give_train_test(xfeat, yfeat)"
   ]
  },
  {
   "cell_type": "code",
   "execution_count": 13,
   "metadata": {},
   "outputs": [
    {
     "name": "stdout",
     "output_type": "stream",
     "text": [
      "Linear\n",
      "Margin  0.10  0.20  0.30  0.40  0.50\n",
      "        43.06  69.44  81.94  88.89  95.83\n",
      " \n",
      "Random Forest\n",
      "Margin  0.10  0.20  0.30  0.40  0.50\n",
      "        37.50  63.89  80.56  93.06  95.83\n",
      " \n",
      "SVM\n",
      "Margin  0.10  0.20  0.30  0.40  0.50\n",
      "        19.44  37.50  55.56  73.61  79.17\n",
      " \n",
      "Gradient Boost\n",
      "Margin  0.10  0.20  0.30  0.40  0.50\n",
      "        31.94  68.06  83.33  88.89  97.22\n",
      " \n",
      "Bagging\n",
      "Margin  0.10  0.20  0.30  0.40  0.50\n",
      "        40.28  69.44  79.17  88.89  95.83\n",
      " \n"
     ]
    },
    {
     "data": {
      "text/plain": [
       "BaggingRegressor(base_estimator=Ridge(alpha=0.8, copy_X=True, fit_intercept=True, max_iter=None,\n",
       "   normalize=False, random_state=None, solver='auto', tol=0.001),\n",
       "         bootstrap=True, bootstrap_features=False, max_features=1.0,\n",
       "         max_samples=1.0, n_estimators=100, n_jobs=None, oob_score=False,\n",
       "         random_state=0, verbose=0, warm_start=False)"
      ]
     },
     "execution_count": 13,
     "metadata": {},
     "output_type": "execute_result"
    }
   ],
   "source": [
    "model = give_reg_model_linear()\n",
    "test_model(model,xtrain,ytrain,xtest,ytest)\n",
    "model = give_reg_model_rf()\n",
    "test_model(model,xtrain,ytrain,xtest,ytest)\n",
    "model = give_reg_model_svm()\n",
    "test_model(model,xtrain,ytrain,xtest,ytest)\n",
    "# model = give_reg_model_nn()\n",
    "# test_model(model,xtrain,ytrain,xtest,ytest)\n",
    "model = give_reg_model_gb()\n",
    "test_model(model,xtrain,ytrain,xtest,ytest)\n",
    "model = give_reg_model_bagging()\n",
    "test_model(model,xtrain,ytrain,xtest,ytest)"
   ]
  },
  {
   "cell_type": "code",
   "execution_count": 14,
   "metadata": {},
   "outputs": [
    {
     "name": "stdout",
     "output_type": "stream",
     "text": [
      "Dimension of Our Dataset:  (679, 15398)\n"
     ]
    }
   ],
   "source": [
    "xfeat,yfeat= create_dataset(20,shopping_data,bid_2_stars_ne,bid_2_stars_e,bid_2_textenc,True,True)\n",
    "xtrain, xtest, ytrain, ytest = give_train_test(xfeat, yfeat)"
   ]
  },
  {
   "cell_type": "code",
   "execution_count": 15,
   "metadata": {},
   "outputs": [
    {
     "name": "stdout",
     "output_type": "stream",
     "text": [
      "Linear\n",
      "Margin  0.10  0.20  0.30  0.40  0.50\n",
      "        25.74  54.41  73.53  83.82  90.44\n",
      " \n",
      "Random Forest\n",
      "Margin  0.10  0.20  0.30  0.40  0.50\n",
      "        27.21  54.41  74.26  81.62  87.50\n",
      " \n",
      "SVM\n",
      "Margin  0.10  0.20  0.30  0.40  0.50\n",
      "        23.53  43.38  58.09  72.79  81.62\n",
      " \n",
      "Gradient Boost\n",
      "Margin  0.10  0.20  0.30  0.40  0.50\n",
      "        33.09  57.35  75.00  83.09  90.44\n",
      " \n",
      "Bagging\n",
      "Margin  0.10  0.20  0.30  0.40  0.50\n",
      "        24.26  53.68  73.53  83.09  89.71\n",
      " \n"
     ]
    },
    {
     "data": {
      "text/plain": [
       "BaggingRegressor(base_estimator=Ridge(alpha=0.8, copy_X=True, fit_intercept=True, max_iter=None,\n",
       "   normalize=False, random_state=None, solver='auto', tol=0.001),\n",
       "         bootstrap=True, bootstrap_features=False, max_features=1.0,\n",
       "         max_samples=1.0, n_estimators=100, n_jobs=None, oob_score=False,\n",
       "         random_state=0, verbose=0, warm_start=False)"
      ]
     },
     "execution_count": 15,
     "metadata": {},
     "output_type": "execute_result"
    }
   ],
   "source": [
    "model = give_reg_model_linear()\n",
    "test_model(model,xtrain,ytrain,xtest,ytest)\n",
    "model = give_reg_model_rf()\n",
    "test_model(model,xtrain,ytrain,xtest,ytest)\n",
    "model = give_reg_model_svm()\n",
    "test_model(model,xtrain,ytrain,xtest,ytest)\n",
    "# model = give_reg_model_nn()\n",
    "# test_model(model,xtrain,ytrain,xtest,ytest)\n",
    "model = give_reg_model_gb()\n",
    "test_model(model,xtrain,ytrain,xtest,ytest)\n",
    "model = give_reg_model_bagging()\n",
    "test_model(model,xtrain,ytrain,xtest,ytest)"
   ]
  },
  {
   "cell_type": "code",
   "execution_count": 16,
   "metadata": {},
   "outputs": [
    {
     "name": "stdout",
     "output_type": "stream",
     "text": [
      "Dimension of Our Dataset:  (471, 15398)\n"
     ]
    }
   ],
   "source": [
    "xfeat,yfeat= create_dataset(25,shopping_data,bid_2_stars_ne,bid_2_stars_e,bid_2_textenc,True,True)\n",
    "xtrain, xtest, ytrain, ytest = give_train_test(xfeat, yfeat)"
   ]
  },
  {
   "cell_type": "code",
   "execution_count": 17,
   "metadata": {},
   "outputs": [
    {
     "name": "stdout",
     "output_type": "stream",
     "text": [
      "Linear\n",
      "Margin  0.10  0.20  0.30  0.40  0.50\n",
      "        32.63  61.05  77.89  89.47  98.95\n",
      " \n",
      "Random Forest\n",
      "Margin  0.10  0.20  0.30  0.40  0.50\n",
      "        32.63  56.84  74.74  88.42  94.74\n",
      " \n",
      "SVM\n",
      "Margin  0.10  0.20  0.30  0.40  0.50\n",
      "        17.89  34.74  47.37  61.05  72.63\n",
      " \n",
      "Gradient Boost\n",
      "Margin  0.10  0.20  0.30  0.40  0.50\n",
      "        21.05  50.53  74.74  85.26  94.74\n",
      " \n",
      "Bagging\n",
      "Margin  0.10  0.20  0.30  0.40  0.50\n",
      "        31.58  61.05  78.95  87.37  97.89\n",
      " \n"
     ]
    },
    {
     "data": {
      "text/plain": [
       "BaggingRegressor(base_estimator=Ridge(alpha=0.8, copy_X=True, fit_intercept=True, max_iter=None,\n",
       "   normalize=False, random_state=None, solver='auto', tol=0.001),\n",
       "         bootstrap=True, bootstrap_features=False, max_features=1.0,\n",
       "         max_samples=1.0, n_estimators=100, n_jobs=None, oob_score=False,\n",
       "         random_state=0, verbose=0, warm_start=False)"
      ]
     },
     "execution_count": 17,
     "metadata": {},
     "output_type": "execute_result"
    }
   ],
   "source": [
    "model = give_reg_model_linear()\n",
    "test_model(model,xtrain,ytrain,xtest,ytest)\n",
    "model = give_reg_model_rf()\n",
    "test_model(model,xtrain,ytrain,xtest,ytest)\n",
    "model = give_reg_model_svm()\n",
    "test_model(model,xtrain,ytrain,xtest,ytest)\n",
    "# model = give_reg_model_nn()\n",
    "# test_model(model,xtrain,ytrain,xtest,ytest)\n",
    "model = give_reg_model_gb()\n",
    "test_model(model,xtrain,ytrain,xtest,ytest)\n",
    "model = give_reg_model_bagging()\n",
    "test_model(model,xtrain,ytrain,xtest,ytest)"
   ]
  },
  {
   "cell_type": "code",
   "execution_count": null,
   "metadata": {},
   "outputs": [],
   "source": []
  }
 ],
 "metadata": {
  "kernelspec": {
   "display_name": "Python 3",
   "language": "python",
   "name": "python3"
  },
  "language_info": {
   "codemirror_mode": {
    "name": "ipython",
    "version": 3
   },
   "file_extension": ".py",
   "mimetype": "text/x-python",
   "name": "python",
   "nbconvert_exporter": "python",
   "pygments_lexer": "ipython3",
   "version": "3.7.2"
  }
 },
 "nbformat": 4,
 "nbformat_minor": 4
}
