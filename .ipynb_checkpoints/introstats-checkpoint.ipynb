{
 "cells": [
  {
   "cell_type": "code",
   "execution_count": 1,
   "metadata": {},
   "outputs": [
    {
     "name": "stderr",
     "output_type": "stream",
     "text": [
      "Using TensorFlow backend.\n"
     ]
    },
    {
     "name": "stdout",
     "output_type": "stream",
     "text": [
      "User Data Loaded\n",
      "Businesses Data Loaded\n",
      "Review Data Loaded\n"
     ]
    }
   ],
   "source": [
    "from dependencies import *\n",
    "from loaddata import review_data,business_data, rest_data, user_data, elite_udata, non_elite_udata"
   ]
  },
  {
   "cell_type": "code",
   "execution_count": 2,
   "metadata": {},
   "outputs": [],
   "source": [
    "eliteids = elite_udata['user_id'].values\n",
    "noneliteids = non_elite_udata['user_id'].values"
   ]
  },
  {
   "cell_type": "code",
   "execution_count": 3,
   "metadata": {},
   "outputs": [],
   "source": [
    "uid_2_bids = review_data.groupby('user_id')['business_id'].apply(list).to_dict()"
   ]
  },
  {
   "cell_type": "code",
   "execution_count": 4,
   "metadata": {},
   "outputs": [],
   "source": [
    "elitecount = [len(set(uid_2_bids[x])) for x in eliteids]\n",
    "nelitecount = [len(set(uid_2_bids[x])) for x in noneliteids]\n",
    "oelitecount = [len(set(uid_2_bids[x])) for x in user_data['user_id'].values]"
   ]
  },
  {
   "cell_type": "code",
   "execution_count": 11,
   "metadata": {},
   "outputs": [
    {
     "name": "stdout",
     "output_type": "stream",
     "text": [
      "Number of Distinct Businesses \n",
      "Metric Elites Non-Elites Over-All\n",
      "Means:   21.19  3.16  3.95\n",
      "Std-Dev: 54.73  6.72  13.69\n",
      "Median : 5.00  1.00  1.00\n",
      "ModeResult(mode=array([1]), count=array([14092])) ModeResult(mode=array([1]), count=array([857164])) ModeResult(mode=array([1]), count=array([871256]))\n"
     ]
    }
   ],
   "source": [
    "from scipy import stats\n",
    "print(\"Number of Distinct Businesses \")\n",
    "print(\"Metric\", \"Elites\", \"Non-Elites\", \"Over-All\")\n",
    "print(\"Means:   %.2f  %.2f  %.2f\" % (np.mean(elitecount), np.mean(nelitecount), np.mean(oelitecount)))\n",
    "print(\"Std-Dev: %.2f  %.2f  %.2f\" % (np.std(elitecount), np.std(nelitecount),  np.std(oelitecount)))\n",
    "print(\"Median : %.2f  %.2f  %.2f\" % (np.median(elitecount), np.median(nelitecount),  np.median(oelitecount)))\n",
    "print(stats.mode(elitecount), stats.mode(nelitecount),  stats.mode(oelitecount))"
   ]
  },
  {
   "cell_type": "code",
   "execution_count": 6,
   "metadata": {},
   "outputs": [
    {
     "name": "stdout",
     "output_type": "stream",
     "text": [
      "Number of Elites:  71377\n",
      "Number of Non-Elites:  1565761\n",
      "Number of Total Users:  1637138\n"
     ]
    }
   ],
   "source": [
    "print(\"Number of Elites: \", len(elitecount))\n",
    "print(\"Number of Non-Elites: \",len(nelitecount))\n",
    "print(\"Number of Total Users: \",len(user_data))"
   ]
  },
  {
   "cell_type": "code",
   "execution_count": 7,
   "metadata": {},
   "outputs": [],
   "source": [
    "from scipy.stats import skew"
   ]
  },
  {
   "cell_type": "code",
   "execution_count": 8,
   "metadata": {},
   "outputs": [],
   "source": [
    "bid_2_stars_ne = review_data.loc[review_data['iselite'] == False].groupby('business_id')['stars'].apply(list).to_dict()\n",
    "bid_2_stars_e = review_data.loc[review_data['iselite'] == True].groupby('business_id')['stars'].apply(list).to_dict()"
   ]
  },
  {
   "cell_type": "code",
   "execution_count": 9,
   "metadata": {},
   "outputs": [],
   "source": [
    "def temp(min_thold,max_thold=float('inf'),city = False, atts = False, textenc = False):\n",
    "    x = []\n",
    "    y = []\n",
    "    x1 = []\n",
    "    y1 = []\n",
    "    x2 = []\n",
    "    y2 = []\n",
    "    l1 = []\n",
    "    l2 = []\n",
    "    r1 = []\n",
    "    r2 = []\n",
    "    m1 = []\n",
    "    m2 = []\n",
    "    for bid in bid_2_stars_ne:\n",
    "        if bid in bid_2_stars_e:\n",
    "            estars = bid_2_stars_e[bid]\n",
    "            lestars = len(estars)\n",
    "            if(np.mean(estars) >= 0 and np.mean(estars) <= 5) :\n",
    "                if(lestars >= min_thold):\n",
    "                    if(lestars < max_thold):\n",
    "                        stars_ne = bid_2_stars_ne[bid]\n",
    "                        x.append(skew(stars_ne))\n",
    "                        y.append(skew(estars))\n",
    "                        x1.append(np.mean(stars_ne))\n",
    "                        y1.append(np.mean(estars))\n",
    "                        x2.append(np.std(stars_ne))\n",
    "                        y2.append(np.std(estars))\n",
    "                        l1.append(len(stars_ne))\n",
    "                        l2.append(len(estars))\n",
    "                        m1.append(np.median(stars_ne))\n",
    "                        m2.append(np.median(estars))\n",
    "                        r1.append(stars_ne)\n",
    "                        r2.append(estars)\n",
    "    return x,y,x1,y1,x2,y2,l1,l2,m1, m2, r1,r2"
   ]
  },
  {
   "cell_type": "code",
   "execution_count": 10,
   "metadata": {},
   "outputs": [],
   "source": [
    "x,y,x1,y1,x2,y2,l1,l2, m1, m2, r1, r2 = temp(40)"
   ]
  },
  {
   "cell_type": "code",
   "execution_count": 11,
   "metadata": {},
   "outputs": [
    {
     "name": "stdout",
     "output_type": "stream",
     "text": [
      "Number of businesses with atleast 40 elite reviews:  5927\n"
     ]
    }
   ],
   "source": [
    "print(\"Number of businesses with atleast 40 elite reviews: \", len(x))"
   ]
  },
  {
   "cell_type": "code",
   "execution_count": 13,
   "metadata": {},
   "outputs": [
    {
     "name": "stdout",
     "output_type": "stream",
     "text": [
      "Difference in Distribution of Ratings (For businesses with atleast 40 elite reviews)\n",
      "Metric  Non-Elites  Elites \n",
      "Skewness -0.98   -0.77\n",
      "Mean     3.78   3.88\n",
      "Std-Dev  1.24   0.90\n",
      "Number   318.94   95.31\n",
      "Median   4.14   3.99\n"
     ]
    }
   ],
   "source": [
    "print(\"Difference in Distribution of Ratings (For businesses with atleast 40 elite reviews)\")\n",
    "print(\"Metric \",\"Non-Elites \", \"Elites \")\n",
    "print(\"Skewness %.2f   %.2f\" % (np.mean(x), np.mean(y)))\n",
    "print(\"Mean     %.2f   %.2f\" % (np.mean(x1), np.mean(y1)))\n",
    "print(\"Std-Dev  %.2f   %.2f\" % (np.mean(x2), np.mean(y2)))\n",
    "print(\"Number   %.2f   %.2f\" % (np.mean(l1), np.mean(l2)))\n",
    "print(\"Median   %.2f   %.2f\" % (np.mean(m1), np.mean(m2)))"
   ]
  },
  {
   "cell_type": "code",
   "execution_count": 15,
   "metadata": {},
   "outputs": [
    {
     "name": "stdout",
     "output_type": "stream",
     "text": [
      "Number of total ratings by non-elite:  1890337\n",
      "Number of total ratings by elite:  564922\n"
     ]
    }
   ],
   "source": [
    "rne = [y for x in r1 for y in x]\n",
    "re = [y for x in r2 for y in x]\n",
    "print(\"Number of total ratings by non-elite: \", len(rne))\n",
    "print(\"Number of total ratings by elite: \", len(re))"
   ]
  },
  {
   "cell_type": "code",
   "execution_count": 38,
   "metadata": {},
   "outputs": [],
   "source": [
    "%matplotlib qt\n",
    "def plot_frequency_bar(data, xl, yl):\n",
    "    import collections\n",
    "    c = collections.Counter(data)\n",
    "    c = dict(sorted(c.items()))\n",
    "    c = {k:v/len(data) for k,v in c.items()}\n",
    "    x = c.keys()\n",
    "    y = c.values()\n",
    "    plt.bar(x, y, color = \"green\")\n",
    "    for a,b in zip(x, y):\n",
    "        plt.text(a - 0.2, b + 0.004, str(np.round(b,2)))\n",
    "    plt.xlabel(xl)\n",
    "    plt.ylabel(yl)"
   ]
  },
  {
   "cell_type": "code",
   "execution_count": 39,
   "metadata": {},
   "outputs": [],
   "source": [
    "#plt.title(\"Distribution of ratings for non-elites and elite squad\")\n",
    "plt.subplot(1,2,1)\n",
    "plot_frequency_bar(rne, \"Ratings\", \"Non-Elites Distribution\")\n",
    "plt.subplot(1,2,2)\n",
    "plot_frequency_bar(re, \"Ratings\" , \"Elite Squad Distribution\")\n",
    "plt.show()"
   ]
  },
  {
   "cell_type": "code",
   "execution_count": 41,
   "metadata": {},
   "outputs": [],
   "source": [
    "e_review_data = review_data.loc[review_data['iselite'] == True]"
   ]
  },
  {
   "cell_type": "code",
   "execution_count": 50,
   "metadata": {},
   "outputs": [
    {
     "name": "stdout",
     "output_type": "stream",
     "text": [
      "Num Total Users     1637138 Num Elites         71377   Ratio 0.044\n",
      "Num Total Business  192609  Num Restaurants    59371   Ratio 0.308\n",
      "Num Total Reviews   6685902 Num Elite Reviews  1231492 Ratio 0.184\n"
     ]
    }
   ],
   "source": [
    "print(\"Num Total Users    \",len(user_data),\"Num Elites        \", len(elite_udata), \"  Ratio %.3f\" % (len(elite_udata)/len(user_data)))\n",
    "print(\"Num Total Business \", len(business_data),\" Num Restaurants   \", len(rest_data), \"  Ratio %.3f\" % (len(rest_data)/len(business_data)))\n",
    "print(\"Num Total Reviews  \", len(review_data), \"Num Elite Reviews \", len(e_review_data),\"Ratio %.3f\" %  (len(e_review_data)/len(review_data)))"
   ]
  }
 ],
 "metadata": {
  "kernelspec": {
   "display_name": "Python 3",
   "language": "python",
   "name": "python3"
  },
  "language_info": {
   "codemirror_mode": {
    "name": "ipython",
    "version": 3
   },
   "file_extension": ".py",
   "mimetype": "text/x-python",
   "name": "python",
   "nbconvert_exporter": "python",
   "pygments_lexer": "ipython3",
   "version": "3.7.2"
  }
 },
 "nbformat": 4,
 "nbformat_minor": 4
}
