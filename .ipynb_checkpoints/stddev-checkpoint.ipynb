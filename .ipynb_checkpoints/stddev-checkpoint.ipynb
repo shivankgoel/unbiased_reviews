{
 "cells": [
  {
   "cell_type": "code",
   "execution_count": 1,
   "metadata": {},
   "outputs": [
    {
     "name": "stderr",
     "output_type": "stream",
     "text": [
      "Using TensorFlow backend.\n"
     ]
    },
    {
     "name": "stdout",
     "output_type": "stream",
     "text": [
      "User Data Loaded\n",
      "Businesses Data Loaded\n",
      "Review Data Loaded\n"
     ]
    }
   ],
   "source": [
    "from helper import *\n",
    "from datasetcreator import *\n",
    "from dependencies import *\n",
    "from loaddata import review_data,business_data, rest_data, user_data, elite_udata, non_elite_udata"
   ]
  },
  {
   "cell_type": "code",
   "execution_count": 2,
   "metadata": {},
   "outputs": [
    {
     "name": "stdout",
     "output_type": "stream",
     "text": [
      "Size of Vocabulary:  15374\n"
     ]
    }
   ],
   "source": [
    "cv, bid_2_stars_ne, review_data_ne, bid_2_textenc = give_text_feats_tfidf(review_data)\n",
    "bid_2_stars_e = review_data.loc[review_data['iselite'] == True].groupby('business_id')['stars'].apply(list).to_dict()"
   ]
  },
  {
   "cell_type": "code",
   "execution_count": 7,
   "metadata": {},
   "outputs": [],
   "source": [
    "def create_dataset_stddev_avg(min_thold, bdata, bid_2_stars, bid_2_stars_e, max_thold=float('inf')):\n",
    "    basicprint = False\n",
    "    x1 = []\n",
    "    x2 = []\n",
    "    y = []\n",
    "    bids = bdata['business_id'].values\n",
    "    for bid in bids:\n",
    "        if bid in bid_2_stars and bid in bid_2_stars_e:\n",
    "            stars_e = bid_2_stars_e[bid]\n",
    "            stars_ne = bid_2_stars[bid]\n",
    "            lestars = len(stars_e)\n",
    "            if(lestars >= min_thold):\n",
    "                x = []\n",
    "                x.append([np.std(stars_ne)])\n",
    "                x = [item for sublist in x for item in sublist]\n",
    "                x1.append(x)\n",
    "                y.append(np.std(stars_e))                        \n",
    "    xfeat = np.array(x1)\n",
    "    imp = SimpleImputer(missing_values=np.nan, strategy='mean')\n",
    "    xfeat = imp.fit_transform(xfeat)\n",
    "    yfeat = np.array(y).reshape(-1,)\n",
    "    print(\"Dimension of Our Dataset: \", xfeat.shape)\n",
    "    return xfeat,yfeat\n"
   ]
  },
  {
   "cell_type": "code",
   "execution_count": 8,
   "metadata": {},
   "outputs": [
    {
     "name": "stdout",
     "output_type": "stream",
     "text": [
      "Dimension of Our Dataset:  (5927, 1)\n"
     ]
    }
   ],
   "source": [
    "xfeat,yfeat= create_dataset_stddev_avg(40,business_data,bid_2_stars_ne,bid_2_stars_e,bid_2_textenc)\n"
   ]
  },
  {
   "cell_type": "code",
   "execution_count": 20,
   "metadata": {},
   "outputs": [
    {
     "data": {
      "text/plain": [
       "Text(0, 0.5, 'Elite Std-Dev')"
      ]
     },
     "execution_count": 20,
     "metadata": {},
     "output_type": "execute_result"
    }
   ],
   "source": [
    "%matplotlib qt\n",
    "plt.scatter(xfeat,yfeat,color='g',label='Scatter Plot')\n",
    "plt.plot(xfeat,xfeat,'r-',label='Identity Line')\n",
    "plt.legend(loc='best')\n",
    "plt.xlabel('Non-Elite Std-Dev')\n",
    "plt.ylabel('Elite Std-Dev')"
   ]
  },
  {
   "cell_type": "code",
   "execution_count": 21,
   "metadata": {},
   "outputs": [
    {
     "name": "stdout",
     "output_type": "stream",
     "text": [
      "Linear\n",
      "MSE:  0.0138\n",
      "R-Squared :  0.3358\n",
      "Margin  0.10  0.20  0.30  0.40  0.50\n",
      "        62.82  91.65  98.23  99.75  100.00\n",
      " \n"
     ]
    }
   ],
   "source": [
    "xtrain, xtest, ytrain, ytest = give_train_test(xfeat, yfeat)\n",
    "model = give_reg_model_linear()\n",
    "model, rsqr  = test_model(model,xtrain,ytrain,xtest,ytest)"
   ]
  },
  {
   "cell_type": "code",
   "execution_count": 31,
   "metadata": {},
   "outputs": [],
   "source": [
    "def create_dataset_stddev_everything(min_thold, bdata, bid_2_stars, bid_2_stars_e, max_thold=float('inf')):\n",
    "    basicprint = False\n",
    "    x1 = []\n",
    "    x2 = []\n",
    "    y = []\n",
    "    bids = bdata['business_id'].values\n",
    "    for bid in bids:\n",
    "        if bid in bid_2_stars and bid in bid_2_stars_e and bid in bid_2_textenc:\n",
    "            stars_e = bid_2_stars_e[bid]\n",
    "            stars_ne = bid_2_stars[bid]\n",
    "            lestars = len(stars_e)\n",
    "            if(lestars >= min_thold):\n",
    "                x = []\n",
    "                x.append([np.std(stars_ne)])\n",
    "                x.append([np.mean(stars_ne)])\n",
    "                countratings = [Counter(stars_ne)[i] for i in range(1,6)]\n",
    "                distribution = [x/sum(countratings) for x in countratings]\n",
    "                x.append(distribution)\n",
    "                x.append(give_categ(np.mean(stars_ne)))\n",
    "                x.append(bid_2_textenc[bid])\n",
    "                x = [item for sublist in x for item in sublist]\n",
    "                x1.append(x)\n",
    "                y.append(np.std(stars_e))                        \n",
    "    xfeat = np.array(x1)\n",
    "    imp = SimpleImputer(missing_values=np.nan, strategy='mean')\n",
    "    xfeat = imp.fit_transform(xfeat)\n",
    "    yfeat = np.array(y).reshape(-1,)\n",
    "    print(\"Dimension of Our Dataset: \", xfeat.shape)\n",
    "    return xfeat,yfeat"
   ]
  },
  {
   "cell_type": "code",
   "execution_count": null,
   "metadata": {},
   "outputs": [],
   "source": [
    "def create_dataset_stddev_everything_notext(min_thold, bdata, bid_2_stars, bid_2_stars_e, max_thold=float('inf')):\n",
    "    basicprint = False\n",
    "    x1 = []\n",
    "    x2 = []\n",
    "    y = []\n",
    "    bids = bdata['business_id'].values\n",
    "    for bid in bids:\n",
    "        if bid in bid_2_stars and bid in bid_2_stars_e and bid in bid_2_textenc:\n",
    "            stars_e = bid_2_stars_e[bid]\n",
    "            stars_ne = bid_2_stars[bid]\n",
    "            lestars = len(stars_e)\n",
    "            if(lestars >= min_thold):\n",
    "                x = []\n",
    "                x.append([np.std(stars_ne)])\n",
    "                x.append([np.mean(stars_ne)])\n",
    "                countratings = [Counter(stars_ne)[i] for i in range(1,6)]\n",
    "                distribution = [x/sum(countratings) for x in countratings]\n",
    "                x.append(distribution)\n",
    "                x.append(give_categ(np.mean(stars_ne)))\n",
    "                x = [item for sublist in x for item in sublist]\n",
    "                x1.append(x)\n",
    "                y.append(np.std(stars_e))                        \n",
    "    xfeat = np.array(x1)\n",
    "    imp = SimpleImputer(missing_values=np.nan, strategy='mean')\n",
    "    xfeat = imp.fit_transform(xfeat)\n",
    "    yfeat = np.array(y).reshape(-1,)\n",
    "    print(\"Dimension of Our Dataset: \", xfeat.shape)\n",
    "    return xfeat,yfeat"
   ]
  },
  {
   "cell_type": "code",
   "execution_count": 32,
   "metadata": {},
   "outputs": [
    {
     "name": "stdout",
     "output_type": "stream",
     "text": [
      "Dimension of Our Dataset:  (5926, 15421)\n",
      "Linear\n",
      "MSE:  0.0115\n",
      "R-Squared :  0.4331\n",
      "Margin  0.10  0.20  0.30  0.40  0.50\n",
      "        68.13  94.10  98.99  99.92  99.92\n",
      " \n"
     ]
    }
   ],
   "source": [
    "xfeat,yfeat= create_dataset_stddev_avg_and_distribution(40,business_data,bid_2_stars_ne,bid_2_stars_e,bid_2_textenc)\n",
    "xtrain, xtest, ytrain, ytest = give_train_test(xfeat, yfeat)\n",
    "model = give_reg_model_linear()\n",
    "model, rsqr  = test_model(model,xtrain,ytrain,xtest,ytest)"
   ]
  },
  {
   "cell_type": "code",
   "execution_count": 34,
   "metadata": {},
   "outputs": [],
   "source": [
    "from sklearn.neural_network import MLPRegressor\n",
    "def give_reg_model_nn(a=100, b=66, alpha=0.25,s='adam',lr='constant'):\n",
    "    model = MLPRegressor(hidden_layer_sizes=(a, b),random_state=4,alpha=alpha,solver=s,learning_rate=lr)\n",
    "    return model\n",
    "    "
   ]
  },
  {
   "cell_type": "code",
   "execution_count": null,
   "metadata": {},
   "outputs": [],
   "source": [
    "model = give_reg_model_nn(a=500,b=100)\n",
    "model, rsqr  = test_model(model,xtrain,ytrain,xtest,ytest)"
   ]
  }
 ],
 "metadata": {
  "kernelspec": {
   "display_name": "Python 3",
   "language": "python",
   "name": "python3"
  },
  "language_info": {
   "codemirror_mode": {
    "name": "ipython",
    "version": 3
   },
   "file_extension": ".py",
   "mimetype": "text/x-python",
   "name": "python",
   "nbconvert_exporter": "python",
   "pygments_lexer": "ipython3",
   "version": "3.7.2"
  }
 },
 "nbformat": 4,
 "nbformat_minor": 4
}
