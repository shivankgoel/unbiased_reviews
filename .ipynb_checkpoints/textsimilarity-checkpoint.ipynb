{
 "cells": [
  {
   "cell_type": "code",
   "execution_count": 1,
   "metadata": {},
   "outputs": [
    {
     "name": "stderr",
     "output_type": "stream",
     "text": [
      "Using TensorFlow backend.\n"
     ]
    },
    {
     "name": "stdout",
     "output_type": "stream",
     "text": [
      "User Data Loaded\n",
      "Businesses Data Loaded\n",
      "Review Data Loaded\n"
     ]
    }
   ],
   "source": [
    "from helper import *\n",
    "from datasetcreator import *\n",
    "from dependencies import *\n",
    "from loaddata import review_data,business_data, rest_data, user_data, elite_udata, non_elite_udata"
   ]
  },
  {
   "cell_type": "code",
   "execution_count": 2,
   "metadata": {},
   "outputs": [
    {
     "name": "stdout",
     "output_type": "stream",
     "text": [
      "Size of Vocabulary:  15374\n"
     ]
    }
   ],
   "source": [
    "cv, bid_2_stars_ne, review_data_ne, bid_2_textenc = give_text_feats_tfidf(review_data)\n",
    "bid_2_stars_e = review_data.loc[review_data['iselite'] == True].groupby('business_id')['stars'].apply(list).to_dict()"
   ]
  },
  {
   "cell_type": "code",
   "execution_count": 18,
   "metadata": {},
   "outputs": [
    {
     "name": "stdout",
     "output_type": "stream",
     "text": [
      "Size of Vocabulary:  15374\n"
     ]
    }
   ],
   "source": [
    "_, _, _, bid_2_textenc_elite = give_text_feats_tfidf_elite(review_data, cv.vocabulary_)"
   ]
  },
  {
   "cell_type": "code",
   "execution_count": 21,
   "metadata": {},
   "outputs": [],
   "source": [
    "avgvector = np.mean(list(bid_2_textenc_elite.values()), axis = 0)"
   ]
  },
  {
   "cell_type": "code",
   "execution_count": 22,
   "metadata": {},
   "outputs": [
    {
     "data": {
      "text/plain": [
       "(15374,)"
      ]
     },
     "execution_count": 22,
     "metadata": {},
     "output_type": "execute_result"
    }
   ],
   "source": [
    "avgvector.shape"
   ]
  },
  {
   "cell_type": "code",
   "execution_count": 23,
   "metadata": {},
   "outputs": [
    {
     "data": {
      "text/plain": [
       "array([0.00317962, 0.00071681, 0.00022526, ..., 0.00143623, 0.000632  ,\n",
       "       0.00052594])"
      ]
     },
     "execution_count": 23,
     "metadata": {},
     "output_type": "execute_result"
    }
   ],
   "source": [
    "avgvector"
   ]
  },
  {
   "cell_type": "code",
   "execution_count": null,
   "metadata": {},
   "outputs": [],
   "source": [
    "from scipy import stats\n",
    "stats.pearsonr(a, b)"
   ]
  },
  {
   "cell_type": "code",
   "execution_count": 27,
   "metadata": {},
   "outputs": [],
   "source": [
    "elitesimilarity = [stats.pearsonr(avgvector, b)[0] for a,b in bid_2_textenc_elite.items()]"
   ]
  },
  {
   "cell_type": "code",
   "execution_count": 31,
   "metadata": {},
   "outputs": [
    {
     "data": {
      "text/plain": [
       "0.21000094511298675"
      ]
     },
     "execution_count": 31,
     "metadata": {},
     "output_type": "execute_result"
    }
   ],
   "source": [
    "np.nanmean(elitesimilarity)"
   ]
  },
  {
   "cell_type": "code",
   "execution_count": 32,
   "metadata": {},
   "outputs": [],
   "source": [
    "nonelitesimilarity = [stats.pearsonr(avgvector, b)[0] for a,b in bid_2_textenc.items()]"
   ]
  },
  {
   "cell_type": "code",
   "execution_count": 33,
   "metadata": {},
   "outputs": [
    {
     "data": {
      "text/plain": [
       "0.2252249547111802"
      ]
     },
     "execution_count": 33,
     "metadata": {},
     "output_type": "execute_result"
    }
   ],
   "source": [
    "np.nanmean(nonelitesimilarity)"
   ]
  },
  {
   "cell_type": "code",
   "execution_count": 34,
   "metadata": {},
   "outputs": [],
   "source": [
    "nonelitelen = [len(b) for a,b in bid_2_textenc.items()]"
   ]
  },
  {
   "cell_type": "code",
   "execution_count": 46,
   "metadata": {},
   "outputs": [],
   "source": [
    "def give_raw_text(review_data, elitedata = False):\n",
    "    review_data_ne = review_data.loc[review_data['iselite'] == elitedata]\n",
    "    bid_2_stars = review_data_ne.groupby('business_id')['stars'].apply(list).to_dict()\n",
    "    bid_2_textrev = review_data_ne.groupby('business_id')['text'].apply(list).to_dict()\n",
    "    #bid_2_text = {i:' '.join(j) for i,j in bid_2_textrev.items() if all(isinstance(x, str) for x in j)}\n",
    "    bids  = [k for k,v in bid_2_textrev.items()]\n",
    "    return bids, bid_2_stars, bid_2_textrev"
   ]
  },
  {
   "cell_type": "code",
   "execution_count": 61,
   "metadata": {},
   "outputs": [],
   "source": [
    "bids_ne, bid_2_stars_ne, bid_2_text_ne  = give_raw_text(review_data)\n",
    "nonelitelen = [np.mean([len(x.split()) for x in b if isinstance(x, str)]) for a,b in bid_2_text_ne.items()]\n"
   ]
  },
  {
   "cell_type": "code",
   "execution_count": 114,
   "metadata": {},
   "outputs": [],
   "source": [
    "nonelitelen1 = [[len(x.split()) for x in b if isinstance(x, str)] for a,b in bid_2_text_ne.items()]"
   ]
  },
  {
   "cell_type": "code",
   "execution_count": 62,
   "metadata": {},
   "outputs": [
    {
     "data": {
      "text/plain": [
       "102.77038889425337"
      ]
     },
     "execution_count": 62,
     "metadata": {},
     "output_type": "execute_result"
    }
   ],
   "source": [
    "np.nanmean(nonelitelen)"
   ]
  },
  {
   "cell_type": "code",
   "execution_count": 115,
   "metadata": {},
   "outputs": [],
   "source": [
    "bid_2_textlen = {k:v for k,v in zip(bids_ne, nonelitelen1)}"
   ]
  },
  {
   "cell_type": "code",
   "execution_count": 72,
   "metadata": {},
   "outputs": [
    {
     "name": "stdout",
     "output_type": "stream",
     "text": [
      "153.64644264187555\n"
     ]
    }
   ],
   "source": [
    "bids_e, bid_2_stars_e, bid_2_text_e  = give_raw_text(review_data, True)\n",
    "elitelen = [np.mean([len(x.split()) for x in b if isinstance(x, str)]) for a,b in bid_2_text_e.items()]\n",
    "eliteavg = np.nanmean(elitelen)\n",
    "print(eliteavg)"
   ]
  },
  {
   "cell_type": "code",
   "execution_count": 90,
   "metadata": {},
   "outputs": [
    {
     "data": {
      "text/plain": [
       "True"
      ]
     },
     "execution_count": 90,
     "metadata": {},
     "output_type": "execute_result"
    }
   ],
   "source": [
    "bid_2_stars_e.keys() == bid_2_text_e.keys()"
   ]
  },
  {
   "cell_type": "code",
   "execution_count": 73,
   "metadata": {},
   "outputs": [
    {
     "name": "stdout",
     "output_type": "stream",
     "text": [
      "191396 191396 191396\n",
      "126211 126211 126211\n"
     ]
    }
   ],
   "source": [
    "print(len(bid_2_stars_ne), len(bid_2_text_ne), len(nonelitelen))\n",
    "print(len(bid_2_stars_e), len(bid_2_text_e), len(elitelen))"
   ]
  },
  {
   "cell_type": "code",
   "execution_count": 77,
   "metadata": {},
   "outputs": [],
   "source": [
    "high = []\n",
    "low = []\n",
    "stars_ne = [b for a,b in bid_2_stars_ne.items()]\n",
    "for i in range(len(nonelitelen)):\n",
    "    if nonelitelen[i] >= eliteavg:\n",
    "        high.append(stars_ne[i])\n",
    "    else:\n",
    "        low.append(stars_ne[i])\n",
    "\n",
    "high = [j for i in high for j in i]\n",
    "low = [j for i in low for j in i]"
   ]
  },
  {
   "cell_type": "code",
   "execution_count": 91,
   "metadata": {},
   "outputs": [
    {
     "name": "stdout",
     "output_type": "stream",
     "text": [
      "364371 5090035\n",
      "2.9274695296826585 3.7478579223914963\n"
     ]
    }
   ],
   "source": [
    "print(len(high), len(low))\n",
    "print(np.mean(high), np.mean(low))"
   ]
  },
  {
   "cell_type": "code",
   "execution_count": 82,
   "metadata": {},
   "outputs": [
    {
     "name": "stdout",
     "output_type": "stream",
     "text": [
      "[0.377, 0.09286, 0.07691, 0.13213, 0.3211]\n"
     ]
    },
    {
     "data": {
      "image/png": "[encoded data removed]",
      "text/plain": [
       "<Figure size 432x288 with 1 Axes>"
      ]
     },
     "metadata": {
      "needs_background": "light"
     },
     "output_type": "display_data"
    }
   ],
   "source": [
    "plot_ratings_dist(high)"
   ]
  },
  {
   "cell_type": "code",
   "execution_count": 83,
   "metadata": {},
   "outputs": [
    {
     "name": "stdout",
     "output_type": "stream",
     "text": [
      "[0.16047, 0.08082, 0.09025, 0.1873, 0.48116]\n"
     ]
    },
    {
     "data": {
      "image/png": "[encoded data removed]",
      "text/plain": [
       "<Figure size 432x288 with 1 Axes>"
      ]
     },
     "metadata": {
      "needs_background": "light"
     },
     "output_type": "display_data"
    }
   ],
   "source": [
    "plot_ratings_dist(low)"
   ]
  },
  {
   "cell_type": "code",
   "execution_count": 92,
   "metadata": {},
   "outputs": [
    {
     "name": "stdout",
     "output_type": "stream",
     "text": [
      "677945 553547\n",
      "3.818359896451777 3.81914453515239\n"
     ]
    }
   ],
   "source": [
    "high_e = []\n",
    "low_e = []\n",
    "stars_e = [b for a,b in bid_2_stars_e.items()]\n",
    "for i in range(len(elitelen)):\n",
    "    if elitelen[i] >= eliteavg:\n",
    "        high_e.append(stars_e[i])\n",
    "    else:\n",
    "        low_e.append(stars_e[i])\n",
    "\n",
    "high_e = [j for i in high_e for j in i]\n",
    "low_e = [j for i in low_e for j in i]\n",
    "print(len(high_e), len(low_e))\n",
    "print(np.mean(high_e), np.mean(low_e))"
   ]
  },
  {
   "cell_type": "code",
   "execution_count": 86,
   "metadata": {},
   "outputs": [
    {
     "name": "stdout",
     "output_type": "stream",
     "text": [
      "[0.0396, 0.08039, 0.20143, 0.37921, 0.29937]\n"
     ]
    },
    {
     "data": {
      "image/png": "[encoded data removed]",
      "text/plain": [
       "<Figure size 432x288 with 1 Axes>"
      ]
     },
     "metadata": {
      "needs_background": "light"
     },
     "output_type": "display_data"
    }
   ],
   "source": [
    "plot_ratings_dist(high_e)"
   ]
  },
  {
   "cell_type": "code",
   "execution_count": 87,
   "metadata": {},
   "outputs": [
    {
     "name": "stdout",
     "output_type": "stream",
     "text": [
      "[0.03824, 0.07707, 0.20831, 0.38006, 0.29631]\n"
     ]
    },
    {
     "data": {
      "image/png": "[encoded data removed]",
      "text/plain": [
       "<Figure size 432x288 with 1 Axes>"
      ]
     },
     "metadata": {
      "needs_background": "light"
     },
     "output_type": "display_data"
    }
   ],
   "source": [
    "plot_ratings_dist(low_e)"
   ]
  },
  {
   "cell_type": "code",
   "execution_count": 168,
   "metadata": {},
   "outputs": [],
   "source": [
    "def create_dataset_everything_text_plus_len(min_thold, bdata, bid_2_stars, bid_2_stars_e, bid_2_textenc, bid_2_textlen, max_thold=float('inf')):\n",
    "    basicprint = False\n",
    "    x1 = []\n",
    "    x2 = []\n",
    "    y = []\n",
    "    bids = bdata['business_id'].values\n",
    "    for bid in bids:\n",
    "        if bid in bid_2_stars and bid in bid_2_stars_e and bid in bid_2_textenc and bid in bid_2_textlen:\n",
    "            stars_e = bid_2_stars_e[bid]\n",
    "            stars_ne = bid_2_stars[bid]\n",
    "            lestars = len(stars_e)\n",
    "            if(lestars >= min_thold and lestars < max_thold):\n",
    "                x = []\n",
    "                astars = []\n",
    "                bstars = []\n",
    "                dstars = []\n",
    "                tlens = bid_2_textlen[bid]\n",
    "                for i in range(len(stars_ne)):\n",
    "                    if tlens[i] < 153:\n",
    "                        astars.append(stars_ne[i])\n",
    "                    elif tlens[i] >= 153 and tlens[i] < 253:\n",
    "                        bstars.append(stars_ne[i])\n",
    "                    else:\n",
    "                        dstars.append(stars_ne[i])\n",
    "#                     if tlens[i] >= 153:\n",
    "#                         astars.append(stars_ne[i])\n",
    "#                     else:\n",
    "#                         bstars.append(stars_ne[i])\n",
    "#                 x.append(give_textlen_categ(tlen))\n",
    "#                 x.append([np.mean(stars_ne)])\n",
    "#                 countratings = [Counter(stars_ne)[i] for i in range(1,6)]\n",
    "#                 distribution = [x/sum(countratings) for x in countratings]\n",
    "#                 print(len(astars), len(bstars), len(stars_ne))\n",
    "                if len(astars) > 0:\n",
    "                    x.append([np.mean(astars)])\n",
    "                else:\n",
    "                    x.append([0])\n",
    "                if len(bstars) > 0:\n",
    "                    x.append([np.mean(bstars)])\n",
    "                else:\n",
    "                    x.append([0])\n",
    "                if len(dstars) > 0:\n",
    "                    x.append([np.mean(dstars)])\n",
    "                else:\n",
    "                    x.append([0])\n",
    "                distribution1 = [0, 0, 0, 0, 0]\n",
    "                distribution2 = [0, 0, 0, 0, 0]\n",
    "                distribution3 = [0, 0, 0, 0, 0]\n",
    "                if len(astars) > 0:\n",
    "                    countratings = [Counter(astars)[i] for i in range(1,6)]\n",
    "                    distribution1 = [x/sum(countratings) for x in countratings]\n",
    "                if len(bstars) > 0:\n",
    "                    countratings = [Counter(bstars)[i] for i in range(1,6)]\n",
    "                    distribution2 = [x/sum(countratings) for x in countratings]\n",
    "                if len(dstars) > 0:\n",
    "                    countratings = [Counter(dstars)[i] for i in range(1,6)]\n",
    "                    distribution3 = [x/sum(countratings) for x in countratings]\n",
    "                x.append(distribution1)\n",
    "                x.append(distribution2)\n",
    "                x.append(distribution3)\n",
    "                x.append(give_categ(np.mean(stars_ne)))\n",
    "#                 x.append(bid_2_textenc[bid])\n",
    "                x = [item for sublist in x for item in sublist]\n",
    "                x1.append(x)\n",
    "                y.append(np.mean(stars_e))                        \n",
    "    xfeat = np.array(x1)\n",
    "    imp = SimpleImputer(missing_values=np.nan, strategy='mean')\n",
    "    xfeat = imp.fit_transform(xfeat)\n",
    "    yfeat = np.array(y).reshape(-1,)\n",
    "    print(\"Dimension of Our Dataset: \", xfeat.shape)\n",
    "    return xfeat,yfeat"
   ]
  },
  {
   "cell_type": "code",
   "execution_count": 169,
   "metadata": {},
   "outputs": [],
   "source": [
    "def give_textlen_categ(avg):\n",
    "    temp = np.zeros(21)\n",
    "    c = int((avg-1)/50) \n",
    "    temp[c] = 1\n",
    "    return temp"
   ]
  },
  {
   "cell_type": "code",
   "execution_count": 170,
   "metadata": {},
   "outputs": [
    {
     "name": "stdout",
     "output_type": "stream",
     "text": [
      "Dimension of Our Dataset:  (5926, 53)\n",
      "Linear\n",
      "MSE:  0.0344\n",
      "R-Squared :  0.8047\n",
      "Margin  0.10  0.20  0.30  0.40  0.50\n",
      "        42.92  75.13  90.22  95.87  98.57\n",
      " \n"
     ]
    },
    {
     "data": {
      "text/plain": [
       "(Ridge(alpha=0.8, copy_X=True, fit_intercept=True, max_iter=None,\n",
       "    normalize=False, random_state=None, solver='auto', tol=0.001),\n",
       " 0.804669967815169)"
      ]
     },
     "execution_count": 170,
     "metadata": {},
     "output_type": "execute_result"
    }
   ],
   "source": [
    "xfeat,yfeat= create_dataset_everything_text_plus_len(40,business_data,bid_2_stars_ne,bid_2_stars_e,bid_2_textenc, bid_2_textlen)\n",
    "xtrain, xtest, ytrain, ytest = give_train_test(xfeat, yfeat)\n",
    "model = give_reg_model_linear()\n",
    "test_model(model,xtrain,ytrain,xtest,ytest)"
   ]
  },
  {
   "cell_type": "code",
   "execution_count": 161,
   "metadata": {},
   "outputs": [
    {
     "data": {
      "text/plain": [
       "array([ 0.40827019,  0.00301103, -0.0286286 ,  0.31804977, -0.37260333,\n",
       "       -0.29044216,  0.01822503,  0.32677069, -0.1581885 , -0.23390112,\n",
       "       -0.22850066,  0.00397979,  0.25971692, -0.34213324, -0.26111504,\n",
       "       -0.30970271,  0.01453519,  0.34134041,  0.        ,  0.        ,\n",
       "        0.        , -0.21453578, -0.07450228, -0.09866975, -0.33473455,\n",
       "       -0.03971467, -0.18970752, -0.13793773, -0.07390123,  0.04000987,\n",
       "       -0.04215756,  0.07126964,  0.11737165,  0.10732194,  0.15951847,\n",
       "        0.14797957,  0.1619425 ,  0.16040295,  0.17152194,  0.11678235,\n",
       "        0.13558016,  0.13147637,  0.1018013 ,  0.08129303,  0.0801343 ,\n",
       "        0.08042716,  0.07655363,  0.03604217,  0.03494459, -0.00291919,\n",
       "       -0.02758548, -0.05413874, -0.09053911, -0.08178797, -0.13459344,\n",
       "       -0.1395287 , -0.16139505, -0.21709539,  0.10307056])"
      ]
     },
     "execution_count": 161,
     "metadata": {},
     "output_type": "execute_result"
    }
   ],
   "source": [
    "model.coef_"
   ]
  },
  {
   "cell_type": "code",
   "execution_count": 108,
   "metadata": {},
   "outputs": [
    {
     "data": {
      "text/plain": [
       "972.0"
      ]
     },
     "execution_count": 108,
     "metadata": {},
     "output_type": "execute_result"
    }
   ],
   "source": [
    "max(nonelitelen)"
   ]
  },
  {
   "cell_type": "code",
   "execution_count": 128,
   "metadata": {},
   "outputs": [
    {
     "name": "stderr",
     "output_type": "stream",
     "text": [
      "/Users/shivankgoel/Documents/Anaconda/anaconda3/envs/nlpenv/lib/python3.7/site-packages/numpy/core/fromnumeric.py:2920: RuntimeWarning: Mean of empty slice.\n",
      "  out=out, **kwargs)\n",
      "/Users/shivankgoel/Documents/Anaconda/anaconda3/envs/nlpenv/lib/python3.7/site-packages/numpy/core/_methods.py:85: RuntimeWarning: invalid value encountered in double_scalars\n",
      "  ret = ret.dtype.type(ret / rcount)\n"
     ]
    },
    {
     "data": {
      "text/plain": [
       "nan"
      ]
     },
     "execution_count": 128,
     "metadata": {},
     "output_type": "execute_result"
    }
   ],
   "source": [
    "np.mean([]"
   ]
  },
  {
   "cell_type": "code",
   "execution_count": null,
   "metadata": {},
   "outputs": [],
   "source": []
  }
 ],
 "metadata": {
  "kernelspec": {
   "display_name": "Python 3",
   "language": "python",
   "name": "python3"
  },
  "language_info": {
   "codemirror_mode": {
    "name": "ipython",
    "version": 3
   },
   "file_extension": ".py",
   "mimetype": "text/x-python",
   "name": "python",
   "nbconvert_exporter": "python",
   "pygments_lexer": "ipython3",
   "version": "3.7.2"
  }
 },
 "nbformat": 4,
 "nbformat_minor": 4
}
