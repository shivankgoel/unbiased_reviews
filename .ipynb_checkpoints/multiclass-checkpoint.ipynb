{
 "cells": [
  {
   "cell_type": "code",
   "execution_count": 5,
   "metadata": {},
   "outputs": [
    {
     "name": "stdout",
     "output_type": "stream",
     "text": [
      "User Data Loaded\n",
      "Businesses Data Loaded\n",
      "Review Data Loaded\n"
     ]
    }
   ],
   "source": [
    "from helper import *\n",
    "from datasetcreator import *\n",
    "from dependencies import *\n",
    "from loaddata import review_data,business_data, rest_data, user_data, elite_udata, non_elite_udata\n"
   ]
  },
  {
   "cell_type": "code",
   "execution_count": 6,
   "metadata": {},
   "outputs": [
    {
     "name": "stdout",
     "output_type": "stream",
     "text": [
      "Size of Vocabulary:  15374\n"
     ]
    }
   ],
   "source": [
    "cv, bid_2_stars_ne, review_data_ne, bid_2_textenc = give_text_feats_tfidf(review_data)\n",
    "bid_2_stars_e = review_data.loc[review_data['iselite'] == True].groupby('business_id')['stars'].apply(list).to_dict()"
   ]
  },
  {
   "cell_type": "code",
   "execution_count": 32,
   "metadata": {},
   "outputs": [],
   "source": [
    "def create_dataset_multiclass(min_thold, bdata, bid_2_stars, bid_2_stars_e, bid_2_textenc, max_thold=float('inf')):\n",
    "    basicprint = False\n",
    "    x1 = []\n",
    "    x2 = []\n",
    "    y = []\n",
    "    bids = bdata['business_id'].values\n",
    "    for bid in bids:\n",
    "        if bid in bid_2_stars and bid in bid_2_stars_e and bid in bid_2_textenc:\n",
    "            stars_e = bid_2_stars_e[bid]\n",
    "            stars_ne = bid_2_stars[bid]\n",
    "            lestars = len(stars_e)\n",
    "            if(lestars >= min_thold and lestars < max_thold):\n",
    "                x = []\n",
    "                x.append([np.mean(stars_ne)])\n",
    "                countratings_ne = [Counter(stars_ne)[i] for i in range(1,6)]\n",
    "                distribution_ne = [x/sum(countratings_ne) for x in countratings_ne]\n",
    "                x.append(distribution_ne)\n",
    "                x.append(give_categ(np.mean(stars_ne)))\n",
    "                x.append(bid_2_textenc[bid])\n",
    "                x = [item for sublist in x for item in sublist]\n",
    "                x1.append(x)\n",
    "                countratings_e = [Counter(stars_e)[i] for i in range(1,6)]\n",
    "                distribution_e = [x/sum(countratings_e) for x in countratings_e]\n",
    "                y.append(distribution_e)                        \n",
    "    xfeat = np.array(x1)\n",
    "    imp = SimpleImputer(missing_values=np.nan, strategy='mean')\n",
    "    xfeat = imp.fit_transform(xfeat)\n",
    "    yfeat = np.array(y)\n",
    "    print(\"Dimension of Our Dataset: \", xfeat.shape)\n",
    "    return xfeat,yfeat"
   ]
  },
  {
   "cell_type": "code",
   "execution_count": 8,
   "metadata": {},
   "outputs": [
    {
     "name": "stdout",
     "output_type": "stream",
     "text": [
      "Dimension of Our Dataset:  (5926, 15421)\n"
     ]
    }
   ],
   "source": [
    "xfeat,yfeat = create_dataset_multiclass(40,business_data,bid_2_stars_ne,bid_2_stars_e,bid_2_textenc)\n",
    "xtrain, xtest, ytrain, ytest = give_train_test_multi(xfeat, yfeat)\n",
    "# from sklearn.preprocessing import StandardScaler\n",
    "# scaler = StandardScaler()\n",
    "# scaler.fit(xtrain) \n",
    "# xtrain = scaler.transform(xtrain)  \n",
    "# xtest = scaler.transform(xtest)"
   ]
  },
  {
   "cell_type": "code",
   "execution_count": 23,
   "metadata": {},
   "outputs": [],
   "source": [
    "from tensorflow.keras.layers import Dense\n",
    "import tensorflow as tf\n",
    "\n",
    "model = tf.keras.Sequential()\n",
    "model.add(Dense(50, input_dim=15421, activation='relu', kernel_initializer='he_uniform'))\n",
    "model.add(Dense(5, activation='softmax'))\n",
    "opt = tf.keras.optimizers.SGD(lr=0.01, momentum=0.9)\n",
    "model.compile(loss='kullback_leibler_divergence', optimizer=opt, metrics=['accuracy'])\n",
    "\n"
   ]
  },
  {
   "cell_type": "code",
   "execution_count": 24,
   "metadata": {},
   "outputs": [
    {
     "name": "stdout",
     "output_type": "stream",
     "text": [
      "Train on 4740 samples\n",
      "Epoch 1/100\n",
      "4740/4740 [==============================] - 2s 328us/sample - loss: 0.1194 - accuracy: 0.6285\n",
      "Epoch 2/100\n",
      "4740/4740 [==============================] - 1s 211us/sample - loss: 0.0829 - accuracy: 0.6916\n",
      "Epoch 3/100\n",
      "4740/4740 [==============================] - 1s 210us/sample - loss: 0.0684 - accuracy: 0.7198\n",
      "Epoch 4/100\n",
      "4740/4740 [==============================] - 1s 211us/sample - loss: 0.0617 - accuracy: 0.7352\n",
      "Epoch 5/100\n",
      "4740/4740 [==============================] - 1s 211us/sample - loss: 0.0590 - accuracy: 0.7458\n",
      "Epoch 6/100\n",
      "4740/4740 [==============================] - 1s 215us/sample - loss: 0.0569 - accuracy: 0.7525\n",
      "Epoch 7/100\n",
      "4740/4740 [==============================] - 1s 218us/sample - loss: 0.0557 - accuracy: 0.7527\n",
      "Epoch 8/100\n",
      "4740/4740 [==============================] - 1s 231us/sample - loss: 0.0546 - accuracy: 0.7624\n",
      "Epoch 9/100\n",
      "4740/4740 [==============================] - 1s 246us/sample - loss: 0.0535 - accuracy: 0.7650\n",
      "Epoch 10/100\n",
      "4740/4740 [==============================] - 1s 241us/sample - loss: 0.0529 - accuracy: 0.7658\n",
      "Epoch 11/100\n",
      "4740/4740 [==============================] - 1s 233us/sample - loss: 0.0522 - accuracy: 0.7713\n",
      "Epoch 12/100\n",
      "4740/4740 [==============================] - 1s 230us/sample - loss: 0.0523 - accuracy: 0.7669\n",
      "Epoch 13/100\n",
      "4740/4740 [==============================] - 1s 221us/sample - loss: 0.0515 - accuracy: 0.7722\n",
      "Epoch 14/100\n",
      "4740/4740 [==============================] - 1s 227us/sample - loss: 0.0510 - accuracy: 0.7726\n",
      "Epoch 15/100\n",
      "4740/4740 [==============================] - 1s 233us/sample - loss: 0.0510 - accuracy: 0.7722\n",
      "Epoch 16/100\n",
      "4740/4740 [==============================] - 1s 230us/sample - loss: 0.0504 - accuracy: 0.7722\n",
      "Epoch 17/100\n",
      "4740/4740 [==============================] - 1s 239us/sample - loss: 0.0500 - accuracy: 0.7751\n",
      "Epoch 18/100\n",
      "4740/4740 [==============================] - 1s 236us/sample - loss: 0.0496 - accuracy: 0.7751\n",
      "Epoch 19/100\n",
      "4740/4740 [==============================] - 1s 240us/sample - loss: 0.0497 - accuracy: 0.7713\n",
      "Epoch 20/100\n",
      "4740/4740 [==============================] - 1s 228us/sample - loss: 0.0496 - accuracy: 0.7783\n",
      "Epoch 21/100\n",
      "4740/4740 [==============================] - 1s 230us/sample - loss: 0.0488 - accuracy: 0.7814\n",
      "Epoch 22/100\n",
      "4740/4740 [==============================] - 1s 231us/sample - loss: 0.0489 - accuracy: 0.7770\n",
      "Epoch 23/100\n",
      "4740/4740 [==============================] - 1s 238us/sample - loss: 0.0486 - accuracy: 0.7821\n",
      "Epoch 24/100\n",
      "4740/4740 [==============================] - 1s 239us/sample - loss: 0.0485 - accuracy: 0.7812\n",
      "Epoch 25/100\n",
      "4740/4740 [==============================] - 1s 225us/sample - loss: 0.0482 - accuracy: 0.7791\n",
      "Epoch 26/100\n",
      "4740/4740 [==============================] - 1s 225us/sample - loss: 0.0480 - accuracy: 0.7812\n",
      "Epoch 27/100\n",
      "4740/4740 [==============================] - 1s 235us/sample - loss: 0.0480 - accuracy: 0.7842\n",
      "Epoch 28/100\n",
      "4740/4740 [==============================] - 1s 235us/sample - loss: 0.0478 - accuracy: 0.7859\n",
      "Epoch 29/100\n",
      "4740/4740 [==============================] - 1s 236us/sample - loss: 0.0477 - accuracy: 0.7797\n",
      "Epoch 30/100\n",
      "4740/4740 [==============================] - 1s 232us/sample - loss: 0.0471 - accuracy: 0.7873\n",
      "Epoch 31/100\n",
      "4740/4740 [==============================] - 1s 227us/sample - loss: 0.0471 - accuracy: 0.7867\n",
      "Epoch 32/100\n",
      "4740/4740 [==============================] - 1s 225us/sample - loss: 0.0471 - accuracy: 0.7884\n",
      "Epoch 33/100\n",
      "4740/4740 [==============================] - 1s 242us/sample - loss: 0.0469 - accuracy: 0.7844\n",
      "Epoch 34/100\n",
      "4740/4740 [==============================] - 1s 234us/sample - loss: 0.0466 - accuracy: 0.7892\n",
      "Epoch 35/100\n",
      "4740/4740 [==============================] - 1s 232us/sample - loss: 0.0469 - accuracy: 0.7863\n",
      "Epoch 36/100\n",
      "4740/4740 [==============================] - 1s 229us/sample - loss: 0.0466 - accuracy: 0.7871\n",
      "Epoch 37/100\n",
      "4740/4740 [==============================] - 1s 228us/sample - loss: 0.0460 - accuracy: 0.7928\n",
      "Epoch 38/100\n",
      "4740/4740 [==============================] - 1s 226us/sample - loss: 0.0461 - accuracy: 0.7873\n",
      "Epoch 39/100\n",
      "4740/4740 [==============================] - 1s 247us/sample - loss: 0.0458 - accuracy: 0.7880\n",
      "Epoch 40/100\n",
      "4740/4740 [==============================] - 1s 235us/sample - loss: 0.0459 - accuracy: 0.7907\n",
      "Epoch 41/100\n",
      "4740/4740 [==============================] - 1s 235us/sample - loss: 0.0458 - accuracy: 0.7867\n",
      "Epoch 42/100\n",
      "4740/4740 [==============================] - 1s 239us/sample - loss: 0.0458 - accuracy: 0.7911\n",
      "Epoch 43/100\n",
      "4740/4740 [==============================] - 1s 236us/sample - loss: 0.0459 - accuracy: 0.7924\n",
      "Epoch 44/100\n",
      "4740/4740 [==============================] - 1s 247us/sample - loss: 0.0457 - accuracy: 0.7914\n",
      "Epoch 45/100\n",
      "4740/4740 [==============================] - 1s 240us/sample - loss: 0.0456 - accuracy: 0.7954\n",
      "Epoch 46/100\n",
      "4740/4740 [==============================] - 1s 242us/sample - loss: 0.0452 - accuracy: 0.7960\n",
      "Epoch 47/100\n",
      "4740/4740 [==============================] - 1s 234us/sample - loss: 0.0455 - accuracy: 0.7903\n",
      "Epoch 48/100\n",
      "4740/4740 [==============================] - 1s 234us/sample - loss: 0.0453 - accuracy: 0.7911\n",
      "Epoch 49/100\n",
      "4740/4740 [==============================] - 1s 227us/sample - loss: 0.0449 - accuracy: 0.7970\n",
      "Epoch 50/100\n",
      "4740/4740 [==============================] - 1s 232us/sample - loss: 0.0447 - accuracy: 0.7973\n",
      "Epoch 51/100\n",
      "4740/4740 [==============================] - 1s 231us/sample - loss: 0.0445 - accuracy: 0.7939\n",
      "Epoch 52/100\n",
      "4740/4740 [==============================] - 1s 227us/sample - loss: 0.0445 - accuracy: 0.7926\n",
      "Epoch 53/100\n",
      "4740/4740 [==============================] - 1s 238us/sample - loss: 0.0443 - accuracy: 0.7970\n",
      "Epoch 54/100\n",
      "4740/4740 [==============================] - 1s 237us/sample - loss: 0.0444 - accuracy: 0.7956\n",
      "Epoch 55/100\n",
      "4740/4740 [==============================] - 1s 238us/sample - loss: 0.0443 - accuracy: 0.7958\n",
      "Epoch 56/100\n",
      "4740/4740 [==============================] - 1s 236us/sample - loss: 0.0444 - accuracy: 0.7951\n",
      "Epoch 57/100\n",
      "4740/4740 [==============================] - 1s 230us/sample - loss: 0.0442 - accuracy: 0.7973\n",
      "Epoch 58/100\n",
      "4740/4740 [==============================] - 1s 230us/sample - loss: 0.0441 - accuracy: 0.7949\n",
      "Epoch 59/100\n",
      "4740/4740 [==============================] - 1s 245us/sample - loss: 0.0439 - accuracy: 0.7985\n",
      "Epoch 60/100\n",
      "4740/4740 [==============================] - 1s 243us/sample - loss: 0.0438 - accuracy: 0.7994\n",
      "Epoch 61/100\n",
      "4740/4740 [==============================] - 1s 244us/sample - loss: 0.0437 - accuracy: 0.8011\n",
      "Epoch 62/100\n",
      "4740/4740 [==============================] - 1s 237us/sample - loss: 0.0437 - accuracy: 0.7996\n",
      "Epoch 63/100\n",
      "4740/4740 [==============================] - 1s 234us/sample - loss: 0.0435 - accuracy: 0.8004\n",
      "Epoch 64/100\n",
      "4740/4740 [==============================] - 1s 231us/sample - loss: 0.0433 - accuracy: 0.7996\n",
      "Epoch 65/100\n",
      "4740/4740 [==============================] - 1s 231us/sample - loss: 0.0433 - accuracy: 0.8046\n",
      "Epoch 66/100\n",
      "4740/4740 [==============================] - 1s 240us/sample - loss: 0.0432 - accuracy: 0.8000\n",
      "Epoch 67/100\n",
      "4740/4740 [==============================] - 1s 233us/sample - loss: 0.0432 - accuracy: 0.8002\n",
      "Epoch 68/100\n",
      "4740/4740 [==============================] - 1s 234us/sample - loss: 0.0436 - accuracy: 0.7975\n",
      "Epoch 69/100\n",
      "4740/4740 [==============================] - 1s 245us/sample - loss: 0.0433 - accuracy: 0.7979\n",
      "Epoch 70/100\n",
      "4740/4740 [==============================] - 1s 228us/sample - loss: 0.0429 - accuracy: 0.8032\n",
      "Epoch 71/100\n",
      "4740/4740 [==============================] - 1s 227us/sample - loss: 0.0432 - accuracy: 0.7989\n",
      "Epoch 72/100\n",
      "4740/4740 [==============================] - 1s 234us/sample - loss: 0.0430 - accuracy: 0.7992\n",
      "Epoch 73/100\n",
      "4740/4740 [==============================] - 1s 240us/sample - loss: 0.0427 - accuracy: 0.8004\n",
      "Epoch 74/100\n",
      "4740/4740 [==============================] - 1s 235us/sample - loss: 0.0426 - accuracy: 0.8059\n",
      "Epoch 75/100\n",
      "4740/4740 [==============================] - 1s 239us/sample - loss: 0.0427 - accuracy: 0.8042\n",
      "Epoch 76/100\n",
      "4740/4740 [==============================] - 1s 236us/sample - loss: 0.0428 - accuracy: 0.8032\n",
      "Epoch 77/100\n",
      "4740/4740 [==============================] - 1s 231us/sample - loss: 0.0429 - accuracy: 0.8040\n",
      "Epoch 78/100\n",
      "4740/4740 [==============================] - 1s 242us/sample - loss: 0.0427 - accuracy: 0.8042\n",
      "Epoch 79/100\n",
      "4740/4740 [==============================] - 1s 239us/sample - loss: 0.0425 - accuracy: 0.8006\n",
      "Epoch 80/100\n",
      "4740/4740 [==============================] - 1s 236us/sample - loss: 0.0422 - accuracy: 0.8072\n",
      "Epoch 81/100\n",
      "4740/4740 [==============================] - 1s 239us/sample - loss: 0.0422 - accuracy: 0.8040\n",
      "Epoch 82/100\n",
      "4740/4740 [==============================] - 1s 244us/sample - loss: 0.0421 - accuracy: 0.8068\n",
      "Epoch 83/100\n",
      "4740/4740 [==============================] - 1s 235us/sample - loss: 0.0421 - accuracy: 0.8080\n",
      "Epoch 84/100\n",
      "4740/4740 [==============================] - 1s 235us/sample - loss: 0.0422 - accuracy: 0.8044\n",
      "Epoch 85/100\n",
      "4740/4740 [==============================] - 1s 235us/sample - loss: 0.0420 - accuracy: 0.8072\n",
      "Epoch 86/100\n",
      "4740/4740 [==============================] - 1s 235us/sample - loss: 0.0424 - accuracy: 0.8072\n",
      "Epoch 87/100\n",
      "4740/4740 [==============================] - 1s 241us/sample - loss: 0.0420 - accuracy: 0.8034\n",
      "Epoch 88/100\n",
      "4740/4740 [==============================] - 1s 231us/sample - loss: 0.0419 - accuracy: 0.8030\n",
      "Epoch 89/100\n",
      "4740/4740 [==============================] - 1s 228us/sample - loss: 0.0419 - accuracy: 0.8120\n",
      "Epoch 90/100\n",
      "4740/4740 [==============================] - 1s 232us/sample - loss: 0.0418 - accuracy: 0.8059\n",
      "Epoch 91/100\n",
      "4740/4740 [==============================] - 1s 238us/sample - loss: 0.0418 - accuracy: 0.8036\n",
      "Epoch 92/100\n",
      "4740/4740 [==============================] - 1s 239us/sample - loss: 0.0421 - accuracy: 0.8072\n",
      "Epoch 93/100\n",
      "4740/4740 [==============================] - 1s 246us/sample - loss: 0.0413 - accuracy: 0.8124\n",
      "Epoch 94/100\n",
      "4740/4740 [==============================] - 1s 248us/sample - loss: 0.0419 - accuracy: 0.8008\n",
      "Epoch 95/100\n",
      "4740/4740 [==============================] - 1s 250us/sample - loss: 0.0417 - accuracy: 0.8065\n",
      "Epoch 96/100\n",
      "4740/4740 [==============================] - 1s 259us/sample - loss: 0.0414 - accuracy: 0.8084\n",
      "Epoch 97/100\n",
      "4740/4740 [==============================] - 1s 252us/sample - loss: 0.0412 - accuracy: 0.8093\n",
      "Epoch 98/100\n",
      "4740/4740 [==============================] - 1s 253us/sample - loss: 0.0414 - accuracy: 0.8110\n",
      "Epoch 99/100\n",
      "4740/4740 [==============================] - 1s 255us/sample - loss: 0.0412 - accuracy: 0.8116\n",
      "Epoch 100/100\n",
      "4740/4740 [==============================] - 1s 260us/sample - loss: 0.0411 - accuracy: 0.8089\n"
     ]
    }
   ],
   "source": [
    "history = model.fit(xtrain, ytrain, epochs = 100)"
   ]
  },
  {
   "cell_type": "code",
   "execution_count": 27,
   "metadata": {},
   "outputs": [],
   "source": [
    "ytestpred = model.predict(xtest)"
   ]
  },
  {
   "cell_type": "code",
   "execution_count": 31,
   "metadata": {},
   "outputs": [
    {
     "data": {
      "text/plain": [
       "array([[0.        , 0.01587302, 0.12698413, 0.52380952, 0.33333333],\n",
       "       [0.11627907, 0.06976744, 0.13953488, 0.37209302, 0.30232558],\n",
       "       [0.04166667, 0.        , 0.16666667, 0.54166667, 0.25      ],\n",
       "       ...,\n",
       "       [0.        , 0.03389831, 0.06779661, 0.47457627, 0.42372881],\n",
       "       [0.        , 0.13333333, 0.15555556, 0.33333333, 0.37777778],\n",
       "       [0.02222222, 0.04444444, 0.11111111, 0.57777778, 0.24444444]])"
      ]
     },
     "execution_count": 31,
     "metadata": {},
     "output_type": "execute_result"
    }
   ],
   "source": [
    "ytest"
   ]
  },
  {
   "cell_type": "code",
   "execution_count": 28,
   "metadata": {},
   "outputs": [],
   "source": [
    "y1 = [x[0]*1+x[1]*2+x[2]*3+x[3]*4+x[4]*5 for x in ytestpred] \n",
    "y2 = [x[0]*1+x[1]*2+x[2]*3+x[3]*4+x[4]*5 for x in ytest] "
   ]
  },
  {
   "cell_type": "code",
   "execution_count": 30,
   "metadata": {},
   "outputs": [
    {
     "name": "stdout",
     "output_type": "stream",
     "text": [
      "MSE:  0.0271\n",
      "R-Squared :  0.8459\n",
      "Margin  0.10  0.20  0.30  0.40  0.50\n",
      "        47.55  79.09  94.10  97.39  99.41\n",
      " \n"
     ]
    },
    {
     "data": {
      "text/plain": [
       "0.8458939870195785"
      ]
     },
     "execution_count": 30,
     "metadata": {},
     "output_type": "execute_result"
    }
   ],
   "source": [
    "print_prediction(np.array(y1),np.array(y2))"
   ]
  },
  {
   "cell_type": "code",
   "execution_count": null,
   "metadata": {},
   "outputs": [],
   "source": []
  }
 ],
 "metadata": {
  "kernelspec": {
   "display_name": "Python 3",
   "language": "python",
   "name": "python3"
  },
  "language_info": {
   "codemirror_mode": {
    "name": "ipython",
    "version": 3
   },
   "file_extension": ".py",
   "mimetype": "text/x-python",
   "name": "python",
   "nbconvert_exporter": "python",
   "pygments_lexer": "ipython3",
   "version": "3.7.7"
  }
 },
 "nbformat": 4,
 "nbformat_minor": 4
}
