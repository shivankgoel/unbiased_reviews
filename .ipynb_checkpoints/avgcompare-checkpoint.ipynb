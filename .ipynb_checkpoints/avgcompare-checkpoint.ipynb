{
 "cells": [
  {
   "cell_type": "code",
   "execution_count": 1,
   "metadata": {},
   "outputs": [
    {
     "name": "stderr",
     "output_type": "stream",
     "text": [
      "Using TensorFlow backend.\n"
     ]
    },
    {
     "name": "stdout",
     "output_type": "stream",
     "text": [
      "User Data Loaded\n",
      "Businesses Data Loaded\n",
      "Review Data Loaded\n"
     ]
    }
   ],
   "source": [
    "from helper import *\n",
    "from dependencies import *\n",
    "from loaddata import review_data,business_data, rest_data, user_data, elite_udata, non_elite_udata"
   ]
  },
  {
   "cell_type": "code",
   "execution_count": 2,
   "metadata": {},
   "outputs": [
    {
     "name": "stdout",
     "output_type": "stream",
     "text": [
      "Size of Vocabulary:  15374\n"
     ]
    }
   ],
   "source": [
    "cv, bid_2_stars_ne, review_data_ne, bid_2_textenc = give_text_feats_tfidf(review_data)\n",
    "bid_2_stars_e = review_data.loc[review_data['iselite'] == True].groupby('business_id')['stars'].apply(list).to_dict()"
   ]
  },
  {
   "cell_type": "code",
   "execution_count": 3,
   "metadata": {},
   "outputs": [
    {
     "name": "stdout",
     "output_type": "stream",
     "text": [
      "Dimension of Our Dataset:  (5926, 15398)\n"
     ]
    }
   ],
   "source": [
    "xfeat,yfeat= create_dataset(40,business_data,bid_2_stars_ne,bid_2_stars_e,bid_2_textenc,True,True)\n",
    "noneliteavg = xfeat[:,6].reshape(-1,1)"
   ]
  },
  {
   "cell_type": "code",
   "execution_count": 18,
   "metadata": {},
   "outputs": [
    {
     "name": "stdout",
     "output_type": "stream",
     "text": [
      "Linear\n",
      "(5926, 1) (5926, 1) (5926,)\n",
      "[[0.66995849]]\n",
      "[1.34665004]\n"
     ]
    }
   ],
   "source": [
    "model  = give_reg_model_linear(0)\n",
    "model.fit(noneliteavg,yfeat.reshape(-1,1))\n",
    "reg_out = model.predict(noneliteavg)\n",
    "print(reg_out.shape, noneliteavg.shape, yfeat.shape)\n",
    "print(model.coef_)\n",
    "print(model.intercept_)"
   ]
  },
  {
   "cell_type": "code",
   "execution_count": null,
   "metadata": {},
   "outputs": [
    {
     "data": {
      "text/plain": [
       "<matplotlib.legend.Legend at 0x1acae4e9e8>"
      ]
     },
     "execution_count": 5,
     "metadata": {},
     "output_type": "execute_result"
    }
   ],
   "source": [
    "%matplotlib qt\n",
    "plt.xlabel(\"Average Non-Elite Ratings\")\n",
    "plt.ylabel(\"Average Elite-Ratings\")\n",
    "plt.scatter(noneliteavg,yfeat,color='green',label='Scatter Plot')\n",
    "x = [1.5,2,2.5,3,3.5,4,4.5,5]\n",
    "plt.plot(x,x,'r-', label='Identity Line', linewidth = 2)\n",
    "plt.plot(noneliteavg,reg_out,'b-', label='Linear Regression', linewidth = 2)\n",
    "plt.legend(loc=\"best\")"
   ]
  },
  {
   "cell_type": "code",
   "execution_count": null,
   "metadata": {},
   "outputs": [
    {
     "name": "stdout",
     "output_type": "stream",
     "text": [
      "MSE:  0.0857\n",
      "R-Squared :  0.5035\n",
      "Margin  0.10  0.20  0.30  0.40  0.50\n",
      "        31.13  56.99  74.11  84.37  91.51\n",
      " \n"
     ]
    }
   ],
   "source": [
    "print_prediction(noneliteavg,yfeat.reshape(-1,1))"
   ]
  },
  {
   "cell_type": "code",
   "execution_count": 14,
   "metadata": {},
   "outputs": [
    {
     "name": "stdout",
     "output_type": "stream",
     "text": [
      "MSE:  0.0449\n",
      "R-Squared :  0.7399\n",
      "Margin  0.10  0.20  0.30  0.40  0.50\n",
      "        38.59  68.28  85.54  93.79  97.65\n",
      " \n"
     ]
    }
   ],
   "source": [
    "print_prediction(reg_out,yfeat.reshape(-1,1))"
   ]
  },
  {
   "cell_type": "code",
   "execution_count": null,
   "metadata": {},
   "outputs": [
    {
     "name": "stdout",
     "output_type": "stream",
     "text": [
      "5926\n",
      "3681\n",
      "2240\n",
      "5\n"
     ]
    }
   ],
   "source": [
    "bidswith40elites = [bid for bid,ratings in bid_2_stars_e.items() if  bid in bid_2_stars_ne and bid in bid_2_textenc and len(ratings) >= 40]\n",
    "bids_elites_higher = [bid for bid,ratings in bid_2_stars_e.items() if  bid in bid_2_stars_ne and bid in bid_2_textenc and len(ratings) >= 40 and np.mean(ratings) > np.mean(bid_2_stars_ne[bid])]\n",
    "bids_elites_lower = [bid for bid,ratings in bid_2_stars_e.items() if  bid in bid_2_stars_ne and bid in bid_2_textenc and len(ratings) >= 40 and np.mean(ratings) < np.mean(bid_2_stars_ne[bid])]\n",
    "bids_elites_equal = [bid for bid,ratings in bid_2_stars_e.items() if  bid in bid_2_stars_ne and bid in bid_2_textenc and len(ratings) >= 40 and np.mean(ratings) == np.mean(bid_2_stars_ne[bid])]\n",
    "print(len(bidswith40elites))\n",
    "print(len(bids_elites_higher))\n",
    "print(len(bids_elites_lower))\n",
    "print(len(bids_elites_equal))\n"
   ]
  },
  {
   "cell_type": "code",
   "execution_count": null,
   "metadata": {},
   "outputs": [
    {
     "name": "stdout",
     "output_type": "stream",
     "text": [
      "[0.14354, 0.10575, 0.12897, 0.2423, 0.37944]\n"
     ]
    }
   ],
   "source": [
    "ne_ratings = [x for bid in bids_elites_higher for x in bid_2_stars_ne[bid]]\n",
    "#e_ratings = [x for bid in bids_elites_higher for x in bid_2_stars_e[bid]]\n",
    "plot_ratings_dist(ne_ratings, \"Rating : X\", \"Percentage of X star rating by non-elites\")\n",
    "#plot_ratings_dist(e_ratings)"
   ]
  },
  {
   "cell_type": "code",
   "execution_count": null,
   "metadata": {},
   "outputs": [
    {
     "name": "stdout",
     "output_type": "stream",
     "text": [
      "[0.06183, 0.06082, 0.09422, 0.23901, 0.54413]\n"
     ]
    }
   ],
   "source": [
    "ne_ratings = [x for bid in bids_elites_lower for x in bid_2_stars_ne[bid]]\n",
    "#e_ratings = [x for bid in bids_elites_lower for x in bid_2_stars_e[bid]]\n",
    "plot_ratings_dist(ne_ratings, \"Rating : X\", \"Percentage of X star rating by non-elites\")\n",
    "#plot_ratings_dist(e_ratings)"
   ]
  },
  {
   "cell_type": "code",
   "execution_count": null,
   "metadata": {},
   "outputs": [
    {
     "name": "stdout",
     "output_type": "stream",
     "text": [
      "[0.06832, 0.06832, 0.13665, 0.29814, 0.42857]\n"
     ]
    }
   ],
   "source": [
    "ne_ratings = [x for bid in bids_elites_equal for x in bid_2_stars_ne[bid]]\n",
    "#e_ratings = [x for bid in bids_elites_equal for x in bid_2_stars_e[bid]]\n",
    "plot_ratings_dist(ne_ratings, \"Rating : X\", \"Percentage of X star rating by non-elites\")\n",
    "#plot_ratings_dist(e_ratings)"
   ]
  },
  {
   "cell_type": "code",
   "execution_count": null,
   "metadata": {},
   "outputs": [
    {
     "name": "stdout",
     "output_type": "stream",
     "text": [
      "[0.02469, 0.06895, 0.19631, 0.39761, 0.31245]\n"
     ]
    }
   ],
   "source": [
    "e_ratings = [x for bid in bidswith40elites for x in bid_2_stars_e[bid]]\n",
    "plot_ratings_dist(e_ratings, \"Rating : X\", \"Percentage of X star rating by elites\")"
   ]
  },
  {
   "cell_type": "code",
   "execution_count": null,
   "metadata": {},
   "outputs": [
    {
     "name": "stdout",
     "output_type": "stream",
     "text": [
      "[0.11151, 0.08814, 0.11536, 0.24102, 0.44397]\n"
     ]
    }
   ],
   "source": [
    "ne_ratings = [x for bid in bidswith40elites for x in bid_2_stars_ne[bid]]\n",
    "plot_ratings_dist(ne_ratings, \"Rating : X\", \"Percentage of X star rating by non-elites\")"
   ]
  },
  {
   "cell_type": "code",
   "execution_count": null,
   "metadata": {},
   "outputs": [],
   "source": []
  }
 ],
 "metadata": {
  "kernelspec": {
   "display_name": "Python 3",
   "language": "python",
   "name": "python3"
  },
  "language_info": {
   "codemirror_mode": {
    "name": "ipython",
    "version": 3
   },
   "file_extension": ".py",
   "mimetype": "text/x-python",
   "name": "python",
   "nbconvert_exporter": "python",
   "pygments_lexer": "ipython3",
   "version": "3.7.2"
  }
 },
 "nbformat": 4,
 "nbformat_minor": 4
}
