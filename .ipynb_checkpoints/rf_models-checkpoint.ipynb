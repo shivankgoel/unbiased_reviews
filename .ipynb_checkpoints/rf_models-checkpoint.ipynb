{
 "cells": [
  {
   "cell_type": "code",
   "execution_count": 1,
   "metadata": {},
   "outputs": [
    {
     "name": "stderr",
     "output_type": "stream",
     "text": [
      "Using TensorFlow backend.\n"
     ]
    },
    {
     "name": "stdout",
     "output_type": "stream",
     "text": [
      "User Data Loaded\n",
      "Businesses Data Loaded\n",
      "Review Data Loaded\n"
     ]
    }
   ],
   "source": [
    "from helper import *\n",
    "from datasetcreator import *\n",
    "from dependencies import *\n",
    "from loaddata import review_data,business_data, rest_data, user_data, elite_udata, non_elite_udata"
   ]
  },
  {
   "cell_type": "code",
   "execution_count": 2,
   "metadata": {},
   "outputs": [
    {
     "name": "stdout",
     "output_type": "stream",
     "text": [
      "Size of Vocabulary:  15374\n"
     ]
    }
   ],
   "source": [
    "cv, bid_2_stars_ne, review_data_ne, bid_2_textenc = give_text_feats_tfidf(review_data)\n",
    "bid_2_stars_e = review_data.loc[review_data['iselite'] == True].groupby('business_id')['stars'].apply(list).to_dict()"
   ]
  },
  {
   "cell_type": "code",
   "execution_count": 303,
   "metadata": {},
   "outputs": [],
   "source": [
    "def give_reg_model_rf(n=100,mins = 1):\n",
    "    print(\"Random Forest\")\n",
    "    model = RandomForestRegressor(n_estimators = n,oob_score = True, min_samples_leaf  = mins, random_state = 2, n_jobs=-1)\n",
    "    return model"
   ]
  },
  {
   "cell_type": "code",
   "execution_count": 300,
   "metadata": {},
   "outputs": [
    {
     "name": "stdout",
     "output_type": "stream",
     "text": [
      "Dimension of Our Dataset:  (5926, 47)\n",
      "Random Forest\n",
      "MSE:  0.0398\n",
      "R-Squared :  0.774\n",
      "Margin  0.10  0.20  0.30  0.40  0.50\n",
      "        40.39  71.42  87.77  95.03  97.81\n",
      " \n"
     ]
    }
   ],
   "source": [
    "xfeat,yfeat= create_dataset_everything(40,business_data,bid_2_stars_ne,bid_2_stars_e,bid_2_textenc)\n",
    "xtrain, xtest, ytrain, ytest = give_train_test(xfeat, yfeat)\n",
    "model = give_reg_model_rf(n=2000, mins=30)\n",
    "model, rsqr  = test_model(model,xtrain,ytrain,xtest,ytest)"
   ]
  },
  {
   "cell_type": "code",
   "execution_count": 301,
   "metadata": {},
   "outputs": [],
   "source": [
    "from sklearn.tree import export_graphviz"
   ]
  },
  {
   "cell_type": "code",
   "execution_count": 298,
   "metadata": {},
   "outputs": [],
   "source": [
    "import pydot\n",
    "tree = model.estimators_[0]\n",
    "f1 = ['NE-Avg','%1 star','%2 star','%3 star','%4 star','%5 star']\n",
    "f2 = f1 + ['' for x in range(0,41)]\n",
    "export_graphviz(tree, out_file = 'tree.dot',feature_names = f2,rounded = True, precision = 3)\n"
   ]
  },
  {
   "cell_type": "code",
   "execution_count": 299,
   "metadata": {},
   "outputs": [],
   "source": [
    "(graph, ) = pydot.graph_from_dot_file('tree.dot')\n",
    "graph.write_png('tree2.png')"
   ]
  },
  {
   "cell_type": "code",
   "execution_count": null,
   "metadata": {},
   "outputs": [
    {
     "name": "stdout",
     "output_type": "stream",
     "text": [
      "Dimension of Our Dataset:  (5926, 15421)\n",
      "Random Forest\n"
     ]
    }
   ],
   "source": [
    "xfeat,yfeat= create_dataset_everything_text(40,business_data,bid_2_stars_ne,bid_2_stars_e,bid_2_textenc)\n",
    "xtrain, xtest, ytrain, ytest = give_train_test(xfeat, yfeat)\n",
    "model = give_reg_model_rf()\n",
    "model, rsqr  = test_model(model,xtrain,ytrain,xtest,ytest)"
   ]
  },
  {
   "cell_type": "code",
   "execution_count": null,
   "metadata": {},
   "outputs": [],
   "source": [
    "fnames = ['NE-Avg','%1 star','%2 star','%3 star','%4 star','%5 star'] + cv.vocabulary_\n"
   ]
  }
 ],
 "metadata": {
  "kernelspec": {
   "display_name": "Python 3",
   "language": "python",
   "name": "python3"
  },
  "language_info": {
   "codemirror_mode": {
    "name": "ipython",
    "version": 3
   },
   "file_extension": ".py",
   "mimetype": "text/x-python",
   "name": "python",
   "nbconvert_exporter": "python",
   "pygments_lexer": "ipython3",
   "version": "3.7.2"
  }
 },
 "nbformat": 4,
 "nbformat_minor": 4
}
