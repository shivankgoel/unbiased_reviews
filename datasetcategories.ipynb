{
 "cells": [
  {
   "cell_type": "code",
   "execution_count": 1,
   "metadata": {},
   "outputs": [
    {
     "name": "stderr",
     "output_type": "stream",
     "text": [
      "Using TensorFlow backend.\n"
     ]
    },
    {
     "name": "stdout",
     "output_type": "stream",
     "text": [
      "User Data Loaded\n",
      "Businesses Data Loaded\n",
      "Review Data Loaded\n"
     ]
    }
   ],
   "source": [
    "from dependencies import *\n",
    "from loaddata import review_data,business_data, rest_data, user_data, elite_udata, non_elite_udata"
   ]
  },
  {
   "cell_type": "code",
   "execution_count": 2,
   "metadata": {},
   "outputs": [],
   "source": [
    "cl = list(business_data['categories'].replace(np.nan, '', regex=True))\n",
    "\n",
    "def give_categ2freq():\n",
    "\tcateg2freq = {}\n",
    "\tfor l in cl:\n",
    "\t\tif l != '':\n",
    "\t\t\tcategs = l.split(', ')\n",
    "\t\t\tfor c in categs:\n",
    "\t\t\t\tif c not in categ2freq:\n",
    "\t\t\t\t\tcateg2freq[c] = 1\n",
    "\t\t\t\telse:\n",
    "\t\t\t\t\tcateg2freq[c] +=1\n",
    "\treturn categ2freq\n",
    "\n",
    "\n",
    "categ2freq = give_categ2freq()"
   ]
  },
  {
   "cell_type": "code",
   "execution_count": 3,
   "metadata": {},
   "outputs": [],
   "source": [
    "import operator\n",
    "%matplotlib qt\n",
    "\n",
    "def plot_categ_freq(topk = 10):\n",
    "\tcateg2freq_sorted = sorted(categ2freq.items(), key=operator.itemgetter(1), reverse = True)[:topk]\n",
    "\tcategs, freqs = zip(*categ2freq_sorted)\n",
    "\tplt.bar(categs,freqs)\n",
    "\tplt.show()\n",
    "\n",
    "\n",
    "plot_categ_freq(6)"
   ]
  },
  {
   "cell_type": "code",
   "execution_count": 4,
   "metadata": {},
   "outputs": [],
   "source": [
    "shopping_idx = ['Shopping' in x.split(', ') for x in list(business_data['categories'].replace(np.nan, '', regex=True))]\n",
    "food_idx = ['Food' in x.split(', ') for x in list(business_data['categories'].replace(np.nan, '', regex=True))]\n",
    "rest_idx = ['Restaurants' in x.split(', ') for x in list(business_data['categories'].replace(np.nan, '', regex=True))]\n",
    "home_idx = ['Home Services' in x.split(', ') for x in list(business_data['categories'].replace(np.nan, '', regex=True))]\n",
    "beauty_idx = ['Beauty & Spas' in x.split(', ') for x in list(business_data['categories'].replace(np.nan, '', regex=True))]\n",
    "health_idx = ['Health & Medical' in x.split(', ') for x in list(business_data['categories'].replace(np.nan, '', regex=True))]\n",
    "local_idx = ['Local Services' in x.split(', ') for x in list(business_data['categories'].replace(np.nan, '', regex=True))]"
   ]
  },
  {
   "cell_type": "code",
   "execution_count": 5,
   "metadata": {},
   "outputs": [],
   "source": [
    "rest_and_food_idx = [x or y for x,y in zip(food_idx,rest_idx)]"
   ]
  },
  {
   "cell_type": "code",
   "execution_count": 6,
   "metadata": {},
   "outputs": [
    {
     "data": {
      "text/plain": [
       "0.3871054831290334"
      ]
     },
     "execution_count": 6,
     "metadata": {},
     "output_type": "execute_result"
    }
   ],
   "source": [
    "np.sum(rest_and_food_idx)/len(business_data)"
   ]
  },
  {
   "cell_type": "code",
   "execution_count": 11,
   "metadata": {},
   "outputs": [
    {
     "data": {
      "text/plain": [
       "<BarContainer object of 5 artists>"
      ]
     },
     "execution_count": 11,
     "metadata": {},
     "output_type": "execute_result"
    }
   ],
   "source": [
    "%matplotlib qt\n",
    "#%pylab qt\n",
    "plt.rcParams.update({'font.size': 14})\n",
    "x = [\"Restaurants and Food\", \"Shopping\", \"Home Services\", \"Beauty & Spa\", \"Health & Medical\"]\n",
    "y = [np.sum(rest_and_food_idx), np.sum(shopping_idx), np.sum(home_idx), np.sum(beauty_idx), np.sum(health_idx)]\n",
    "plt.bar(x,y,width=0.6)"
   ]
  },
  {
   "cell_type": "code",
   "execution_count": 8,
   "metadata": {},
   "outputs": [],
   "source": [
    "bid_2_stars_e = review_data.loc[review_data['iselite'] == True].groupby('business_id')['stars'].apply(list).to_dict()\n",
    "bid_2_stars_ne = review_data.loc[review_data['iselite'] == False].groupby('business_id')['stars'].apply(list).to_dict()\n"
   ]
  },
  {
   "cell_type": "code",
   "execution_count": 21,
   "metadata": {},
   "outputs": [],
   "source": [
    "bid_2_stars = review_data.groupby('business_id')['stars'].apply(list).to_dict()"
   ]
  },
  {
   "cell_type": "code",
   "execution_count": 9,
   "metadata": {},
   "outputs": [
    {
     "data": {
      "text/plain": [
       "12.680874463519313"
      ]
     },
     "execution_count": 9,
     "metadata": {},
     "output_type": "execute_result"
    }
   ],
   "source": [
    "np.mean([len(bid_2_stars_e[x])  if x in bid_2_stars_e else 0 for x in  business_data[rest_and_food_idx]['business_id'].values])"
   ]
  },
  {
   "cell_type": "code",
   "execution_count": 10,
   "metadata": {},
   "outputs": [
    {
     "data": {
      "text/plain": [
       "3.1544952631909156"
      ]
     },
     "execution_count": 10,
     "metadata": {},
     "output_type": "execute_result"
    }
   ],
   "source": [
    "np.mean([len(bid_2_stars_e[x])  if x in bid_2_stars_e else 0 for x in  business_data[shopping_idx]['business_id'].values])"
   ]
  },
  {
   "cell_type": "code",
   "execution_count": 11,
   "metadata": {},
   "outputs": [
    {
     "data": {
      "text/plain": [
       "0.7289269603122307"
      ]
     },
     "execution_count": 11,
     "metadata": {},
     "output_type": "execute_result"
    }
   ],
   "source": [
    "np.mean([len(bid_2_stars_e[x])  if x in bid_2_stars_e else 0 for x in  business_data[home_idx]['business_id'].values])"
   ]
  },
  {
   "cell_type": "code",
   "execution_count": 12,
   "metadata": {},
   "outputs": [
    {
     "data": {
      "text/plain": [
       "2.101239029426949"
      ]
     },
     "execution_count": 12,
     "metadata": {},
     "output_type": "execute_result"
    }
   ],
   "source": [
    "np.mean([len(bid_2_stars_e[x])  if x in bid_2_stars_e else 0 for x in  business_data[beauty_idx]['business_id'].values])"
   ]
  },
  {
   "cell_type": "code",
   "execution_count": 13,
   "metadata": {},
   "outputs": [
    {
     "data": {
      "text/plain": [
       "1.10069302894415"
      ]
     },
     "execution_count": 13,
     "metadata": {},
     "output_type": "execute_result"
    }
   ],
   "source": [
    "np.mean([len(bid_2_stars_e[x])  if x in bid_2_stars_e else 0 for x in  business_data[health_idx]['business_id'].values])"
   ]
  },
  {
   "cell_type": "code",
   "execution_count": 14,
   "metadata": {},
   "outputs": [
    {
     "data": {
      "text/plain": [
       "6.393740687091465"
      ]
     },
     "execution_count": 14,
     "metadata": {},
     "output_type": "execute_result"
    }
   ],
   "source": [
    "np.mean([len(bid_2_stars_e[x])  if x in bid_2_stars_e else 0 for x in  business_data['business_id'].values])"
   ]
  },
  {
   "cell_type": "code",
   "execution_count": 15,
   "metadata": {},
   "outputs": [
    {
     "name": "stdout",
     "output_type": "stream",
     "text": [
      "5928\n",
      "5219\n",
      "222\n",
      "12\n",
      "69\n",
      "10\n"
     ]
    }
   ],
   "source": [
    "print(np.sum([len(bid_2_stars_e[x]) >= 40 for x  in business_data['business_id'].values  if x in bid_2_stars_e ]))\n",
    "print(np.sum([len(bid_2_stars_e[x]) >= 40 for x  in business_data[rest_and_food_idx]['business_id'].values  if x in bid_2_stars_e ]))\n",
    "print(np.sum([len(bid_2_stars_e[x]) >= 40 for x  in business_data[shopping_idx]['business_id'].values  if x in bid_2_stars_e ]))\n",
    "print(np.sum([len(bid_2_stars_e[x]) >= 40 for x  in business_data[home_idx]['business_id'].values  if x in bid_2_stars_e ]))\n",
    "print(np.sum([len(bid_2_stars_e[x]) >= 40 for x  in business_data[beauty_idx]['business_id'].values  if x in bid_2_stars_e ]))\n",
    "print(np.sum([len(bid_2_stars_e[x]) >= 40 for x  in business_data[health_idx]['business_id'].values  if x in bid_2_stars_e ]))"
   ]
  },
  {
   "cell_type": "code",
   "execution_count": 16,
   "metadata": {},
   "outputs": [
    {
     "name": "stdout",
     "output_type": "stream",
     "text": [
      "7021\n",
      "6150\n",
      "282\n",
      "17\n",
      "78\n",
      "13\n"
     ]
    }
   ],
   "source": [
    "print(np.sum([len(bid_2_stars_e[x]) >= 35 for x  in business_data['business_id'].values  if x in bid_2_stars_e ]))\n",
    "print(np.sum([len(bid_2_stars_e[x]) >= 35 for x  in business_data[rest_and_food_idx]['business_id'].values  if x in bid_2_stars_e ]))\n",
    "print(np.sum([len(bid_2_stars_e[x]) >= 35 for x  in business_data[shopping_idx]['business_id'].values  if x in bid_2_stars_e ]))\n",
    "print(np.sum([len(bid_2_stars_e[x]) >= 35 for x  in business_data[home_idx]['business_id'].values  if x in bid_2_stars_e ]))\n",
    "print(np.sum([len(bid_2_stars_e[x]) >= 35 for x  in business_data[beauty_idx]['business_id'].values  if x in bid_2_stars_e ]))\n",
    "print(np.sum([len(bid_2_stars_e[x]) >= 35 for x  in business_data[health_idx]['business_id'].values  if x in bid_2_stars_e ]))"
   ]
  },
  {
   "cell_type": "code",
   "execution_count": 17,
   "metadata": {},
   "outputs": [
    {
     "name": "stdout",
     "output_type": "stream",
     "text": [
      "8407\n",
      "7335\n",
      "357\n",
      "19\n",
      "100\n",
      "17\n"
     ]
    }
   ],
   "source": [
    "print(np.sum([len(bid_2_stars_e[x]) >= 30 for x  in business_data['business_id'].values  if x in bid_2_stars_e ]))\n",
    "print(np.sum([len(bid_2_stars_e[x]) >= 30 for x  in business_data[rest_and_food_idx]['business_id'].values  if x in bid_2_stars_e ]))\n",
    "print(np.sum([len(bid_2_stars_e[x]) >= 30 for x  in business_data[shopping_idx]['business_id'].values  if x in bid_2_stars_e ]))\n",
    "print(np.sum([len(bid_2_stars_e[x]) >= 30 for x  in business_data[home_idx]['business_id'].values  if x in bid_2_stars_e ]))\n",
    "print(np.sum([len(bid_2_stars_e[x]) >= 30 for x  in business_data[beauty_idx]['business_id'].values  if x in bid_2_stars_e ]))\n",
    "print(np.sum([len(bid_2_stars_e[x]) >= 30 for x  in business_data[health_idx]['business_id'].values  if x in bid_2_stars_e ]))"
   ]
  },
  {
   "cell_type": "code",
   "execution_count": 18,
   "metadata": {},
   "outputs": [
    {
     "name": "stdout",
     "output_type": "stream",
     "text": [
      "10412\n",
      "9046\n",
      "471\n",
      "28\n",
      "129\n",
      "24\n"
     ]
    }
   ],
   "source": [
    "print(np.sum([len(bid_2_stars_e[x]) >= 25 for x  in business_data['business_id'].values  if x in bid_2_stars_e ]))\n",
    "print(np.sum([len(bid_2_stars_e[x]) >= 25 for x  in business_data[rest_and_food_idx]['business_id'].values  if x in bid_2_stars_e ]))\n",
    "print(np.sum([len(bid_2_stars_e[x]) >= 25 for x  in business_data[shopping_idx]['business_id'].values  if x in bid_2_stars_e ]))\n",
    "print(np.sum([len(bid_2_stars_e[x]) >= 25 for x  in business_data[home_idx]['business_id'].values  if x in bid_2_stars_e ]))\n",
    "print(np.sum([len(bid_2_stars_e[x]) >= 25 for x  in business_data[beauty_idx]['business_id'].values  if x in bid_2_stars_e ]))\n",
    "print(np.sum([len(bid_2_stars_e[x]) >= 25 for x  in business_data[health_idx]['business_id'].values  if x in bid_2_stars_e ]))"
   ]
  },
  {
   "cell_type": "code",
   "execution_count": 24,
   "metadata": {},
   "outputs": [
    {
     "name": "stdout",
     "output_type": "stream",
     "text": [
      "192606\n",
      "74559\n",
      "31876\n",
      "19729\n",
      "19370\n",
      "17171\n"
     ]
    }
   ],
   "source": [
    "print(np.sum([len(bid_2_stars[x]) >= 1 for x  in business_data['business_id'].values  if x in bid_2_stars ]))\n",
    "print(np.sum([len(bid_2_stars[x]) >= 1 for x  in business_data[rest_and_food_idx]['business_id'].values  if x in bid_2_stars ]))\n",
    "print(np.sum([len(bid_2_stars[x]) >= 1 for x  in business_data[shopping_idx]['business_id'].values  if x in bid_2_stars ]))\n",
    "print(np.sum([len(bid_2_stars[x]) >= 1 for x  in business_data[home_idx]['business_id'].values  if x in bid_2_stars ]))\n",
    "print(np.sum([len(bid_2_stars[x]) >= 1 for x  in business_data[beauty_idx]['business_id'].values  if x in bid_2_stars ]))\n",
    "print(np.sum([len(bid_2_stars[x]) >= 1 for x  in business_data[health_idx]['business_id'].values  if x in bid_2_stars ]))"
   ]
  },
  {
   "cell_type": "code",
   "execution_count": 25,
   "metadata": {},
   "outputs": [
    {
     "name": "stdout",
     "output_type": "stream",
     "text": [
      "126211\n",
      "191396\n",
      "192607\n"
     ]
    }
   ],
   "source": [
    "print(len(bid_2_stars_e))\n",
    "print(len(bid_2_stars_ne))\n",
    "print(len(bid_2_stars))"
   ]
  },
  {
   "cell_type": "code",
   "execution_count": null,
   "metadata": {},
   "outputs": [],
   "source": []
  }
 ],
 "metadata": {
  "kernelspec": {
   "display_name": "Python 3",
   "language": "python",
   "name": "python3"
  },
  "language_info": {
   "codemirror_mode": {
    "name": "ipython",
    "version": 3
   },
   "file_extension": ".py",
   "mimetype": "text/x-python",
   "name": "python",
   "nbconvert_exporter": "python",
   "pygments_lexer": "ipython3",
   "version": "3.7.2"
  }
 },
 "nbformat": 4,
 "nbformat_minor": 4
}
