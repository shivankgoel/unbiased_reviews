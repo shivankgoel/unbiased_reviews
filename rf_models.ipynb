{
 "cells": [
  {
   "cell_type": "code",
   "execution_count": 1,
   "metadata": {},
   "outputs": [
    {
     "name": "stderr",
     "output_type": "stream",
     "text": [
      "Using TensorFlow backend.\n"
     ]
    },
    {
     "name": "stdout",
     "output_type": "stream",
     "text": [
      "User Data Loaded\n",
      "Businesses Data Loaded\n",
      "Review Data Loaded\n"
     ]
    }
   ],
   "source": [
    "from helper import *\n",
    "from datasetcreator import *\n",
    "from dependencies import *\n",
    "from loaddata import review_data,business_data, rest_data, user_data, elite_udata, non_elite_udata"
   ]
  },
  {
   "cell_type": "code",
   "execution_count": 2,
   "metadata": {},
   "outputs": [
    {
     "name": "stdout",
     "output_type": "stream",
     "text": [
      "Size of Vocabulary:  15374\n"
     ]
    }
   ],
   "source": [
    "cv, bid_2_stars_ne, review_data_ne, bid_2_textenc = give_text_feats_tfidf(review_data)\n",
    "bid_2_stars_e = review_data.loc[review_data['iselite'] == True].groupby('business_id')['stars'].apply(list).to_dict()"
   ]
  },
  {
   "cell_type": "code",
   "execution_count": 303,
   "metadata": {},
   "outputs": [],
   "source": [
    "def give_reg_model_rf(n=100,mins = 1):\n",
    "    print(\"Random Forest\")\n",
    "    model = RandomForestRegressor(n_estimators = n,oob_score = True, min_samples_leaf  = mins, random_state = 2, n_jobs=-1)\n",
    "    return model"
   ]
  },
  {
   "cell_type": "code",
   "execution_count": 300,
   "metadata": {},
   "outputs": [
    {
     "name": "stdout",
     "output_type": "stream",
     "text": [
      "Dimension of Our Dataset:  (5926, 47)\n",
      "Random Forest\n",
      "MSE:  0.0398\n",
      "R-Squared :  0.774\n",
      "Margin  0.10  0.20  0.30  0.40  0.50\n",
      "        40.39  71.42  87.77  95.03  97.81\n",
      " \n"
     ]
    }
   ],
   "source": [
    "xfeat,yfeat= create_dataset_everything(40,business_data,bid_2_stars_ne,bid_2_stars_e,bid_2_textenc)\n",
    "xtrain, xtest, ytrain, ytest = give_train_test(xfeat, yfeat)\n",
    "model = give_reg_model_rf(n=2000, mins=30)\n",
    "model, rsqr  = test_model(model,xtrain,ytrain,xtest,ytest)"
   ]
  },
  {
   "cell_type": "code",
   "execution_count": 301,
   "metadata": {},
   "outputs": [],
   "source": [
    "from sklearn.tree import export_graphviz"
   ]
  },
  {
   "cell_type": "code",
   "execution_count": 298,
   "metadata": {},
   "outputs": [],
   "source": [
    "import pydot\n",
    "tree = model.estimators_[0]\n",
    "f1 = ['NE-Avg','%1 star','%2 star','%3 star','%4 star','%5 star']\n",
    "f2 = f1 + ['' for x in range(0,41)]\n",
    "export_graphviz(tree, out_file = 'tree.dot',feature_names = f2,rounded = True, precision = 3)\n"
   ]
  },
  {
   "cell_type": "code",
   "execution_count": 299,
   "metadata": {},
   "outputs": [],
   "source": [
    "(graph, ) = pydot.graph_from_dot_file('tree.dot')\n",
    "graph.write_png('tree2.png')"
   ]
  },
  {
   "cell_type": "code",
   "execution_count": 327,
   "metadata": {},
   "outputs": [],
   "source": [
    "def create_dataset_everything_text(min_thold, bdata, bid_2_stars, bid_2_stars_e, bid_2_textenc, max_thold=float('inf')):\n",
    "    basicprint = False\n",
    "    x1 = []\n",
    "    x2 = []\n",
    "    y = []\n",
    "    bids = bdata['business_id'].values\n",
    "    for bid in bids:\n",
    "        if bid in bid_2_stars and bid in bid_2_stars_e and bid in bid_2_textenc:\n",
    "            stars_e = bid_2_stars_e[bid]\n",
    "            stars_ne = bid_2_stars[bid]\n",
    "            lestars = len(stars_e)\n",
    "            if(lestars >= min_thold and lestars < max_thold):\n",
    "                x = []\n",
    "                x.append([np.mean(stars_ne)])\n",
    "                countratings = [Counter(stars_ne)[i] for i in range(1,6)]\n",
    "                distribution = [x/sum(countratings) for x in countratings]\n",
    "                x.append(distribution)\n",
    "                x.append(give_categ(np.mean(stars_ne)))\n",
    "                x.append(bid_2_textenc[bid])\n",
    "                x = [item for sublist in x for item in sublist]\n",
    "                x1.append(x)\n",
    "                y.append(np.mean(stars_e))                        \n",
    "    xfeat = np.array(x1)\n",
    "    imp = SimpleImputer(missing_values=np.nan, strategy='mean')\n",
    "    xfeat = imp.fit_transform(xfeat)\n",
    "    yfeat = np.array(y).reshape(-1,)\n",
    "    print(\"Dimension of Our Dataset: \", xfeat.shape)\n",
    "    return xfeat,yfeat\n",
    "  "
   ]
  },
  {
   "cell_type": "code",
   "execution_count": 328,
   "metadata": {},
   "outputs": [
    {
     "name": "stdout",
     "output_type": "stream",
     "text": [
      "Dimension of Our Dataset:  (5926, 15421)\n",
      "Random Forest\n",
      "MSE:  0.0298\n",
      "R-Squared :  0.8305\n",
      "Margin  0.10  0.20  0.30  0.40  0.50\n",
      "        45.11  76.64  92.16  97.47  99.33\n",
      " \n"
     ]
    }
   ],
   "source": [
    "xfeat,yfeat= create_dataset_everything_text(40,business_data,bid_2_stars_ne,bid_2_stars_e,bid_2_textenc)\n",
    "xtrain, xtest, ytrain, ytest = give_train_test(xfeat, yfeat)\n",
    "model = give_reg_model_rf()\n",
    "model, rsqr  = test_model(model,xtrain,ytrain,xtest,ytest)"
   ]
  },
  {
   "cell_type": "code",
   "execution_count": 331,
   "metadata": {},
   "outputs": [],
   "source": [
    "import operator\n",
    "sorted_d = sorted(cv.vocabulary_.items(), key=operator.itemgetter(1))\n",
    "myvocab = [x[0] for x in sorted_d]\n",
    "fnames = ['NE-Avg','%1 star','%2 star','%3 star','%4 star','%5 star'] + [\"bucket\"+str(1+(0.1*x)) for x in range(0,41)] + myvocab"
   ]
  },
  {
   "cell_type": "code",
   "execution_count": 341,
   "metadata": {},
   "outputs": [
    {
     "data": {
      "text/plain": [
       "[('NE-Avg', 0.46039427496662),\n",
       " ('%5 star', 0.28556612556360667),\n",
       " ('ordered', 0.004037451983372462),\n",
       " ('%4 star', 0.0030214840572476537),\n",
       " ('%3 star', 0.0029700939423346843),\n",
       " ('good', 0.0025148325479667096),\n",
       " ('decent', 0.0024646090118006607),\n",
       " ('bad', 0.0015549979307181885),\n",
       " ('tasted', 0.001531190090024915),\n",
       " ('place', 0.0014121830093210752)]"
      ]
     },
     "execution_count": 341,
     "metadata": {},
     "output_type": "execute_result"
    }
   ],
   "source": [
    "feature_importances = {feature: importance for feature, importance in zip(fnames, list(model.feature_importances_))}\n",
    "sorted_fi = sorted(feature_importances.items(), key=operator.itemgetter(1), reverse=True)\n",
    "sorted_fi[:10]"
   ]
  },
  {
   "cell_type": "code",
   "execution_count": 339,
   "metadata": {},
   "outputs": [
    {
     "data": {
      "text/plain": [
       "<BarContainer object of 10 artists>"
      ]
     },
     "execution_count": 339,
     "metadata": {},
     "output_type": "execute_result"
    }
   ],
   "source": [
    "%matplotlib qt\n",
    "plt.xticks(rotation='vertical')\n",
    "plt.bar([a[0] for a in sorted_fi[:10]],[a[1] for a in sorted_fi[:10]])"
   ]
  },
  {
   "cell_type": "code",
   "execution_count": null,
   "metadata": {},
   "outputs": [],
   "source": []
  }
 ],
 "metadata": {
  "kernelspec": {
   "display_name": "Python 3",
   "language": "python",
   "name": "python3"
  },
  "language_info": {
   "codemirror_mode": {
    "name": "ipython",
    "version": 3
   },
   "file_extension": ".py",
   "mimetype": "text/x-python",
   "name": "python",
   "nbconvert_exporter": "python",
   "pygments_lexer": "ipython3",
   "version": "3.7.2"
  }
 },
 "nbformat": 4,
 "nbformat_minor": 4
}
