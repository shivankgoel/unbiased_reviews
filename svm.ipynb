{
 "cells": [
  {
   "cell_type": "code",
   "execution_count": 1,
   "metadata": {},
   "outputs": [
    {
     "name": "stderr",
     "output_type": "stream",
     "text": [
      "Using TensorFlow backend.\n"
     ]
    },
    {
     "name": "stdout",
     "output_type": "stream",
     "text": [
      "User Data Loaded\n",
      "Businesses Data Loaded\n",
      "Review Data Loaded\n"
     ]
    }
   ],
   "source": [
    "from helper import *\n",
    "from datasetcreator import *\n",
    "from dependencies import *\n",
    "from loaddata import review_data,business_data, rest_data, user_data, elite_udata, non_elite_udata"
   ]
  },
  {
   "cell_type": "code",
   "execution_count": 2,
   "metadata": {},
   "outputs": [
    {
     "name": "stdout",
     "output_type": "stream",
     "text": [
      "Size of Vocabulary:  15374\n"
     ]
    }
   ],
   "source": [
    "cv, bid_2_stars_ne, review_data_ne, bid_2_textenc = give_text_feats_tfidf(review_data)\n",
    "bid_2_stars_e = review_data.loc[review_data['iselite'] == True].groupby('business_id')['stars'].apply(list).to_dict()"
   ]
  },
  {
   "cell_type": "code",
   "execution_count": 48,
   "metadata": {},
   "outputs": [],
   "source": [
    "def give_reg_model_svm(pcadim=125, c=1.0, eps=0.2, k= 'rbf'):\n",
    "    print(\"SVM\")\n",
    "    x = []\n",
    "    x.append(('pca', PCA(pcadim)))\n",
    "    x.append(('svm', SVR(gamma='scale', C= c, epsilon = eps, kernel= k)))\n",
    "    model = Pipeline(x)\n",
    "    return model"
   ]
  },
  {
   "cell_type": "code",
   "execution_count": 5,
   "metadata": {},
   "outputs": [
    {
     "name": "stdout",
     "output_type": "stream",
     "text": [
      "Dimension of Our Dataset:  (5926, 15421)\n",
      "SVM\n",
      "MSE:  0.0653\n",
      "R-Squared :  0.629\n",
      "Margin  0.10  0.20  0.30  0.40  0.50\n",
      "        36.09  63.24  80.69  88.95  93.76\n",
      " \n"
     ]
    }
   ],
   "source": [
    "xfeat,yfeat= create_dataset_everything_text(40,business_data,bid_2_stars_ne,bid_2_stars_e,bid_2_textenc)\n",
    "xtrain, xtest, ytrain, ytest = give_train_test(xfeat, yfeat)\n",
    "model = give_reg_model_svm(eps=0.1)\n",
    "model, rsqr  = test_model(model,xtrain,ytrain,xtest,ytest)"
   ]
  },
  {
   "cell_type": "code",
   "execution_count": 56,
   "metadata": {},
   "outputs": [
    {
     "name": "stdout",
     "output_type": "stream",
     "text": [
      "SVM\n",
      "MSE:  0.0275\n",
      "R-Squared :  0.8439\n",
      "Margin  0.10  0.20  0.30  0.40  0.50\n",
      "        48.74  78.67  93.34  97.13  99.41\n",
      " \n"
     ]
    }
   ],
   "source": [
    "model = give_reg_model_svm(pcadim= 1000, eps=0.01, c = 1.5)\n",
    "model, rsqr  = test_model(model,xtrain,ytrain,xtest,ytest)"
   ]
  },
  {
   "cell_type": "code",
   "execution_count": 57,
   "metadata": {},
   "outputs": [],
   "source": [
    "def give_reg_model_svm_nopca(c=1.0, eps=0.2):\n",
    "    print(\"SVM\")\n",
    "    x = []\n",
    "    #x.append(('normalization', StandardScaler()))\n",
    "    #x.append(('pca', PCA(pcadim)))\n",
    "    x.append(('svm', SVR(gamma='scale', C= c, epsilon = eps)))\n",
    "    model = Pipeline(x)\n",
    "    return model"
   ]
  },
  {
   "cell_type": "code",
   "execution_count": 58,
   "metadata": {},
   "outputs": [
    {
     "name": "stdout",
     "output_type": "stream",
     "text": [
      "SVM\n",
      "MSE:  0.0317\n",
      "R-Squared :  0.8199\n",
      "Margin  0.10  0.20  0.30  0.40  0.50\n",
      "        46.12  77.15  91.99  96.37  98.82\n",
      " \n"
     ]
    }
   ],
   "source": [
    "model = give_reg_model_svm_nopca(eps=0.01, c = 1.5)\n",
    "model, rsqr  = test_model(model,xtrain,ytrain,xtest,ytest)"
   ]
  },
  {
   "cell_type": "code",
   "execution_count": null,
   "metadata": {},
   "outputs": [],
   "source": []
  }
 ],
 "metadata": {
  "kernelspec": {
   "display_name": "Python 3",
   "language": "python",
   "name": "python3"
  },
  "language_info": {
   "codemirror_mode": {
    "name": "ipython",
    "version": 3
   },
   "file_extension": ".py",
   "mimetype": "text/x-python",
   "name": "python",
   "nbconvert_exporter": "python",
   "pygments_lexer": "ipython3",
   "version": "3.7.2"
  }
 },
 "nbformat": 4,
 "nbformat_minor": 4
}
