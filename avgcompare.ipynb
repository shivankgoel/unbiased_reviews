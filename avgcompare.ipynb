{
 "cells": [
  {
   "cell_type": "code",
   "execution_count": 1,
   "metadata": {},
   "outputs": [
    {
     "name": "stderr",
     "output_type": "stream",
     "text": [
      "Using TensorFlow backend.\n"
     ]
    },
    {
     "name": "stdout",
     "output_type": "stream",
     "text": [
      "User Data Loaded\n",
      "Businesses Data Loaded\n",
      "Review Data Loaded\n"
     ]
    }
   ],
   "source": [
    "from helper import *\n",
    "from dependencies import *\n",
    "from loaddata import review_data,business_data, rest_data, user_data, elite_udata, non_elite_udata"
   ]
  },
  {
   "cell_type": "code",
   "execution_count": 2,
   "metadata": {},
   "outputs": [
    {
     "name": "stdout",
     "output_type": "stream",
     "text": [
      "Size of Vocabulary:  15374\n"
     ]
    }
   ],
   "source": [
    "cv, bid_2_stars_ne, review_data_ne, bid_2_textenc = give_text_feats_tfidf(review_data)\n",
    "bid_2_stars_e = review_data.loc[review_data['iselite'] == True].groupby('business_id')['stars'].apply(list).to_dict()"
   ]
  },
  {
   "cell_type": "code",
   "execution_count": 4,
   "metadata": {},
   "outputs": [],
   "source": [
    "def create_dataset(min_thold, bdata, bid_2_stars, bid_2_stars_e, bid_2_textenc, textenc = False, vec = False, max_thold=float('inf')):\n",
    "    basicprint = False\n",
    "    x1 = []\n",
    "    x2 = []\n",
    "    y = []\n",
    "    bids = bdata['business_id'].values\n",
    "    for bid in bids:\n",
    "        if bid in bid_2_stars and bid in bid_2_stars_e and bid in bid_2_textenc:\n",
    "            stars_e = bid_2_stars_e[bid]\n",
    "            stars_ne = bid_2_stars[bid]\n",
    "            lestars = len(stars_e)\n",
    "            if(lestars >= min_thold and lestars < max_thold):\n",
    "                x = []\n",
    "                x.append([Counter(stars_ne)[i] for i in range(1,6)])\n",
    "                x.append([len(stars_ne)])\n",
    "                x.append([np.mean(stars_ne)])\n",
    "                if textenc:\n",
    "                    if basicprint:\n",
    "                        print('Num features before text: ', len([item for sublist in x for item in sublist]))\n",
    "                    x.append(bid_2_textenc[bid])\n",
    "                    if basicprint:\n",
    "                        print('Num features after text: ', len([item for sublist in x for item in sublist]))\n",
    "                        basicprint = False\n",
    "                x = [item for sublist in x for item in sublist]\n",
    "                x1.append(x)\n",
    "                x = []\n",
    "                if vec:\n",
    "                    x.append(give_categ(np.mean(stars_ne)))\n",
    "                x = [item for sublist in x for item in sublist]\n",
    "                x2.append(x)\n",
    "                y.append(np.mean(stars_e))                        \n",
    "    x1 = np.array(x1)\n",
    "    x2 = np.array(x2)\n",
    "    if not vec:\n",
    "        x2 = x2.reshape(-1,1)\n",
    "    xfeat = np.concatenate((x1,x2),axis=1)\n",
    "    imp = SimpleImputer(missing_values=np.nan, strategy='mean')\n",
    "    xfeat = imp.fit_transform(xfeat)\n",
    "    yfeat = np.array(y).reshape(-1,)\n",
    "    print(\"Dimension of Our Dataset: \", xfeat.shape)\n",
    "    return xfeat,yfeat"
   ]
  },
  {
   "cell_type": "code",
   "execution_count": 6,
   "metadata": {},
   "outputs": [],
   "source": [
    "def give_categ(avg):\n",
    "    temp = np.zeros(41)\n",
    "    c = int((avg-1)/0.1) \n",
    "    temp[c] = 1\n",
    "    return temp"
   ]
  },
  {
   "cell_type": "code",
   "execution_count": 7,
   "metadata": {},
   "outputs": [
    {
     "name": "stdout",
     "output_type": "stream",
     "text": [
      "Dimension of Our Dataset:  (5926, 15422)\n"
     ]
    }
   ],
   "source": [
    "xfeat,yfeat= create_dataset(40,business_data,bid_2_stars_ne,bid_2_stars_e,bid_2_textenc,True,True)\n",
    "noneliteavg = xfeat[:,6].reshape(-1,1)"
   ]
  },
  {
   "cell_type": "code",
   "execution_count": 16,
   "metadata": {},
   "outputs": [
    {
     "name": "stdout",
     "output_type": "stream",
     "text": [
      "Linear\n",
      "MSE:  0.0408\n",
      "R-Squared :  0.7683\n",
      "Margin  0.10  0.20  0.30  0.40  0.50\n",
      "        40.13  70.07  87.52  94.44  98.06\n",
      " \n"
     ]
    },
    {
     "data": {
      "text/plain": [
       "(Ridge(alpha=0, copy_X=True, fit_intercept=True, max_iter=None,\n",
       "    normalize=False, random_state=None, solver='auto', tol=0.001),\n",
       " 0.7683452418124346)"
      ]
     },
     "execution_count": 16,
     "metadata": {},
     "output_type": "execute_result"
    }
   ],
   "source": [
    "xtrain, xtest, ytrain, ytest = give_train_test(noneliteavg, yfeat)\n",
    "model  = give_reg_model_linear(0)\n",
    "test_model(model,xtrain,ytrain,xtest,ytest)"
   ]
  },
  {
   "cell_type": "code",
   "execution_count": 17,
   "metadata": {},
   "outputs": [
    {
     "name": "stdout",
     "output_type": "stream",
     "text": [
      "0.6647555039544589\n",
      "1.3670049383404042\n"
     ]
    }
   ],
   "source": [
    "print(model.coef_[0])\n",
    "print(model.intercept_)"
   ]
  },
  {
   "cell_type": "code",
   "execution_count": 18,
   "metadata": {},
   "outputs": [
    {
     "name": "stdout",
     "output_type": "stream",
     "text": [
      "MSE:  0.0408\n",
      "R-Squared :  0.7683\n",
      "Margin  0.10  0.20  0.30  0.40  0.50\n",
      "        40.13  70.07  87.52  94.44  98.06\n",
      " \n"
     ]
    },
    {
     "data": {
      "text/plain": [
       "(LinearRegression(copy_X=True, fit_intercept=True, n_jobs=None,\n",
       "          normalize=False), 0.7683452418124346)"
      ]
     },
     "execution_count": 18,
     "metadata": {},
     "output_type": "execute_result"
    }
   ],
   "source": [
    "model = linear_model.LinearRegression()\n",
    "test_model(model,xtrain,ytrain,xtest,ytest)"
   ]
  },
  {
   "cell_type": "code",
   "execution_count": 19,
   "metadata": {},
   "outputs": [
    {
     "name": "stdout",
     "output_type": "stream",
     "text": [
      "0.6647555039544589\n",
      "1.3670049383404042\n"
     ]
    }
   ],
   "source": [
    "print(model.coef_[0])\n",
    "print(model.intercept_)"
   ]
  },
  {
   "cell_type": "code",
   "execution_count": 10,
   "metadata": {},
   "outputs": [
    {
     "data": {
      "text/plain": [
       "<matplotlib.legend.Legend at 0x1ae80fa908>"
      ]
     },
     "execution_count": 10,
     "metadata": {},
     "output_type": "execute_result"
    }
   ],
   "source": [
    "%matplotlib qt\n",
    "plt.xlabel(\"Average Non-Elite Ratings\")\n",
    "plt.ylabel(\"Average Elite-Ratings\")\n",
    "plt.scatter(noneliteavg,yfeat,color='green',label='Scatter Plot')\n",
    "x = [1.5,2,2.5,3,3.5,4,4.5,5]\n",
    "reg_out = [model.coef_[0]*a+model.intercept_ for a in  x]\n",
    "plt.plot(x,x,'r-', label='Identity Line', linewidth = 2)\n",
    "plt.plot(x,reg_out,'b-', label='Linear Regression', linewidth = 2)\n",
    "plt.legend(loc=\"best\")"
   ]
  },
  {
   "cell_type": "code",
   "execution_count": 11,
   "metadata": {},
   "outputs": [
    {
     "name": "stdout",
     "output_type": "stream",
     "text": [
      "(4740,)\n",
      "(1186,)\n",
      "MSE:  0.0757\n",
      "R-Squared :  0.57\n",
      "Margin  0.10  0.20  0.30  0.40  0.50\n",
      "        33.39  59.36  76.31  85.33  92.58\n",
      " \n"
     ]
    },
    {
     "data": {
      "text/plain": [
       "0.5699704082332262"
      ]
     },
     "execution_count": 11,
     "metadata": {},
     "output_type": "execute_result"
    }
   ],
   "source": [
    "xtrain, xtest, ytrain, ytest = give_train_test(noneliteavg, yfeat)\n",
    "print(ytrain.shape)\n",
    "print(ytest.shape)\n",
    "print_prediction(xtest,ytest.reshape(-1,1))"
   ]
  },
  {
   "cell_type": "code",
   "execution_count": 12,
   "metadata": {},
   "outputs": [
    {
     "name": "stdout",
     "output_type": "stream",
     "text": [
      "5926\n",
      "3681\n",
      "2240\n",
      "5\n"
     ]
    }
   ],
   "source": [
    "bidswith40elites = [bid for bid,ratings in bid_2_stars_e.items() if  bid in bid_2_stars_ne and bid in bid_2_textenc and len(ratings) >= 40]\n",
    "bids_elites_higher = [bid for bid,ratings in bid_2_stars_e.items() if  bid in bid_2_stars_ne and bid in bid_2_textenc and len(ratings) >= 40 and np.mean(ratings) > np.mean(bid_2_stars_ne[bid])]\n",
    "bids_elites_lower = [bid for bid,ratings in bid_2_stars_e.items() if  bid in bid_2_stars_ne and bid in bid_2_textenc and len(ratings) >= 40 and np.mean(ratings) < np.mean(bid_2_stars_ne[bid])]\n",
    "bids_elites_equal = [bid for bid,ratings in bid_2_stars_e.items() if  bid in bid_2_stars_ne and bid in bid_2_textenc and len(ratings) >= 40 and np.mean(ratings) == np.mean(bid_2_stars_ne[bid])]\n",
    "print(len(bidswith40elites))\n",
    "print(len(bids_elites_higher))\n",
    "print(len(bids_elites_lower))\n",
    "print(len(bids_elites_equal))\n"
   ]
  },
  {
   "cell_type": "code",
   "execution_count": 17,
   "metadata": {},
   "outputs": [
    {
     "name": "stdout",
     "output_type": "stream",
     "text": [
      "[0.14354, 0.10575, 0.12897, 0.2423, 0.37944]\n"
     ]
    }
   ],
   "source": [
    "ne_ratings = [x for bid in bids_elites_higher for x in bid_2_stars_ne[bid]]\n",
    "#e_ratings = [x for bid in bids_elites_higher for x in bid_2_stars_e[bid]]\n",
    "plot_ratings_dist(ne_ratings, \"Rating : X\", \"Percentage of X star rating by non-elites\")\n",
    "#plot_ratings_dist(e_ratings)"
   ]
  },
  {
   "cell_type": "code",
   "execution_count": 16,
   "metadata": {},
   "outputs": [],
   "source": [
    "def plot_ratings_dist(t,xl=\"\",yl=\"\"):\n",
    "    countnumberofeachstar = [Counter(t)[i] for i in range(1,6)]\n",
    "    totalnumberofratings = len(t)\n",
    "    distribution = [round(x/totalnumberofratings,5) for x in countnumberofeachstar]\n",
    "    print(distribution)\n",
    "    plt.bar([1,2,3,4,5],distribution, width=0.5)\n",
    "    for a,b in zip([1,2,3,4,5], distribution):\n",
    "        plt.text(a - 0.15, b + 0.004, str(np.round(b*100)))\n",
    "    plt.xlabel(xl)\n",
    "    plt.ylabel(yl)\n",
    "    plt.show()"
   ]
  },
  {
   "cell_type": "code",
   "execution_count": 18,
   "metadata": {},
   "outputs": [
    {
     "name": "stdout",
     "output_type": "stream",
     "text": [
      "[0.06183, 0.06082, 0.09422, 0.23901, 0.54413]\n"
     ]
    }
   ],
   "source": [
    "ne_ratings = [x for bid in bids_elites_lower for x in bid_2_stars_ne[bid]]\n",
    "#e_ratings = [x for bid in bids_elites_lower for x in bid_2_stars_e[bid]]\n",
    "plot_ratings_dist(ne_ratings, \"Rating : X\", \"Percentage of X star rating by non-elites\")\n",
    "#plot_ratings_dist(e_ratings)"
   ]
  },
  {
   "cell_type": "code",
   "execution_count": null,
   "metadata": {},
   "outputs": [
    {
     "name": "stdout",
     "output_type": "stream",
     "text": [
      "[0.06832, 0.06832, 0.13665, 0.29814, 0.42857]\n"
     ]
    }
   ],
   "source": [
    "ne_ratings = [x for bid in bids_elites_equal for x in bid_2_stars_ne[bid]]\n",
    "#e_ratings = [x for bid in bids_elites_equal for x in bid_2_stars_e[bid]]\n",
    "plot_ratings_dist(ne_ratings, \"Rating : X\", \"Percentage of X star rating by non-elites\")\n",
    "#plot_ratings_dist(e_ratings)"
   ]
  },
  {
   "cell_type": "code",
   "execution_count": null,
   "metadata": {},
   "outputs": [
    {
     "name": "stdout",
     "output_type": "stream",
     "text": [
      "[0.02469, 0.06895, 0.19631, 0.39761, 0.31245]\n"
     ]
    }
   ],
   "source": [
    "e_ratings = [x for bid in bidswith40elites for x in bid_2_stars_e[bid]]\n",
    "plot_ratings_dist(e_ratings, \"Rating : X\", \"Percentage of X star rating by elites\")"
   ]
  },
  {
   "cell_type": "code",
   "execution_count": null,
   "metadata": {},
   "outputs": [
    {
     "name": "stdout",
     "output_type": "stream",
     "text": [
      "[0.11151, 0.08814, 0.11536, 0.24102, 0.44397]\n"
     ]
    }
   ],
   "source": [
    "ne_ratings = [x for bid in bidswith40elites for x in bid_2_stars_ne[bid]]\n",
    "plot_ratings_dist(ne_ratings, \"Rating : X\", \"Percentage of X star rating by non-elites\")"
   ]
  },
  {
   "cell_type": "code",
   "execution_count": null,
   "metadata": {},
   "outputs": [],
   "source": []
  }
 ],
 "metadata": {
  "kernelspec": {
   "display_name": "Python 3",
   "language": "python",
   "name": "python3"
  },
  "language_info": {
   "codemirror_mode": {
    "name": "ipython",
    "version": 3
   },
   "file_extension": ".py",
   "mimetype": "text/x-python",
   "name": "python",
   "nbconvert_exporter": "python",
   "pygments_lexer": "ipython3",
   "version": "3.7.2"
  }
 },
 "nbformat": 4,
 "nbformat_minor": 4
}
