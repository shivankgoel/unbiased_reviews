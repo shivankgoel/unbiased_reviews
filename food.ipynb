{
 "cells": [
  {
   "cell_type": "code",
   "execution_count": 1,
   "metadata": {},
   "outputs": [
    {
     "name": "stderr",
     "output_type": "stream",
     "text": [
      "Using TensorFlow backend.\n"
     ]
    },
    {
     "name": "stdout",
     "output_type": "stream",
     "text": [
      "User Data Loaded\n",
      "Businesses Data Loaded\n",
      "Review Data Loaded\n"
     ]
    }
   ],
   "source": [
    "from dependencies import *\n",
    "from helper import *\n",
    "from loaddata import review_data,business_data, user_data, elite_udata, non_elite_udata"
   ]
  },
  {
   "cell_type": "code",
   "execution_count": 2,
   "metadata": {},
   "outputs": [
    {
     "name": "stdout",
     "output_type": "stream",
     "text": [
      "Size of Vocabulary:  15374\n"
     ]
    }
   ],
   "source": [
    "cv, bid_2_stars_ne, review_data_ne, bid_2_textenc = give_text_feats_tfidf(review_data)\n",
    "bid_2_stars_e = review_data.loc[review_data['iselite'] == True].groupby('business_id')['stars'].apply(list).to_dict()"
   ]
  },
  {
   "cell_type": "code",
   "execution_count": 3,
   "metadata": {},
   "outputs": [],
   "source": [
    "food_idx = ['Food' in x.split(', ') for x in list(business_data['categories'].replace(np.nan, '', regex=True))]\n",
    "food_data = business_data[food_idx]"
   ]
  },
  {
   "cell_type": "code",
   "execution_count": 4,
   "metadata": {},
   "outputs": [
    {
     "name": "stdout",
     "output_type": "stream",
     "text": [
      "Dimension of Our Dataset:  (1864, 15398)\n"
     ]
    }
   ],
   "source": [
    "xfeat,yfeat= create_dataset(40,food_data,bid_2_stars_ne,bid_2_stars_e,bid_2_textenc,True,True)\n",
    "xtrain, xtest, ytrain, ytest = give_train_test(xfeat, yfeat)"
   ]
  },
  {
   "cell_type": "code",
   "execution_count": 5,
   "metadata": {},
   "outputs": [
    {
     "name": "stdout",
     "output_type": "stream",
     "text": [
      "Linear\n",
      "Margin  0.10  0.20  0.30  0.40  0.50\n",
      "        44.24  74.53  90.88  97.32  99.46\n",
      " \n",
      "Random Forest\n",
      "Margin  0.10  0.20  0.30  0.40  0.50\n",
      "        37.80  69.44  86.86  94.10  97.59\n",
      " \n",
      "SVM\n",
      "Margin  0.10  0.20  0.30  0.40  0.50\n",
      "        33.51  62.73  78.02  89.54  92.76\n",
      " \n",
      "Gradient Boost\n",
      "Margin  0.10  0.20  0.30  0.40  0.50\n",
      "        41.55  73.73  87.67  96.51  98.39\n",
      " \n",
      "Bagging\n",
      "Margin  0.10  0.20  0.30  0.40  0.50\n",
      "        44.77  74.53  90.35  97.32  99.73\n",
      " \n"
     ]
    },
    {
     "data": {
      "text/plain": [
       "BaggingRegressor(base_estimator=Ridge(alpha=0.8, copy_X=True, fit_intercept=True, max_iter=None,\n",
       "   normalize=False, random_state=None, solver='auto', tol=0.001),\n",
       "         bootstrap=True, bootstrap_features=False, max_features=1.0,\n",
       "         max_samples=1.0, n_estimators=100, n_jobs=None, oob_score=False,\n",
       "         random_state=0, verbose=0, warm_start=False)"
      ]
     },
     "execution_count": 5,
     "metadata": {},
     "output_type": "execute_result"
    }
   ],
   "source": [
    "model = give_reg_model_linear()\n",
    "test_model(model,xtrain,ytrain,xtest,ytest)\n",
    "model = give_reg_model_rf()\n",
    "test_model(model,xtrain,ytrain,xtest,ytest)\n",
    "model = give_reg_model_svm()\n",
    "test_model(model,xtrain,ytrain,xtest,ytest)\n",
    "# model = give_reg_model_nn()\n",
    "# test_model(model,xtrain,ytrain,xtest,ytest)\n",
    "model = give_reg_model_gb()\n",
    "test_model(model,xtrain,ytrain,xtest,ytest)\n",
    "model = give_reg_model_bagging()\n",
    "test_model(model,xtrain,ytrain,xtest,ytest)"
   ]
  },
  {
   "cell_type": "code",
   "execution_count": 6,
   "metadata": {},
   "outputs": [
    {
     "name": "stdout",
     "output_type": "stream",
     "text": [
      "Dimension of Our Dataset:  (2193, 15398)\n"
     ]
    }
   ],
   "source": [
    "xfeat,yfeat= create_dataset(35,food_data,bid_2_stars_ne,bid_2_stars_e,bid_2_textenc,True,True)\n",
    "xtrain, xtest, ytrain, ytest = give_train_test(xfeat, yfeat)"
   ]
  },
  {
   "cell_type": "code",
   "execution_count": 7,
   "metadata": {},
   "outputs": [
    {
     "name": "stdout",
     "output_type": "stream",
     "text": [
      "Linear\n",
      "Margin  0.10  0.20  0.30  0.40  0.50\n",
      "        42.82  73.35  88.15  97.72  98.86\n",
      " \n",
      "Random Forest\n",
      "Margin  0.10  0.20  0.30  0.40  0.50\n",
      "        36.67  72.21  86.56  95.67  98.63\n",
      " \n",
      "SVM\n",
      "Margin  0.10  0.20  0.30  0.40  0.50\n",
      "        33.94  61.05  78.13  89.75  95.90\n",
      " \n",
      "Gradient Boost\n",
      "Margin  0.10  0.20  0.30  0.40  0.50\n",
      "        40.55  72.44  87.47  96.58  99.09\n",
      " \n",
      "Bagging\n",
      "Margin  0.10  0.20  0.30  0.40  0.50\n",
      "        42.82  73.80  88.38  97.49  99.09\n",
      " \n"
     ]
    },
    {
     "data": {
      "text/plain": [
       "BaggingRegressor(base_estimator=Ridge(alpha=0.8, copy_X=True, fit_intercept=True, max_iter=None,\n",
       "   normalize=False, random_state=None, solver='auto', tol=0.001),\n",
       "         bootstrap=True, bootstrap_features=False, max_features=1.0,\n",
       "         max_samples=1.0, n_estimators=100, n_jobs=None, oob_score=False,\n",
       "         random_state=0, verbose=0, warm_start=False)"
      ]
     },
     "execution_count": 7,
     "metadata": {},
     "output_type": "execute_result"
    }
   ],
   "source": [
    "model = give_reg_model_linear()\n",
    "test_model(model,xtrain,ytrain,xtest,ytest)\n",
    "model = give_reg_model_rf()\n",
    "test_model(model,xtrain,ytrain,xtest,ytest)\n",
    "model = give_reg_model_svm()\n",
    "test_model(model,xtrain,ytrain,xtest,ytest)\n",
    "# model = give_reg_model_nn()\n",
    "# test_model(model,xtrain,ytrain,xtest,ytest)\n",
    "model = give_reg_model_gb()\n",
    "test_model(model,xtrain,ytrain,xtest,ytest)\n",
    "model = give_reg_model_bagging()\n",
    "test_model(model,xtrain,ytrain,xtest,ytest)"
   ]
  },
  {
   "cell_type": "code",
   "execution_count": null,
   "metadata": {},
   "outputs": [],
   "source": []
  }
 ],
 "metadata": {
  "kernelspec": {
   "display_name": "Python 3",
   "language": "python",
   "name": "python3"
  },
  "language_info": {
   "codemirror_mode": {
    "name": "ipython",
    "version": 3
   },
   "file_extension": ".py",
   "mimetype": "text/x-python",
   "name": "python",
   "nbconvert_exporter": "python",
   "pygments_lexer": "ipython3",
   "version": "3.7.2"
  }
 },
 "nbformat": 4,
 "nbformat_minor": 4
}
