{
 "cells": [
  {
   "cell_type": "code",
   "execution_count": 1,
   "metadata": {},
   "outputs": [
    {
     "name": "stderr",
     "output_type": "stream",
     "text": [
      "Using TensorFlow backend.\n"
     ]
    },
    {
     "name": "stdout",
     "output_type": "stream",
     "text": [
      "User Data Loaded\n",
      "Businesses Data Loaded\n",
      "Review Data Loaded\n"
     ]
    }
   ],
   "source": [
    "from dependencies import *\n",
    "from helper import *\n",
    "from loaddata import review_data,business_data, user_data, elite_udata, non_elite_udata"
   ]
  },
  {
   "cell_type": "code",
   "execution_count": 2,
   "metadata": {},
   "outputs": [
    {
     "name": "stdout",
     "output_type": "stream",
     "text": [
      "Size of Vocabulary:  15374\n"
     ]
    }
   ],
   "source": [
    "cv, bid_2_stars_ne, review_data_ne, bid_2_textenc = give_text_feats_tfidf(review_data)\n",
    "bid_2_stars_e = review_data.loc[review_data['iselite'] == True].groupby('business_id')['stars'].apply(list).to_dict()"
   ]
  },
  {
   "cell_type": "code",
   "execution_count": 3,
   "metadata": {},
   "outputs": [],
   "source": [
    "home_idx = ['Home Services' in x.split(', ') for x in list(business_data['categories'].replace(np.nan, '', regex=True))]\n",
    "home_data = business_data[home_idx]"
   ]
  },
  {
   "cell_type": "code",
   "execution_count": 11,
   "metadata": {},
   "outputs": [
    {
     "name": "stdout",
     "output_type": "stream",
     "text": [
      "Dimension of Our Dataset:  (495, 15398)\n"
     ]
    }
   ],
   "source": [
    "xfeat,yfeat= create_dataset(5,home_data,bid_2_stars_ne,bid_2_stars_e,bid_2_textenc,True,True)\n",
    "xtrain, xtest, ytrain, ytest = give_train_test(xfeat, yfeat)"
   ]
  },
  {
   "cell_type": "code",
   "execution_count": 12,
   "metadata": {},
   "outputs": [
    {
     "name": "stdout",
     "output_type": "stream",
     "text": [
      "Linear\n",
      "Margin  0.10  0.20  0.30  0.40  0.50\n",
      "        13.13  32.32  41.41  54.55  62.63\n",
      " \n",
      "Random Forest\n",
      "Margin  0.10  0.20  0.30  0.40  0.50\n",
      "        17.17  31.31  47.47  58.59  66.67\n",
      " \n",
      "SVM\n",
      "Margin  0.10  0.20  0.30  0.40  0.50\n",
      "        11.11  25.25  31.31  45.45  59.60\n",
      " \n",
      "Gradient Boost\n",
      "Margin  0.10  0.20  0.30  0.40  0.50\n",
      "        17.17  33.33  46.46  56.57  64.65\n",
      " \n",
      "Bagging\n",
      "Margin  0.10  0.20  0.30  0.40  0.50\n",
      "        11.11  30.30  43.43  53.54  62.63\n",
      " \n"
     ]
    },
    {
     "data": {
      "text/plain": [
       "BaggingRegressor(base_estimator=Ridge(alpha=0.8, copy_X=True, fit_intercept=True, max_iter=None,\n",
       "   normalize=False, random_state=None, solver='auto', tol=0.001),\n",
       "         bootstrap=True, bootstrap_features=False, max_features=1.0,\n",
       "         max_samples=1.0, n_estimators=100, n_jobs=None, oob_score=False,\n",
       "         random_state=0, verbose=0, warm_start=False)"
      ]
     },
     "execution_count": 12,
     "metadata": {},
     "output_type": "execute_result"
    }
   ],
   "source": [
    "model = give_reg_model_linear()\n",
    "test_model(model,xtrain,ytrain,xtest,ytest)\n",
    "model = give_reg_model_rf()\n",
    "test_model(model,xtrain,ytrain,xtest,ytest)\n",
    "model = give_reg_model_svm()\n",
    "test_model(model,xtrain,ytrain,xtest,ytest)\n",
    "# model = give_reg_model_nn()\n",
    "# test_model(model,xtrain,ytrain,xtest,ytest)\n",
    "model = give_reg_model_gb()\n",
    "test_model(model,xtrain,ytrain,xtest,ytest)\n",
    "model = give_reg_model_bagging()\n",
    "test_model(model,xtrain,ytrain,xtest,ytest)"
   ]
  },
  {
   "cell_type": "code",
   "execution_count": 13,
   "metadata": {},
   "outputs": [
    {
     "name": "stdout",
     "output_type": "stream",
     "text": [
      "Dimension of Our Dataset:  (280, 15398)\n"
     ]
    }
   ],
   "source": [
    "xfeat,yfeat= create_dataset(7,home_data,bid_2_stars_ne,bid_2_stars_e,bid_2_textenc,True,True)\n",
    "xtrain, xtest, ytrain, ytest = give_train_test(xfeat, yfeat)"
   ]
  },
  {
   "cell_type": "code",
   "execution_count": 14,
   "metadata": {},
   "outputs": [
    {
     "name": "stdout",
     "output_type": "stream",
     "text": [
      "Linear\n",
      "Margin  0.10  0.20  0.30  0.40  0.50\n",
      "        14.29  37.50  53.57  62.50  71.43\n",
      " \n",
      "Random Forest\n",
      "Margin  0.10  0.20  0.30  0.40  0.50\n",
      "        16.07  33.93  57.14  62.50  69.64\n",
      " \n",
      "SVM\n",
      "Margin  0.10  0.20  0.30  0.40  0.50\n",
      "        19.64  28.57  33.93  42.86  57.14\n",
      " \n",
      "Gradient Boost\n",
      "Margin  0.10  0.20  0.30  0.40  0.50\n",
      "        17.86  35.71  50.00  58.93  67.86\n",
      " \n",
      "Bagging\n",
      "Margin  0.10  0.20  0.30  0.40  0.50\n",
      "        17.86  35.71  57.14  64.29  69.64\n",
      " \n"
     ]
    },
    {
     "data": {
      "text/plain": [
       "BaggingRegressor(base_estimator=Ridge(alpha=0.8, copy_X=True, fit_intercept=True, max_iter=None,\n",
       "   normalize=False, random_state=None, solver='auto', tol=0.001),\n",
       "         bootstrap=True, bootstrap_features=False, max_features=1.0,\n",
       "         max_samples=1.0, n_estimators=100, n_jobs=None, oob_score=False,\n",
       "         random_state=0, verbose=0, warm_start=False)"
      ]
     },
     "execution_count": 14,
     "metadata": {},
     "output_type": "execute_result"
    }
   ],
   "source": [
    "model = give_reg_model_linear()\n",
    "test_model(model,xtrain,ytrain,xtest,ytest)\n",
    "model = give_reg_model_rf()\n",
    "test_model(model,xtrain,ytrain,xtest,ytest)\n",
    "model = give_reg_model_svm()\n",
    "test_model(model,xtrain,ytrain,xtest,ytest)\n",
    "# model = give_reg_model_nn()\n",
    "# test_model(model,xtrain,ytrain,xtest,ytest)\n",
    "model = give_reg_model_gb()\n",
    "test_model(model,xtrain,ytrain,xtest,ytest)\n",
    "model = give_reg_model_bagging()\n",
    "test_model(model,xtrain,ytrain,xtest,ytest)"
   ]
  },
  {
   "cell_type": "code",
   "execution_count": 17,
   "metadata": {},
   "outputs": [
    {
     "name": "stdout",
     "output_type": "stream",
     "text": [
      "Dimension of Our Dataset:  (183, 15398)\n"
     ]
    }
   ],
   "source": [
    "xfeat,yfeat= create_dataset(9,home_data,bid_2_stars_ne,bid_2_stars_e,bid_2_textenc,True,True)\n",
    "xtrain, xtest, ytrain, ytest = give_train_test(xfeat, yfeat)"
   ]
  },
  {
   "cell_type": "code",
   "execution_count": 18,
   "metadata": {},
   "outputs": [
    {
     "name": "stdout",
     "output_type": "stream",
     "text": [
      "Linear\n",
      "Margin  0.10  0.20  0.30  0.40  0.50\n",
      "        13.51  32.43  51.35  56.76  75.68\n",
      " \n",
      "Random Forest\n",
      "Margin  0.10  0.20  0.30  0.40  0.50\n",
      "        8.11  35.14  56.76  67.57  81.08\n",
      " \n",
      "SVM\n",
      "Margin  0.10  0.20  0.30  0.40  0.50\n",
      "        16.22  27.03  35.14  48.65  56.76\n",
      " \n",
      "Gradient Boost\n",
      "Margin  0.10  0.20  0.30  0.40  0.50\n",
      "        16.22  29.73  43.24  59.46  78.38\n",
      " \n",
      "Bagging\n",
      "Margin  0.10  0.20  0.30  0.40  0.50\n",
      "        10.81  40.54  51.35  59.46  75.68\n",
      " \n"
     ]
    },
    {
     "data": {
      "text/plain": [
       "BaggingRegressor(base_estimator=Ridge(alpha=0.8, copy_X=True, fit_intercept=True, max_iter=None,\n",
       "   normalize=False, random_state=None, solver='auto', tol=0.001),\n",
       "         bootstrap=True, bootstrap_features=False, max_features=1.0,\n",
       "         max_samples=1.0, n_estimators=100, n_jobs=None, oob_score=False,\n",
       "         random_state=0, verbose=0, warm_start=False)"
      ]
     },
     "execution_count": 18,
     "metadata": {},
     "output_type": "execute_result"
    }
   ],
   "source": [
    "model = give_reg_model_linear()\n",
    "test_model(model,xtrain,ytrain,xtest,ytest)\n",
    "model = give_reg_model_rf()\n",
    "test_model(model,xtrain,ytrain,xtest,ytest)\n",
    "model = give_reg_model_svm()\n",
    "test_model(model,xtrain,ytrain,xtest,ytest)\n",
    "# model = give_reg_model_nn()\n",
    "# test_model(model,xtrain,ytrain,xtest,ytest)\n",
    "model = give_reg_model_gb()\n",
    "test_model(model,xtrain,ytrain,xtest,ytest)\n",
    "model = give_reg_model_bagging()\n",
    "test_model(model,xtrain,ytrain,xtest,ytest)"
   ]
  },
  {
   "cell_type": "code",
   "execution_count": 21,
   "metadata": {},
   "outputs": [
    {
     "name": "stdout",
     "output_type": "stream",
     "text": [
      "Margin  0.10  0.20  0.30  0.40  0.50\n",
      "        10.81  21.62  32.43  40.54  45.95\n",
      " \n"
     ]
    }
   ],
   "source": [
    "print_prediction(xtest[:,6],ytest)"
   ]
  },
  {
   "cell_type": "code",
   "execution_count": null,
   "metadata": {},
   "outputs": [],
   "source": []
  }
 ],
 "metadata": {
  "kernelspec": {
   "display_name": "Python 3",
   "language": "python",
   "name": "python3"
  },
  "language_info": {
   "codemirror_mode": {
    "name": "ipython",
    "version": 3
   },
   "file_extension": ".py",
   "mimetype": "text/x-python",
   "name": "python",
   "nbconvert_exporter": "python",
   "pygments_lexer": "ipython3",
   "version": "3.7.2"
  }
 },
 "nbformat": 4,
 "nbformat_minor": 4
}
