{
 "cells": [
  {
   "cell_type": "code",
   "execution_count": 2,
   "metadata": {},
   "outputs": [
    {
     "name": "stderr",
     "output_type": "stream",
     "text": [
      "Using TensorFlow backend.\n"
     ]
    },
    {
     "name": "stdout",
     "output_type": "stream",
     "text": [
      "User Data Loaded\n",
      "Businesses Data Loaded\n",
      "Review Data Loaded\n"
     ]
    }
   ],
   "source": [
    "from dependencies import *\n",
    "from helper import *\n",
    "from loaddata import review_data,business_data, rest_data, user_data, elite_udata, non_elite_udata"
   ]
  },
  {
   "cell_type": "code",
   "execution_count": 3,
   "metadata": {},
   "outputs": [
    {
     "name": "stdout",
     "output_type": "stream",
     "text": [
      "Size of Vocabulary:  15374\n"
     ]
    }
   ],
   "source": [
    "cv, bid_2_stars_ne, review_data_ne, bid_2_textenc = give_text_feats_tfidf(review_data)\n",
    "bid_2_stars_e = review_data.loc[review_data['iselite'] == True].groupby('business_id')['stars'].apply(list).to_dict()"
   ]
  },
  {
   "cell_type": "code",
   "execution_count": 4,
   "metadata": {},
   "outputs": [
    {
     "name": "stdout",
     "output_type": "stream",
     "text": [
      "Dimension of Our Dataset:  (4771, 15398)\n"
     ]
    }
   ],
   "source": [
    "xfeat,yfeat= create_dataset(40,rest_data,bid_2_stars_ne,bid_2_stars_e,bid_2_textenc,True,True)\n",
    "xtrain, xtest, ytrain, ytest = give_train_test(xfeat, yfeat)"
   ]
  },
  {
   "cell_type": "code",
   "execution_count": 5,
   "metadata": {},
   "outputs": [
    {
     "name": "stdout",
     "output_type": "stream",
     "text": [
      "Linear\n",
      "Margin  Accuracy\n",
      "0.10    48.27\n",
      "0.20    78.22\n",
      "0.30    92.46\n",
      "0.40    97.38\n",
      "0.50    98.85\n",
      " \n"
     ]
    },
    {
     "data": {
      "text/plain": [
       "Ridge(alpha=0.8, copy_X=True, fit_intercept=True, max_iter=None,\n",
       "   normalize=False, random_state=None, solver='auto', tol=0.001)"
      ]
     },
     "execution_count": 5,
     "metadata": {},
     "output_type": "execute_result"
    }
   ],
   "source": [
    "model = give_reg_model_linear(0.8)\n",
    "test_model(model,xtrain,ytrain,xtest,ytest)"
   ]
  },
  {
   "cell_type": "code",
   "execution_count": 6,
   "metadata": {},
   "outputs": [
    {
     "name": "stdout",
     "output_type": "stream",
     "text": [
      "Random Forest\n",
      "Margin  Accuracy\n",
      "0.10    42.51\n",
      "0.20    73.40\n",
      "0.30    89.01\n",
      "0.40    95.50\n",
      "0.50    98.22\n",
      " \n"
     ]
    },
    {
     "data": {
      "text/plain": [
       "Pipeline(memory=None,\n",
       "     steps=[('pca', PCA(copy=True, iterated_power='auto', n_components=125, random_state=None,\n",
       "  svd_solver='auto', tol=0.0, whiten=False)), ('rf_regression', RandomForestRegressor(bootstrap=True, criterion='mse', max_depth=None,\n",
       "           max_features='auto', max_leaf_nodes=None,\n",
       "           min_impurit...imators=100, n_jobs=None,\n",
       "           oob_score=False, random_state=4, verbose=0, warm_start=False))])"
      ]
     },
     "execution_count": 6,
     "metadata": {},
     "output_type": "execute_result"
    }
   ],
   "source": [
    "model = give_reg_model_rf()\n",
    "test_model(model,xtrain,ytrain,xtest,ytest)"
   ]
  },
  {
   "cell_type": "code",
   "execution_count": 7,
   "metadata": {},
   "outputs": [
    {
     "name": "stdout",
     "output_type": "stream",
     "text": [
      "SVM\n",
      "Margin  Accuracy\n",
      "0.10    36.13\n",
      "0.20    66.18\n",
      "0.30    82.20\n",
      "0.40    91.83\n",
      "0.50    95.81\n",
      " \n"
     ]
    },
    {
     "data": {
      "text/plain": [
       "Pipeline(memory=None,\n",
       "     steps=[('normalization', StandardScaler(copy=True, with_mean=True, with_std=True)), ('pca', PCA(copy=True, iterated_power='auto', n_components=125, random_state=None,\n",
       "  svd_solver='auto', tol=0.0, whiten=False)), ('svm', SVR(C=1.0, cache_size=200, coef0=0.0, degree=3, epsilon=0.2, gamma='scale',\n",
       "  kernel='rbf', max_iter=-1, shrinking=True, tol=0.001, verbose=False))])"
      ]
     },
     "execution_count": 7,
     "metadata": {},
     "output_type": "execute_result"
    }
   ],
   "source": [
    "model = give_reg_model_svm()\n",
    "test_model(model,xtrain,ytrain,xtest,ytest)"
   ]
  },
  {
   "cell_type": "code",
   "execution_count": 8,
   "metadata": {},
   "outputs": [],
   "source": [
    "# model = give_reg_model_nn(15398)\n",
    "# test_model(model,xtrain,ytrain,xtest,ytest)"
   ]
  },
  {
   "cell_type": "code",
   "execution_count": 9,
   "metadata": {},
   "outputs": [
    {
     "name": "stdout",
     "output_type": "stream",
     "text": [
      "Gradient Boost\n",
      "Margin  Accuracy\n",
      "0.10    45.24\n",
      "0.20    77.38\n",
      "0.30    91.73\n",
      "0.40    96.34\n",
      "0.50    98.85\n",
      " \n"
     ]
    },
    {
     "data": {
      "text/plain": [
       "GradientBoostingRegressor(alpha=0.9, criterion='friedman_mse', init=None,\n",
       "             learning_rate=0.1, loss='ls', max_depth=3, max_features=None,\n",
       "             max_leaf_nodes=None, min_impurity_decrease=0.0,\n",
       "             min_impurity_split=None, min_samples_leaf=1,\n",
       "             min_samples_split=2, min_weight_fraction_leaf=0.0,\n",
       "             n_estimators=100, n_iter_no_change=None, presort='auto',\n",
       "             random_state=4, subsample=1.0, tol=0.0001,\n",
       "             validation_fraction=0.1, verbose=0, warm_start=False)"
      ]
     },
     "execution_count": 9,
     "metadata": {},
     "output_type": "execute_result"
    }
   ],
   "source": [
    "model = give_reg_model_gb()\n",
    "test_model(model,xtrain,ytrain,xtest,ytest)"
   ]
  },
  {
   "cell_type": "code",
   "execution_count": 13,
   "metadata": {},
   "outputs": [
    {
     "name": "stdout",
     "output_type": "stream",
     "text": [
      "Bagging\n",
      "Margin  Accuracy\n",
      "0.10    44.55\n",
      "0.20    75.51\n",
      "0.30    90.68\n",
      "0.40    96.09\n",
      "0.50    98.35\n",
      " \n"
     ]
    },
    {
     "data": {
      "text/plain": [
       "BaggingRegressor(base_estimator=Ridge(alpha=0.8, copy_X=True, fit_intercept=True, max_iter=None,\n",
       "   normalize=False, random_state=None, solver='auto', tol=0.001),\n",
       "         bootstrap=True, bootstrap_features=False, max_features=1.0,\n",
       "         max_samples=1.0, n_estimators=100, n_jobs=None, oob_score=False,\n",
       "         random_state=0, verbose=0, warm_start=False)"
      ]
     },
     "execution_count": 13,
     "metadata": {},
     "output_type": "execute_result"
    }
   ],
   "source": [
    "model = give_reg_model_bagging()\n",
    "test_model(model,xtrain,ytrain,xtest,ytest)"
   ]
  },
  {
   "cell_type": "code",
   "execution_count": 11,
   "metadata": {},
   "outputs": [
    {
     "name": "stdout",
     "output_type": "stream",
     "text": [
      "Dimension of Our Dataset:  (6655, 15398)\n"
     ]
    }
   ],
   "source": [
    "xfeat,yfeat= create_dataset(30,rest_data,bid_2_stars_ne,bid_2_stars_e,bid_2_textenc,True,True)\n",
    "xtrain, xtest, ytrain, ytest = give_train_test(xfeat, yfeat)"
   ]
  },
  {
   "cell_type": "code",
   "execution_count": 14,
   "metadata": {},
   "outputs": [
    {
     "name": "stdout",
     "output_type": "stream",
     "text": [
      "Linear\n",
      "Margin  Accuracy\n",
      "0.10    44.63\n",
      "0.20    75.73\n",
      "0.30    90.76\n",
      "0.40    96.02\n",
      "0.50    98.42\n",
      " \n",
      "Random Forest\n",
      "Margin  Accuracy\n",
      "0.10    39.14\n",
      "0.20    71.22\n",
      "0.30    87.90\n",
      "0.40    94.52\n",
      "0.50    97.52\n",
      " \n",
      "SVM\n",
      "Margin  Accuracy\n",
      "0.10    36.29\n",
      "0.20    64.76\n",
      "0.30    81.59\n",
      "0.40    90.91\n",
      "0.50    95.42\n",
      " \n",
      "Gradient Boost\n",
      "Margin  Accuracy\n",
      "0.10    43.05\n",
      "0.20    73.93\n",
      "0.30    89.03\n",
      "0.40    95.72\n",
      "0.50    98.35\n",
      " \n",
      "Bagging\n",
      "Margin  Accuracy\n",
      "0.10    44.55\n",
      "0.20    75.51\n",
      "0.30    90.68\n",
      "0.40    96.09\n",
      "0.50    98.35\n",
      " \n"
     ]
    },
    {
     "data": {
      "text/plain": [
       "BaggingRegressor(base_estimator=Ridge(alpha=0.8, copy_X=True, fit_intercept=True, max_iter=None,\n",
       "   normalize=False, random_state=None, solver='auto', tol=0.001),\n",
       "         bootstrap=True, bootstrap_features=False, max_features=1.0,\n",
       "         max_samples=1.0, n_estimators=100, n_jobs=None, oob_score=False,\n",
       "         random_state=0, verbose=0, warm_start=False)"
      ]
     },
     "execution_count": 14,
     "metadata": {},
     "output_type": "execute_result"
    }
   ],
   "source": [
    "model = give_reg_model_linear()\n",
    "test_model(model,xtrain,ytrain,xtest,ytest)\n",
    "model = give_reg_model_rf()\n",
    "test_model(model,xtrain,ytrain,xtest,ytest)\n",
    "model = give_reg_model_svm()\n",
    "test_model(model,xtrain,ytrain,xtest,ytest)\n",
    "# model = give_reg_model_nn()\n",
    "# test_model(model,xtrain,ytrain,xtest,ytest)\n",
    "model = give_reg_model_gb()\n",
    "test_model(model,xtrain,ytrain,xtest,ytest)\n",
    "model = give_reg_model_bagging()\n",
    "test_model(model,xtrain,ytrain,xtest,ytest)"
   ]
  },
  {
   "cell_type": "code",
   "execution_count": 15,
   "metadata": {},
   "outputs": [
    {
     "name": "stdout",
     "output_type": "stream",
     "text": [
      "Dimension of Our Dataset:  (5603, 15398)\n"
     ]
    }
   ],
   "source": [
    "xfeat,yfeat= create_dataset(35,rest_data,bid_2_stars_ne,bid_2_stars_e,bid_2_textenc,True,True)\n",
    "xtrain, xtest, ytrain, ytest = give_train_test(xfeat, yfeat)"
   ]
  },
  {
   "cell_type": "code",
   "execution_count": 16,
   "metadata": {},
   "outputs": [
    {
     "name": "stdout",
     "output_type": "stream",
     "text": [
      "Linear\n",
      "Margin  Accuracy\n",
      "0.10    47.46\n",
      "0.20    77.52\n",
      "0.30    90.90\n",
      "0.40    96.43\n",
      "0.50    98.75\n",
      " \n",
      "Random Forest\n",
      "Margin  Accuracy\n",
      "0.10    43.98\n",
      "0.20    73.42\n",
      "0.30    88.40\n",
      "0.40    94.65\n",
      "0.50    97.77\n",
      " \n",
      "SVM\n",
      "Margin  Accuracy\n",
      "0.10    35.06\n",
      "0.20    64.32\n",
      "0.30    82.87\n",
      "0.40    90.90\n",
      "0.50    95.36\n",
      " \n",
      "Gradient Boost\n",
      "Margin  Accuracy\n",
      "0.10    44.34\n",
      "0.20    75.20\n",
      "0.30    89.38\n",
      "0.40    95.27\n",
      "0.50    98.39\n",
      " \n",
      "Bagging\n",
      "Margin  Accuracy\n",
      "0.10    47.64\n",
      "0.20    77.70\n",
      "0.30    90.90\n",
      "0.40    96.43\n",
      "0.50    98.75\n",
      " \n"
     ]
    },
    {
     "data": {
      "text/plain": [
       "BaggingRegressor(base_estimator=Ridge(alpha=0.8, copy_X=True, fit_intercept=True, max_iter=None,\n",
       "   normalize=False, random_state=None, solver='auto', tol=0.001),\n",
       "         bootstrap=True, bootstrap_features=False, max_features=1.0,\n",
       "         max_samples=1.0, n_estimators=100, n_jobs=None, oob_score=False,\n",
       "         random_state=0, verbose=0, warm_start=False)"
      ]
     },
     "execution_count": 16,
     "metadata": {},
     "output_type": "execute_result"
    }
   ],
   "source": [
    "model = give_reg_model_linear()\n",
    "test_model(model,xtrain,ytrain,xtest,ytest)\n",
    "model = give_reg_model_rf()\n",
    "test_model(model,xtrain,ytrain,xtest,ytest)\n",
    "model = give_reg_model_svm()\n",
    "test_model(model,xtrain,ytrain,xtest,ytest)\n",
    "# model = give_reg_model_nn()\n",
    "# test_model(model,xtrain,ytrain,xtest,ytest)\n",
    "model = give_reg_model_gb()\n",
    "test_model(model,xtrain,ytrain,xtest,ytest)\n",
    "model = give_reg_model_bagging()\n",
    "test_model(model,xtrain,ytrain,xtest,ytest)"
   ]
  }
 ],
 "metadata": {
  "kernelspec": {
   "display_name": "Python 3",
   "language": "python",
   "name": "python3"
  },
  "language_info": {
   "codemirror_mode": {
    "name": "ipython",
    "version": 3
   },
   "file_extension": ".py",
   "mimetype": "text/x-python",
   "name": "python",
   "nbconvert_exporter": "python",
   "pygments_lexer": "ipython3",
   "version": "3.7.2"
  }
 },
 "nbformat": 4,
 "nbformat_minor": 4
}
